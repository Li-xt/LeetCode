{
 "cells": [
  {
   "cell_type": "markdown",
   "metadata": {},
   "source": [
    "Solution_1 :"
   ]
  },
  {
   "cell_type": "code",
   "execution_count": 1,
   "metadata": {},
   "outputs": [],
   "source": [
    "class Solution(object):\n",
    "    def threeSumClosest(self, nums, target):\n",
    "        \"\"\"\n",
    "        :type nums: List[int]\n",
    "        :type target: int\n",
    "        :rtype: int\n",
    "        \"\"\"\n",
    "        N = len(nums)\n",
    "        nums.sort()\n",
    "        res = float('inf') # sum of 3 number\n",
    "        for t in range(N):\n",
    "            i, j = t + 1, N - 1\n",
    "            while i < j:\n",
    "                _sum = nums[t] + nums[i] + nums[j]\n",
    "                if abs(_sum - target) < abs(res - target):\n",
    "                    res = _sum\n",
    "                if _sum > target:\n",
    "                    j -= 1\n",
    "                elif _sum < target:\n",
    "                    i += 1\n",
    "                else:\n",
    "                    return target\n",
    "        return res\n"
   ]
  },
  {
   "cell_type": "markdown",
   "metadata": {},
   "source": [
    "Solution_2 :"
   ]
  },
  {
   "cell_type": "code",
   "execution_count": null,
   "metadata": {},
   "outputs": [],
   "source": [
    "class Solution:\n",
    "    def threeSumClosest(self, nums, target) :\n",
    "        \"\"\"\n",
    "        :type nums: List[int]\n",
    "        :type target: int\n",
    "        :rtype: int\n",
    "        \"\"\"\n",
    "        nums, r, end = sorted(nums), float('inf'), len(nums) - 1\n",
    "        for c in range(len(nums) - 2):\n",
    "            i, j = max(c + 1, bisect.bisect_left(nums, target - nums[end] - nums[c], c + 1, end) - 1), end\n",
    "            while r != target and i < j:\n",
    "                s = nums[c] + nums[i] + nums[j]\n",
    "                r, i, j = min(r, s, key=lambda x: abs(x - target)), i + (s < target), j - (s > target)\n",
    "        return r"
   ]
  }
 ],
 "metadata": {
  "kernelspec": {
   "display_name": "Python 3",
   "language": "python",
   "name": "python3"
  },
  "language_info": {
   "codemirror_mode": {
    "name": "ipython",
    "version": 3
   },
   "file_extension": ".py",
   "mimetype": "text/x-python",
   "name": "python",
   "nbconvert_exporter": "python",
   "pygments_lexer": "ipython3",
   "version": "3.7.1"
  }
 },
 "nbformat": 4,
 "nbformat_minor": 2
}
