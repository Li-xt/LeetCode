{
 "cells": [
  {
   "cell_type": "markdown",
   "metadata": {},
   "source": [
    "Solution_1 :"
   ]
  },
  {
   "cell_type": "code",
   "execution_count": null,
   "metadata": {},
   "outputs": [],
   "source": [
    "class Solution:\n",
    "    def validMountainArray(self, A):\n",
    "        \"\"\"\n",
    "        :type A: List[int]\n",
    "        :rtype: bool\n",
    "        \"\"\"\n",
    "        N = len(A)\n",
    "        if N < 3:\n",
    "            return False\n",
    "        i = 0\n",
    "        while i < N - 1:\n",
    "            if A[i] < A[i + 1]:\n",
    "                i += 1\n",
    "            else:\n",
    "                break\n",
    "        if i == 0 or i == N - 1: return False\n",
    "        while i < N - 1:\n",
    "            if A[i] > A[i + 1]:\n",
    "                i += 1\n",
    "            else:\n",
    "                break\n",
    "        return i == N - 1\n"
   ]
  }
 ],
 "metadata": {
  "kernelspec": {
   "display_name": "Python 3",
   "language": "python",
   "name": "python3"
  },
  "language_info": {
   "codemirror_mode": {
    "name": "ipython",
    "version": 3
   },
   "file_extension": ".py",
   "mimetype": "text/x-python",
   "name": "python",
   "nbconvert_exporter": "python",
   "pygments_lexer": "ipython3",
   "version": "3.7.1"
  }
 },
 "nbformat": 4,
 "nbformat_minor": 2
}
