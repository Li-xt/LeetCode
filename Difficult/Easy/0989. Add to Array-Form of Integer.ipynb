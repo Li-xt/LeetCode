{
 "cells": [
  {
   "cell_type": "markdown",
   "metadata": {},
   "source": [
    "Solution_1 :"
   ]
  },
  {
   "cell_type": "code",
   "execution_count": 1,
   "metadata": {},
   "outputs": [],
   "source": [
    "class Solution(object):\n",
    "    def addToArrayForm(self, A, K):\n",
    "        \"\"\"\n",
    "        :type A: List[int]\n",
    "        :type K: int\n",
    "        :rtype: List[int]\n",
    "        \"\"\"\n",
    "        ans = int(\"\".join(map(str, A))) + K\n",
    "        if ans == 0:\n",
    "            return [0]\n",
    "        res = []\n",
    "        while ans:\n",
    "            res.append(ans % 10)\n",
    "            ans //= 10\n",
    "        return res[::-1]"
   ]
  },
  {
   "cell_type": "markdown",
   "metadata": {},
   "source": [
    "Solution_2 :"
   ]
  },
  {
   "cell_type": "code",
   "execution_count": null,
   "metadata": {},
   "outputs": [],
   "source": [
    "class Solution:\n",
    "    def addToArrayForm(self, A: List[int], K: int) -> List[int]:\n",
    "        i, carry = 0, 0\n",
    "        overflow = []\n",
    "        \n",
    "        while K or carry:\n",
    "            if i < len(A):\n",
    "                A[-i-1] += carry + K%10\n",
    "                carry = A[-i-1] // 10\n",
    "                A[-i-1] %= 10\n",
    "                i += 1\n",
    "            else:\n",
    "                overflow.append(carry + K%10)\n",
    "                carry = overflow[-1]//10\n",
    "                overflow[-1] %= 10\n",
    "            K //= 10\n",
    "            \n",
    "        return overflow[::-1] + A "
   ]
  },
  {
   "cell_type": "markdown",
   "metadata": {},
   "source": [
    "Solution_3 :"
   ]
  },
  {
   "cell_type": "code",
   "execution_count": null,
   "metadata": {},
   "outputs": [],
   "source": [
    "class Solution(object):\n",
    "    def addToArrayForm(self, A, K):\n",
    "\n",
    "        s = ''\n",
    "        for i in A:\n",
    "            s += str(i)\n",
    "            \n",
    "        out = int(s) + K\n",
    "        \n",
    "        return list(map(lambda i: int(i), list(str(out))))"
   ]
  }
 ],
 "metadata": {
  "kernelspec": {
   "display_name": "Python 3",
   "language": "python",
   "name": "python3"
  },
  "language_info": {
   "codemirror_mode": {
    "name": "ipython",
    "version": 3
   },
   "file_extension": ".py",
   "mimetype": "text/x-python",
   "name": "python",
   "nbconvert_exporter": "python",
   "pygments_lexer": "ipython3",
   "version": "3.7.1"
  }
 },
 "nbformat": 4,
 "nbformat_minor": 2
}
