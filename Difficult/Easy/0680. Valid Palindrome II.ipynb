{
 "cells": [
  {
   "cell_type": "markdown",
   "metadata": {},
   "source": [
    "Solution_1 :"
   ]
  },
  {
   "cell_type": "code",
   "execution_count": 1,
   "metadata": {},
   "outputs": [],
   "source": [
    "class Solution:\n",
    "    def validPalindrome(self, s):\n",
    "        isPalindrome = lambda s : s == s[::-1]\n",
    "        strPart = lambda s,x : s[:x]+ s[x+1:]\n",
    "        \n",
    "        low = 0 \n",
    "        high = len(s)-1 \n",
    "        \n",
    "        while low < high :\n",
    "            if s[low] != s[high]:\n",
    "                return isPalindrome(strPart(s,low)) or isPalindrome(strPart(s,high))\n",
    "            low  += 1\n",
    "            high -= 1\n",
    "            \n",
    "        return True"
   ]
  },
  {
   "cell_type": "markdown",
   "metadata": {},
   "source": [
    "Solution_2 :"
   ]
  },
  {
   "cell_type": "code",
   "execution_count": null,
   "metadata": {},
   "outputs": [],
   "source": [
    "class Solution:\n",
    "    def validPalindrome(self, s: str) -> bool:\n",
    "        \n",
    "        if s == s[::-1]:\n",
    "            return True\n",
    "        \n",
    "        if len(s) == 3:\n",
    "            if s[0] == s[-1]:\n",
    "                return True\n",
    "            else:\n",
    "                return False\n",
    "            \n",
    "        halfl = len(s)//2\n",
    "        rem = 1 - (len(s) % 2)\n",
    "        \n",
    "        mismatch = 0\n",
    "        for i in range(0,halfl):\n",
    "            if s[i] != s[-i-1]:\n",
    "                mismatch = i\n",
    "                break\n",
    "        \n",
    "        if s[mismatch:halfl] == s[halfl-rem:-mismatch-1][::-1]:\n",
    "            return True\n",
    "        \n",
    "        if mismatch:\n",
    "            if s[mismatch+1:halfl+1] == s[halfl+1-rem:-mismatch][::-1]:\n",
    "                return True\n",
    "        else:\n",
    "            if s[mismatch+1:halfl+1] == s[halfl+1-rem:][::-1]:\n",
    "                return True\n",
    "           \n",
    "        return False"
   ]
  }
 ],
 "metadata": {
  "kernelspec": {
   "display_name": "Python 3",
   "language": "python",
   "name": "python3"
  },
  "language_info": {
   "codemirror_mode": {
    "name": "ipython",
    "version": 3
   },
   "file_extension": ".py",
   "mimetype": "text/x-python",
   "name": "python",
   "nbconvert_exporter": "python",
   "pygments_lexer": "ipython3",
   "version": "3.7.1"
  }
 },
 "nbformat": 4,
 "nbformat_minor": 2
}
