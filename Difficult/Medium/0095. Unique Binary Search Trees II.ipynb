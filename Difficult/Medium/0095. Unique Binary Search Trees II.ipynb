{
 "cells": [
  {
   "cell_type": "markdown",
   "metadata": {},
   "source": [
    "Solution_1 :"
   ]
  },
  {
   "cell_type": "code",
   "execution_count": 12,
   "metadata": {},
   "outputs": [],
   "source": [
    "# Definition for a binary tree node.\n",
    "# class TreeNode:\n",
    "#     def __init__(self, x):\n",
    "#         self.val = x\n",
    "#         self.left = None\n",
    "#         self.right = None\n",
    "\n",
    "class Solution:\n",
    "    def generateTrees(self, n):\n",
    "\n",
    "        if n == 0:\n",
    "            return []\n",
    "        return self.gen_trees(1, n, {})\n",
    "    \n",
    "    def gen_trees(self, s, e, memo):\n",
    "        if e < s:\n",
    "            return [None]\n",
    "        ret_list = []\n",
    "        if (s, e) in memo:\n",
    "            return memo[s, e]\n",
    "        print (memo)\n",
    "        for i in range(s, e + 1):\n",
    "            list_left = self.gen_trees(s, i - 1, memo)\n",
    "            list_right = self.gen_trees(i + 1, e, memo)\n",
    "            for left in list_left:\n",
    "                for right in list_right:\n",
    "                    root = TreeNode(i)\n",
    "                    root.left = left\n",
    "                    root.right = right\n",
    "                    ret_list.append(root)\n",
    "        memo[s, e] = ret_list\n",
    "        return ret_list\n",
    "        "
   ]
  },
  {
   "cell_type": "code",
   "execution_count": null,
   "metadata": {},
   "outputs": [],
   "source": []
  }
 ],
 "metadata": {
  "kernelspec": {
   "display_name": "Python 3",
   "language": "python",
   "name": "python3"
  },
  "language_info": {
   "codemirror_mode": {
    "name": "ipython",
    "version": 3
   },
   "file_extension": ".py",
   "mimetype": "text/x-python",
   "name": "python",
   "nbconvert_exporter": "python",
   "pygments_lexer": "ipython3",
   "version": "3.7.1"
  }
 },
 "nbformat": 4,
 "nbformat_minor": 4
}
