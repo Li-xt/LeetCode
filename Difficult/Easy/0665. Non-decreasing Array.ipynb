{
 "cells": [
  {
   "cell_type": "markdown",
   "metadata": {},
   "source": [
    "Solution_1 :"
   ]
  },
  {
   "cell_type": "code",
   "execution_count": 1,
   "metadata": {},
   "outputs": [],
   "source": [
    "class Solution:\n",
    "    def checkPossibility(self, nums):\n",
    "\n",
    "        a,b=nums[:],nums[:]\n",
    "        if len(nums)>2:\n",
    "            for i in range(0,len(nums)-1):\n",
    "                if a[i]>a[i+1]:\n",
    "                    del a[i]\n",
    "                    del b[i+1]\n",
    "                    return ((a == sorted(a)) or (b==sorted(b)))\n",
    "\n",
    "            else:\n",
    "                return True\n",
    "        else:\n",
    "            return True\n"
   ]
  },
  {
   "cell_type": "markdown",
   "metadata": {},
   "source": [
    "Solution_2 :"
   ]
  },
  {
   "cell_type": "code",
   "execution_count": null,
   "metadata": {},
   "outputs": [],
   "source": [
    "class Solution:\n",
    "    def checkPossibility(self, nums):\n",
    "        \"\"\"\n",
    "        :type nums: List[int]\n",
    "        :rtype: bool\n",
    "        \"\"\"\n",
    "        modified = False\n",
    "        for i in range(1, len(nums)):\n",
    "            if nums[i] < nums[i - 1]:\n",
    "                if modified:\n",
    "                    return False\n",
    "                if i >= 2 and nums[i] < nums[i - 2]:\n",
    "                    nums[i] = nums[i - 1]\n",
    "                modified = True\n",
    "        return True"
   ]
  },
  {
   "cell_type": "markdown",
   "metadata": {},
   "source": [
    "Solution_3 :"
   ]
  },
  {
   "cell_type": "code",
   "execution_count": null,
   "metadata": {},
   "outputs": [],
   "source": [
    "class Solution(object):\n",
    "    def checkPossibility(self, A):\n",
    "        p = None\n",
    "        for i in range(len(A) - 1):\n",
    "            if A[i] > A[i+1]:\n",
    "                if p is not None:\n",
    "                    return False\n",
    "                p = i\n",
    "\n",
    "        return (p is None or p == 0 or p == len(A)-2 or\n",
    "                A[p-1] <= A[p+1] or A[p] <= A[p+2])"
   ]
  }
 ],
 "metadata": {
  "kernelspec": {
   "display_name": "Python 3",
   "language": "python",
   "name": "python3"
  },
  "language_info": {
   "codemirror_mode": {
    "name": "ipython",
    "version": 3
   },
   "file_extension": ".py",
   "mimetype": "text/x-python",
   "name": "python",
   "nbconvert_exporter": "python",
   "pygments_lexer": "ipython3",
   "version": "3.7.1"
  }
 },
 "nbformat": 4,
 "nbformat_minor": 2
}
