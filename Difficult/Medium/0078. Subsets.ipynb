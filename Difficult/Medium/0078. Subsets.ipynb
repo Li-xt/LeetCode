{
 "cells": [
  {
   "cell_type": "markdown",
   "metadata": {},
   "source": [
    "Solution_1 :"
   ]
  },
  {
   "cell_type": "code",
   "execution_count": 2,
   "metadata": {},
   "outputs": [],
   "source": [
    "import itertools\n",
    "class Solution:\n",
    "    def subsets(self, nums) :\n",
    "        result = []\n",
    "        for i in range(len(nums)+1):\n",
    "            for ele in itertools.combinations(nums,i):\n",
    "                result.append(list(ele))\n",
    "        return result"
   ]
  },
  {
   "cell_type": "markdown",
   "metadata": {},
   "source": [
    "Solution_2 :"
   ]
  },
  {
   "cell_type": "code",
   "execution_count": null,
   "metadata": {},
   "outputs": [],
   "source": [
    "class Solution(object):\n",
    "    def subsets(self, nums):\n",
    "        \"\"\"\n",
    "        :type nums: List[int]\n",
    "        :rtype: List[List[int]]\n",
    "        \"\"\"\n",
    "        res = []\n",
    "        self.dfs(nums, 0, res, [])\n",
    "        return res\n",
    "    \n",
    "    def dfs(self, nums, index, res, path):\n",
    "        res.append(path)\n",
    "        for i in range(index, len(nums)):\n",
    "            self.dfs(nums, i + 1, res, path + [nums[i]])\n"
   ]
  },
  {
   "cell_type": "markdown",
   "metadata": {},
   "source": [
    "Solution_3 :"
   ]
  },
  {
   "cell_type": "code",
   "execution_count": null,
   "metadata": {},
   "outputs": [],
   "source": [
    "class Solution:    \n",
    "    def subsets(self, nums) :\n",
    "        result = []\n",
    "        if nums:\n",
    "            result.append([])\n",
    "            for number in nums:\n",
    "                to_append = []\n",
    "                for subset in result:\n",
    "                    to_append.append(subset + [number])\n",
    "                result += to_append\n",
    "        return result"
   ]
  }
 ],
 "metadata": {
  "kernelspec": {
   "display_name": "Python 3",
   "language": "python",
   "name": "python3"
  },
  "language_info": {
   "codemirror_mode": {
    "name": "ipython",
    "version": 3
   },
   "file_extension": ".py",
   "mimetype": "text/x-python",
   "name": "python",
   "nbconvert_exporter": "python",
   "pygments_lexer": "ipython3",
   "version": "3.7.1"
  }
 },
 "nbformat": 4,
 "nbformat_minor": 4
}
