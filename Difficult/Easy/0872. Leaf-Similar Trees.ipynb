{
 "cells": [
  {
   "cell_type": "markdown",
   "metadata": {},
   "source": [
    "Solution_1 :"
   ]
  },
  {
   "cell_type": "code",
   "execution_count": null,
   "metadata": {},
   "outputs": [],
   "source": [
    "# Definition for a binary tree node.\n",
    "# class TreeNode:\n",
    "#     def __init__(self, x):\n",
    "#         self.val = x\n",
    "#         self.left = None\n",
    "#         self.right = None\n",
    "\n",
    "class Solution:\n",
    "    def leafSimilar(self, root1, root2):\n",
    "        \"\"\"\n",
    "        :type root1: TreeNode\n",
    "        :type root2: TreeNode\n",
    "        :rtype: bool\n",
    "        \"\"\"\n",
    "        return self.getLeafs(root1) == self.getLeafs(root2)\n",
    "    \n",
    "    def getLeafs(self, root):\n",
    "        res = []\n",
    "        if not root:\n",
    "            return res\n",
    "        if not root.left and not root.right:\n",
    "            return [root.val]\n",
    "        res.extend(self.getLeafs(root.left))\n",
    "        res.extend(self.getLeafs(root.right))\n",
    "        return res\n"
   ]
  },
  {
   "cell_type": "markdown",
   "metadata": {},
   "source": [
    "Solution_2 :"
   ]
  },
  {
   "cell_type": "code",
   "execution_count": null,
   "metadata": {},
   "outputs": [],
   "source": [
    "# Definition for a binary tree node.\n",
    "# class TreeNode(object):\n",
    "#     def __init__(self, x):\n",
    "#         self.val = x\n",
    "#         self.left = None\n",
    "#         self.right = None\n",
    "\n",
    "class Solution(object):\n",
    "    def leafSimilar(self, root1, root2):\n",
    "        \"\"\"\n",
    "        :type root1: TreeNode\n",
    "        :type root2: TreeNode\n",
    "        :rtype: bool\n",
    "        \"\"\"\n",
    "        if not root1 and not root2:\n",
    "            return True\n",
    "        if not root1 or not root2:\n",
    "            return False\n",
    "        \n",
    "        leaf = []\n",
    "        stack = [root1]\n",
    "        \n",
    "        while stack:\n",
    "            cur = stack.pop()\n",
    "            if not cur.left and not cur.right:\n",
    "                leaf.append(cur.val)\n",
    "            if cur.left:\n",
    "                stack.append(cur.left)\n",
    "            if cur.right:\n",
    "                stack.append(cur.right)\n",
    "                \n",
    "        stack = [root2]\n",
    "        idx = 0\n",
    "        \n",
    "        while stack:\n",
    "            cur = stack.pop()\n",
    "            if not cur.left and not cur.right:\n",
    "                if idx >= len(leaf):\n",
    "                    return False\n",
    "                if cur.val != leaf[idx]:\n",
    "                    return False\n",
    "                idx += 1   \n",
    "            if cur.left:\n",
    "                stack.append(cur.left)\n",
    "            if cur.right:\n",
    "                stack.append(cur.right)\n",
    "                \n",
    "        return True"
   ]
  }
 ],
 "metadata": {
  "kernelspec": {
   "display_name": "Python 3",
   "language": "python",
   "name": "python3"
  },
  "language_info": {
   "codemirror_mode": {
    "name": "ipython",
    "version": 3
   },
   "file_extension": ".py",
   "mimetype": "text/x-python",
   "name": "python",
   "nbconvert_exporter": "python",
   "pygments_lexer": "ipython3",
   "version": "3.7.1"
  }
 },
 "nbformat": 4,
 "nbformat_minor": 2
}
