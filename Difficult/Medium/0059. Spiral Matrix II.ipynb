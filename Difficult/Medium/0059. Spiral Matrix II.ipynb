{
 "cells": [
  {
   "cell_type": "markdown",
   "metadata": {},
   "source": [
    "Solution_1 :"
   ]
  },
  {
   "cell_type": "code",
   "execution_count": 8,
   "metadata": {},
   "outputs": [],
   "source": [
    "class Solution:\n",
    "    def generateMatrix(self, n):\n",
    "        A = [[0] * n for _ in range(n)]\n",
    "        i, j, di, dj = 0, 0, 0, 1\n",
    "        for k in range(n*n):\n",
    "            A[i][j] = k + 1\n",
    "            if A[(i+di)%n][(j+dj)%n]:\n",
    "                di, dj = dj, -di\n",
    "            i += di\n",
    "            j += dj\n",
    "            print (i,j,di,dj)\n",
    "        return A"
   ]
  },
  {
   "cell_type": "markdown",
   "metadata": {},
   "source": [
    "Solution_2 :"
   ]
  },
  {
   "cell_type": "code",
   "execution_count": null,
   "metadata": {},
   "outputs": [],
   "source": [
    "class Solution:\n",
    "    def generateMatrix(self, n):\n",
    "        if (n == 0):\n",
    "            return []\n",
    "        rowLength = n\n",
    "        columnLength = n\n",
    "        OutPut = [[0 for i in range(n)] for j in range(n)] \n",
    "        num = 1\n",
    "        times = int(rowLength + 1 / 2)\n",
    "\n",
    "        for i in range(times):\n",
    "            for column in range(i, columnLength - i):\n",
    "                OutPut[i][column] = num\n",
    "                num += 1\n",
    "            for row in range(i + 1, rowLength - i):\n",
    "                OutPut[row][rowLength - i - 1] = num\n",
    "                num += 1\n",
    "            for columnSecond in range(columnLength - i - 2, i - 1, -1):\n",
    "                OutPut[rowLength - i - 1][columnSecond] = num\n",
    "                num += 1\n",
    "            for rowSecond in range(rowLength - i - 2, i, -1):\n",
    "                OutPut[rowSecond][i] = num\n",
    "                num += 1\n",
    "        return OutPut"
   ]
  }
 ],
 "metadata": {
  "kernelspec": {
   "display_name": "Python 3",
   "language": "python",
   "name": "python3"
  },
  "language_info": {
   "codemirror_mode": {
    "name": "ipython",
    "version": 3
   },
   "file_extension": ".py",
   "mimetype": "text/x-python",
   "name": "python",
   "nbconvert_exporter": "python",
   "pygments_lexer": "ipython3",
   "version": "3.7.1"
  }
 },
 "nbformat": 4,
 "nbformat_minor": 2
}
