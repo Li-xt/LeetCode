{
 "cells": [
  {
   "cell_type": "markdown",
   "metadata": {},
   "source": [
    "Solution_1 :"
   ]
  },
  {
   "cell_type": "code",
   "execution_count": null,
   "metadata": {},
   "outputs": [],
   "source": [
    "class Solution(object):\n",
    "    def longestUnivaluePath(self, root):\n",
    "        \"\"\"\n",
    "        :type root: TreeNode\n",
    "        :rtype: int\n",
    "        \"\"\"\n",
    "        if not root: return 0\n",
    "        self.res = 0\n",
    "        self.getPath(root)\n",
    "        return self.res\n",
    "    \n",
    "    def getPath(self, root):\n",
    "        if not root: return 0\n",
    "        left = self.getPath(root.left)\n",
    "        right = self.getPath(root.right)\n",
    "        pl, pr = 0, 0\n",
    "        if root.left and root.left.val == root.val: pl = 1 + left\n",
    "        if root.right and root.right.val == root.val: pr = 1 + right\n",
    "        self.res = max(self.res, pl + pr)\n",
    "        return max(pl, pr)\n"
   ]
  },
  {
   "cell_type": "markdown",
   "metadata": {},
   "source": [
    "Solution_2 :"
   ]
  },
  {
   "cell_type": "code",
   "execution_count": null,
   "metadata": {},
   "outputs": [],
   "source": [
    "class Solution:\n",
    "    def longestUnivaluePath(self, root):\n",
    "        \"\"\"\n",
    "        :type root: TreeNode\n",
    "        :rtype: int\n",
    "        \"\"\"\n",
    "        max_path = [0]\n",
    "        \n",
    "        def helper(node):\n",
    "            left = (0, None) if node.left is None else helper(node.left)\n",
    "            right = (0, None) if node.right is None else helper(node.right)\n",
    "            \n",
    "            if node.val == left[1] and node.val == right[1]:\n",
    "                max_path[0] = max(left[0] + right[0] + 1, max_path[0])\n",
    "                current_max = max(left[0], right[0]) + 1\n",
    "            elif node.val == left[1]:\n",
    "                max_path[0] = max(left[0] + 1, max_path[0])\n",
    "                current_max = left[0] + 1\n",
    "            elif node.val == right[1]:\n",
    "                max_path[0] = max(right[0] + 1, max_path[0])\n",
    "                current_max = right[0] + 1\n",
    "            else:\n",
    "                current_max = 1\n",
    "            \n",
    "            return (current_max, node.val)\n",
    "        \n",
    "        if root:\n",
    "            _ = helper(root)\n",
    "        \n",
    "        return max_path[0] if max_path[0] == 0 else max_path[0] - 1"
   ]
  },
  {
   "cell_type": "markdown",
   "metadata": {},
   "source": [
    "Solution_3 :"
   ]
  },
  {
   "cell_type": "code",
   "execution_count": null,
   "metadata": {},
   "outputs": [],
   "source": [
    "class Solution:\n",
    "    def dfs(self, node):\n",
    "            \n",
    "        if node.left == None and node.right == None:\n",
    "            return node.val, 0\n",
    "            \n",
    "        elif node.right == None:\n",
    "            v_l, d_l = self.dfs(node.left)\n",
    "            if node.val == v_l:\n",
    "                if d_l + 1 > self.max_path:\n",
    "                    self.max_path = d_l + 1\n",
    "                return node.val, d_l + 1\n",
    "            else:\n",
    "                return node.val, 0\n",
    "                \n",
    "        elif node.left == None:\n",
    "            v_r, d_r = self.dfs(node.right)\n",
    "                \n",
    "            if node.val == v_r:\n",
    "                if d_r + 1 > self.max_path:\n",
    "                    self.max_path = d_r + 1\n",
    "                return node.val, d_r + 1\n",
    "                \n",
    "            else:\n",
    "                return node.val, 0\n",
    "            \n",
    "        else: \n",
    "            v_l, d_l = self.dfs(node.left)\n",
    "            v_r, d_r = self.dfs(node.right)\n",
    "                \n",
    "            if node.val == v_l == v_r:\n",
    "                if ((d_l + 1) + (d_r + 1)) > self.max_path:\n",
    "                    self.max_path = (d_l + 1) + (d_r + 1)\n",
    "                return node.val, max((d_l + 1),(d_r + 1))\n",
    "                \n",
    "            elif node.val == v_l:\n",
    "                if d_l + 1 > self.max_path:\n",
    "                    self.max_path = d_l + 1\n",
    "                return node.val, d_l + 1\n",
    "                \n",
    "            elif node.val == v_r:\n",
    "                if d_r + 1 > self.max_path:\n",
    "                    self.max_path = d_r + 1\n",
    "                return node.val, d_r + 1\n",
    "                \n",
    "            else:\n",
    "                return node.val, 0\n",
    "    \n",
    "    \n",
    "    def longestUnivaluePath(self, root):\n",
    "        if root == None:\n",
    "            return 0\n",
    "     \n",
    "        self.max_path = 0 \n",
    "\n",
    "        self.dfs(root)\n",
    "        \n",
    "        return self.max_path"
   ]
  }
 ],
 "metadata": {
  "kernelspec": {
   "display_name": "Python 3",
   "language": "python",
   "name": "python3"
  },
  "language_info": {
   "codemirror_mode": {
    "name": "ipython",
    "version": 3
   },
   "file_extension": ".py",
   "mimetype": "text/x-python",
   "name": "python",
   "nbconvert_exporter": "python",
   "pygments_lexer": "ipython3",
   "version": "3.7.1"
  }
 },
 "nbformat": 4,
 "nbformat_minor": 2
}
