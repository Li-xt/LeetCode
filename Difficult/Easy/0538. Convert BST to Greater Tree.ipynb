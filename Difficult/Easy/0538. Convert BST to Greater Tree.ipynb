{
 "cells": [
  {
   "cell_type": "markdown",
   "metadata": {},
   "source": [
    "Solution_1 :"
   ]
  },
  {
   "cell_type": "code",
   "execution_count": 2,
   "metadata": {},
   "outputs": [],
   "source": [
    "# Definition for a binary tree node.\n",
    "# class TreeNode:\n",
    "#     def __init__(self, x):\n",
    "#         self.val = x\n",
    "#         self.left = None\n",
    "#         self.right = None\n",
    "\n",
    "class Solution:\n",
    "    def convertBST(self, root):\n",
    "        self.sum = 0 \n",
    "        self.after_order(root)\n",
    "        return root\n",
    "    \n",
    "    def after_order(self,node):\n",
    "        if not node :\n",
    "            return \n",
    "\n",
    "        self.after_order(node.right)\n",
    "        self.sum = self.sum + node.val\n",
    "        node.val = self.sum\n",
    "        self.after_order(node.left)\n",
    "\n"
   ]
  },
  {
   "cell_type": "markdown",
   "metadata": {},
   "source": [
    "Solution_2 :"
   ]
  },
  {
   "cell_type": "code",
   "execution_count": null,
   "metadata": {},
   "outputs": [],
   "source": [
    "class Solution(object):\n",
    "    def convertBST(self, root):\n",
    "        \"\"\"\n",
    "        :type root: TreeNode\n",
    "        :rtype: TreeNode\n",
    "        \"\"\"\n",
    "        tot = 0  # running total of keys to add\n",
    "        curr = root\n",
    "        s = []\n",
    "        # right-first inorder traversal storing sum of visited keys\n",
    "        while True:\n",
    "            if curr:\n",
    "                s.append(curr)\n",
    "                curr = curr.right\n",
    "            else:\n",
    "                if s:\n",
    "                    curr = s.pop()\n",
    "                    # update val/ running total\n",
    "                    curr.val, tot = curr.val + tot, tot + curr.val\n",
    "                    \n",
    "                    curr = curr.left\n",
    "                else:\n",
    "                    return root"
   ]
  }
 ],
 "metadata": {
  "kernelspec": {
   "display_name": "Python 3",
   "language": "python",
   "name": "python3"
  },
  "language_info": {
   "codemirror_mode": {
    "name": "ipython",
    "version": 3
   },
   "file_extension": ".py",
   "mimetype": "text/x-python",
   "name": "python",
   "nbconvert_exporter": "python",
   "pygments_lexer": "ipython3",
   "version": "3.7.1"
  }
 },
 "nbformat": 4,
 "nbformat_minor": 2
}
