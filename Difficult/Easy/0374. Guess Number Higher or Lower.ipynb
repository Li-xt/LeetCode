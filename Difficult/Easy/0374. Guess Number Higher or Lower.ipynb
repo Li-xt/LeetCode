{
 "cells": [
  {
   "cell_type": "markdown",
   "metadata": {},
   "source": [
    "Solution_1 : "
   ]
  },
  {
   "cell_type": "code",
   "execution_count": 1,
   "metadata": {},
   "outputs": [],
   "source": [
    "# The guess API is already defined for you.\n",
    "# @param num, your guess\n",
    "# @return -1 if my number is lower, 1 if my number is higher, otherwise return 0\n",
    "# def guess(num):\n",
    "\n",
    "class Solution(object):\n",
    "    def guessNumber(self, n):\n",
    "        \"\"\"\n",
    "        :type n: int\n",
    "        :rtype: int\n",
    "        \"\"\"\n",
    "        \n",
    "        left, right = 1,n \n",
    "        \n",
    "        if guess(1) ==0:\n",
    "            return 1\n",
    "        if guess(n) ==0:\n",
    "            return n\n",
    "        \n",
    "        while left<right:\n",
    "            mid = int( (left+right)/2 )\n",
    "            if guess(mid) == 0:\n",
    "                return mid \n",
    "            elif guess(mid) == 1:\n",
    "                left = mid\n",
    "            else:\n",
    "                right = mid\n",
    "        "
   ]
  },
  {
   "cell_type": "code",
   "execution_count": null,
   "metadata": {},
   "outputs": [],
   "source": []
  }
 ],
 "metadata": {
  "kernelspec": {
   "display_name": "Python 3",
   "language": "python",
   "name": "python3"
  },
  "language_info": {
   "codemirror_mode": {
    "name": "ipython",
    "version": 3
   },
   "file_extension": ".py",
   "mimetype": "text/x-python",
   "name": "python",
   "nbconvert_exporter": "python",
   "pygments_lexer": "ipython3",
   "version": "3.7.1"
  }
 },
 "nbformat": 4,
 "nbformat_minor": 2
}
