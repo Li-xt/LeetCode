{
 "cells": [
  {
   "cell_type": "markdown",
   "metadata": {},
   "source": [
    "Solution_1 :"
   ]
  },
  {
   "cell_type": "code",
   "execution_count": 1,
   "metadata": {},
   "outputs": [],
   "source": [
    "# https://www.cnblogs.com/grandyang/p/8456022.html\n",
    "class Solution(object):\n",
    "    def reachNumber(self, target):\n",
    "        \"\"\"\n",
    "        :type target: int\n",
    "        :rtype: int\n",
    "        \"\"\"\n",
    "        target = abs(target)\n",
    "        k = 0\n",
    "        sum_ = 0\n",
    "        while sum_ < target:\n",
    "            k += 1\n",
    "            sum_ += k\n",
    "        d = sum_ - target\n",
    "        if d % 2 == 0:\n",
    "            return k\n",
    "        return k + 1 + (k % 2)"
   ]
  },
  {
   "cell_type": "markdown",
   "metadata": {},
   "source": [
    "Solution_2 :"
   ]
  },
  {
   "cell_type": "code",
   "execution_count": 2,
   "metadata": {},
   "outputs": [],
   "source": [
    "# 思路：\n",
    "# 1. target 正负号不影响结果\n",
    "# 2. 假设所有的step都向右的和为s，这时转换一个数字n向左，即减去这个数字的两倍（s - 2 * n）\n",
    "# 3. 最多只有一个数字向左，即可达到target\n",
    "# 4. 因为 s 需要减去一个偶数2*n，所以target 与 s 必须同为偶数，或者奇数\n",
    "# 5. 完成\n",
    "class Solution(object):\n",
    "    def reachNumber(self, target):\n",
    "        target = abs(target)\n",
    "        n = int(math.ceil(math.sqrt(1 + 8 * target)/2 - 0.5))  # 一元二次方程的解\n",
    "        while target % 2 != n * ( n + 1 ) / 2 % 2:  # 同为奇数/偶数\n",
    "            n += 1\n",
    "        return n"
   ]
  }
 ],
 "metadata": {
  "kernelspec": {
   "display_name": "Python 3",
   "language": "python",
   "name": "python3"
  },
  "language_info": {
   "codemirror_mode": {
    "name": "ipython",
    "version": 3
   },
   "file_extension": ".py",
   "mimetype": "text/x-python",
   "name": "python",
   "nbconvert_exporter": "python",
   "pygments_lexer": "ipython3",
   "version": "3.7.1"
  }
 },
 "nbformat": 4,
 "nbformat_minor": 2
}
