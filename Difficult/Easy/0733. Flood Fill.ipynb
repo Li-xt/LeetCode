{
 "cells": [
  {
   "cell_type": "markdown",
   "metadata": {},
   "source": [
    "Solution_1 :"
   ]
  },
  {
   "cell_type": "code",
   "execution_count": 1,
   "metadata": {},
   "outputs": [],
   "source": [
    "class Solution(object):\n",
    "    def floodFill(self, image, sr, sc, newColor):\n",
    "        \"\"\"\n",
    "        :type image: List[List[int]]\n",
    "        :type sr: int\n",
    "        :type sc: int\n",
    "        :type newColor: int\n",
    "        :rtype: List[List[int]]\n",
    "        \"\"\"\n",
    "        SR, SC = len(image), len(image[0])\n",
    "        color = image[sr][sc]\n",
    "        if color == newColor: return image\n",
    "        def dfs(r, c):\n",
    "            if image[r][c] == color:\n",
    "                image[r][c] = newColor\n",
    "                if r >= 1: dfs(r - 1, c)\n",
    "                if r < SR - 1: dfs(r + 1, c)\n",
    "                if c >= 1: dfs(r, c - 1)\n",
    "                if c < SC - 1: dfs(r, c + 1)\n",
    "        dfs(sr, sc)\n",
    "        return image\n"
   ]
  },
  {
   "cell_type": "markdown",
   "metadata": {},
   "source": [
    "Solution_2 :"
   ]
  },
  {
   "cell_type": "code",
   "execution_count": null,
   "metadata": {},
   "outputs": [],
   "source": [
    "class Solution:\n",
    "    def floodFill(self, image, sr, sc, newColor):\n",
    "        \"\"\"\n",
    "        :type image: List[List[int]]\n",
    "        :type sr: int\n",
    "        :type sc: int\n",
    "        :type newColor: int\n",
    "        :rtype: List[List[int]]\n",
    "        \"\"\"\n",
    "        que = collections.deque()\n",
    "        que.append((sr, sc))\n",
    "        start = image[sr][sc]\n",
    "        if start == newColor: return image\n",
    "        M, N = len(image), len(image[0])\n",
    "        directions = [(0, 1), (0, -1), (1, 0), (-1, 0)]\n",
    "        while que:\n",
    "            pos = que.popleft()\n",
    "            image[pos[0]][pos[1]] = newColor\n",
    "            for d in directions:\n",
    "                newx, newy = pos[0] + d[0], pos[1] + d[1]\n",
    "                if 0 <= newx < M and 0 <= newy < N and image[newx][newy] == start:\n",
    "                    que.append((newx, newy))\n",
    "        return image"
   ]
  }
 ],
 "metadata": {
  "kernelspec": {
   "display_name": "Python 3",
   "language": "python",
   "name": "python3"
  },
  "language_info": {
   "codemirror_mode": {
    "name": "ipython",
    "version": 3
   },
   "file_extension": ".py",
   "mimetype": "text/x-python",
   "name": "python",
   "nbconvert_exporter": "python",
   "pygments_lexer": "ipython3",
   "version": "3.7.1"
  }
 },
 "nbformat": 4,
 "nbformat_minor": 2
}
