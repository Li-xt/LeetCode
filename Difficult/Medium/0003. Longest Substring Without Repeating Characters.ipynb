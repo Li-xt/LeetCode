{
 "cells": [
  {
   "cell_type": "markdown",
   "metadata": {},
   "source": [
    "Solution_1 :"
   ]
  },
  {
   "cell_type": "code",
   "execution_count": null,
   "metadata": {},
   "outputs": [],
   "source": [
    "class Solution(object):\n",
    "    def lengthOfLongestSubstring(self, s):\n",
    "        \"\"\"\n",
    "        :type s: str\n",
    "        :rtype: int\n",
    "        \"\"\"\n",
    "        left, right = 0, 0\n",
    "        chars = set()\n",
    "        res = 0\n",
    "        while left < len(s) and right < len(s):\n",
    "            if s[right] in chars:\n",
    "                if s[left] in chars:\n",
    "                    chars.remove(s[left])\n",
    "                left += 1\n",
    "            else:\n",
    "                chars.add(s[right])\n",
    "                right += 1\n",
    "                res = max(res, len(chars))\n",
    "        return res\n",
    "\n"
   ]
  },
  {
   "cell_type": "markdown",
   "metadata": {},
   "source": [
    "Solution_2 :"
   ]
  },
  {
   "cell_type": "code",
   "execution_count": null,
   "metadata": {},
   "outputs": [],
   "source": [
    "class Solution(object):\n",
    "    def lengthOfLongestSubstring(self, s):\n",
    "        \"\"\"\n",
    "        :type s: str\n",
    "        :rtype: int\n",
    "        \"\"\"\n",
    "        left, right = 0, 0\n",
    "        res = 0\n",
    "        chars = dict()\n",
    "        for right in range(len(s)):\n",
    "            if s[right] in chars:\n",
    "                left = max(left, chars[s[right]] + 1)\n",
    "            chars[s[right]] = right\n",
    "            res = max(res, right - left + 1)\n",
    "        return res\n"
   ]
  },
  {
   "cell_type": "markdown",
   "metadata": {},
   "source": [
    "Solution_3 :"
   ]
  },
  {
   "cell_type": "code",
   "execution_count": null,
   "metadata": {},
   "outputs": [],
   "source": [
    "class Solution(object):\n",
    "    def lengthOfLongestSubstring(self, st):\n",
    "        if len(st) == 0:\n",
    "            return 0\n",
    "        hashy = {}\n",
    "        i = 0\n",
    "        j = 0\n",
    "        mx = 0\n",
    "        \n",
    "        for k, v in enumerate(st):\n",
    "            if v in hashy:\n",
    "                \n",
    "                j = j if j > hashy[v]+1 else hashy[v]+1\n",
    "                \n",
    "            hashy[v] = k\n",
    "            mx = mx if mx > i - j + 1 else i - j + 1\n",
    "            i += 1\n",
    "        return mx\n"
   ]
  },
  {
   "cell_type": "markdown",
   "metadata": {},
   "source": [
    "Solution_4 :"
   ]
  },
  {
   "cell_type": "code",
   "execution_count": null,
   "metadata": {},
   "outputs": [],
   "source": [
    "class Solution(object):\n",
    "    def lengthOfLongestSubstring(self, s):\n",
    "        last, res, st = {}, 0, 0\n",
    "        for i, v in enumerate(s):\n",
    "            if v not in last or last[v] < st:\n",
    "                res = max(res, i - st + 1)\n",
    "            else:\n",
    "                st = last[v] + 1\n",
    "            last[v] = i\n",
    "        return res"
   ]
  }
 ],
 "metadata": {
  "kernelspec": {
   "display_name": "Python 3",
   "language": "python",
   "name": "python3"
  },
  "language_info": {
   "codemirror_mode": {
    "name": "ipython",
    "version": 3
   },
   "file_extension": ".py",
   "mimetype": "text/x-python",
   "name": "python",
   "nbconvert_exporter": "python",
   "pygments_lexer": "ipython3",
   "version": "3.7.1"
  }
 },
 "nbformat": 4,
 "nbformat_minor": 2
}
