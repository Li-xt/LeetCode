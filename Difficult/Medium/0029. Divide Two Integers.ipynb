{
 "cells": [
  {
   "cell_type": "markdown",
   "metadata": {},
   "source": [
    "Solution_1 :"
   ]
  },
  {
   "cell_type": "code",
   "execution_count": 27,
   "metadata": {},
   "outputs": [],
   "source": [
    "class Solution(object):\n",
    "    def divide(self, dividend, divisor):\n",
    "        \"\"\"\n",
    "        :type dividend: int\n",
    "        :type divisor: int\n",
    "        :rtype: int\n",
    "        \"\"\"\n",
    "        neg = (dividend >= 0) ^ (divisor >= 0)\n",
    "        dividend, divisor = abs(dividend), abs(divisor)\n",
    "\n",
    "        pos, base = 1, divisor \n",
    "\n",
    "        while base <= dividend:\n",
    "            pos <<= 1\n",
    "            base <<= 1\n",
    "        base >>= 1\n",
    "        pos >>= 1\n",
    "\n",
    "        res = 0\n",
    "        while pos > 0:\n",
    "            if base <= dividend:\n",
    "                res += pos\n",
    "                dividend -= base\n",
    "            base >>= 1\n",
    "            pos >>= 1\n",
    "            \n",
    "        val = -res if neg else res\n",
    "        return 2 ** 31 -1 if val > 2 ** 31 -1 else val\n"
   ]
  },
  {
   "cell_type": "markdown",
   "metadata": {},
   "source": [
    "Solution_2 :"
   ]
  },
  {
   "cell_type": "code",
   "execution_count": 29,
   "metadata": {},
   "outputs": [],
   "source": [
    "class Solution:\n",
    "    def divide(self, dividend: int, divisor: int) -> int:\n",
    "        a, b = abs(dividend), abs(divisor)\n",
    "        neg = dividend < 0 and divisor > 0 or dividend > 0 and divisor < 0 #sign\n",
    "        origdiv = b\n",
    "        \n",
    "        ans = 0\n",
    "        while a >= origdiv:\n",
    "            cur = 1\n",
    "            while a >= (b << 1):\n",
    "                b <<= 1\n",
    "                cur <<= 1\n",
    "\n",
    "            a -= b # update long division\n",
    "            b = origdiv # reset\n",
    "            ans += cur\n",
    "\n",
    "        ans = -ans if neg else ans\n",
    "        print(ans)\n",
    "        INT_MAX = 2147483647 # check overflow\n",
    "        if ans > INT_MAX:\n",
    "            ans = INT_MAX\n",
    "        if ans < -INT_MAX - 1:\n",
    "            ans = -INT_MAX - 1\n",
    "        return ans"
   ]
  }
 ],
 "metadata": {
  "kernelspec": {
   "display_name": "Python 3",
   "language": "python",
   "name": "python3"
  },
  "language_info": {
   "codemirror_mode": {
    "name": "ipython",
    "version": 3
   },
   "file_extension": ".py",
   "mimetype": "text/x-python",
   "name": "python",
   "nbconvert_exporter": "python",
   "pygments_lexer": "ipython3",
   "version": "3.7.1"
  }
 },
 "nbformat": 4,
 "nbformat_minor": 2
}
