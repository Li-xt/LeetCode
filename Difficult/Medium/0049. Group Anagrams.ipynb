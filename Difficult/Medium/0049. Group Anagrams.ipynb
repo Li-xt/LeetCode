{
 "cells": [
  {
   "cell_type": "markdown",
   "metadata": {},
   "source": [
    "Solution_1 :"
   ]
  },
  {
   "cell_type": "code",
   "execution_count": 7,
   "metadata": {},
   "outputs": [],
   "source": [
    "from  collections import defaultdict\n",
    "class Solution(object):\n",
    "    def groupAnagrams(self, strs):\n",
    "        \"\"\"\n",
    "        :type strs: List[str]\n",
    "        :rtype: List[List[str]]\n",
    "        \"\"\"\n",
    "        res = defaultdict(list)\n",
    "        for string in strs:\n",
    "            sorted_str = ''.join(sorted(string))\n",
    "            res[sorted_str].append(string)\n",
    "        return list(res.values())"
   ]
  },
  {
   "cell_type": "markdown",
   "metadata": {},
   "source": [
    "Solution_2 :"
   ]
  },
  {
   "cell_type": "code",
   "execution_count": 14,
   "metadata": {},
   "outputs": [],
   "source": [
    "import collections\n",
    "class Solution:\n",
    "    def groupAnagrams(self, strs) :\n",
    "        sortedstrs = [''.join(sorted(s)) for s in strs]\n",
    "        freq = collections.defaultdict(list)\n",
    "        \n",
    "        for i in range(len(strs)):\n",
    "            freq[sortedstrs[i]] += strs[i],\n",
    "        print (freq)\n",
    "        res = []\n",
    "        for k, v in freq.items():\n",
    "            res += v,\n",
    "        return res"
   ]
  }
 ],
 "metadata": {
  "kernelspec": {
   "display_name": "Python 3",
   "language": "python",
   "name": "python3"
  },
  "language_info": {
   "codemirror_mode": {
    "name": "ipython",
    "version": 3
   },
   "file_extension": ".py",
   "mimetype": "text/x-python",
   "name": "python",
   "nbconvert_exporter": "python",
   "pygments_lexer": "ipython3",
   "version": "3.7.1"
  }
 },
 "nbformat": 4,
 "nbformat_minor": 2
}
