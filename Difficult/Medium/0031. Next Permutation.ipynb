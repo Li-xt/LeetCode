{
 "cells": [
  {
   "cell_type": "markdown",
   "metadata": {},
   "source": [
    "Solution_1 :"
   ]
  },
  {
   "cell_type": "code",
   "execution_count": null,
   "metadata": {},
   "outputs": [],
   "source": [
    "class Solution(object):\n",
    "    def nextPermutation(self, nums):\n",
    "        \"\"\"\n",
    "        :type nums: List[int]\n",
    "        :rtype: void Do not return anything, modify nums in-place instead.\n",
    "        \"\"\"\n",
    "        n=len(nums)\n",
    "        if n>1:\n",
    "            for i in range(n-1,0,-1):\n",
    "                if nums[i]>nums[i-1]:\n",
    "                    b,j=nums[i],i\n",
    "                    for k in range(i+1,n):\n",
    "                        if nums[k]>nums[i-1]:\n",
    "                            b,j=nums[k],k\n",
    "                    nums[j]=nums[i-1]\n",
    "                    nums[i-1]=b\n",
    "                    x=nums[i:n]\n",
    "                    x.sort()\n",
    "                    nums[i:n]=x\n",
    "                    break\n",
    "                elif i==1 and nums[i]<nums[i-1]:\n",
    "                    nums.sort()"
   ]
  },
  {
   "cell_type": "markdown",
   "metadata": {},
   "source": [
    "Solution_2 :"
   ]
  },
  {
   "cell_type": "code",
   "execution_count": 10,
   "metadata": {},
   "outputs": [],
   "source": [
    "class Solution:\n",
    "    def nextPermutation(self, nums):\n",
    "        \"\"\"\n",
    "        Do not return anything, modify nums in-place instead.\n",
    "        \"\"\"\n",
    "        idx = j = len(nums) - 1\n",
    "        while idx > 0 and nums[idx] <= nums[idx - 1]:  # <=\n",
    "            idx -= 1\n",
    "        if idx > 0:\n",
    "            while nums[j] <= nums[idx - 1]:  # <=\n",
    "                j -= 1\n",
    "            nums[idx - 1], nums[j] = nums[j], nums[idx - 1]\n",
    "            \n",
    "        nums[idx:] = reversed(nums[idx:])"
   ]
  }
 ],
 "metadata": {
  "kernelspec": {
   "display_name": "Python 3",
   "language": "python",
   "name": "python3"
  },
  "language_info": {
   "codemirror_mode": {
    "name": "ipython",
    "version": 3
   },
   "file_extension": ".py",
   "mimetype": "text/x-python",
   "name": "python",
   "nbconvert_exporter": "python",
   "pygments_lexer": "ipython3",
   "version": "3.7.1"
  }
 },
 "nbformat": 4,
 "nbformat_minor": 2
}
