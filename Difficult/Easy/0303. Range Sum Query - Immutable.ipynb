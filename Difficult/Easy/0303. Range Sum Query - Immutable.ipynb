{
 "cells": [
  {
   "cell_type": "markdown",
   "metadata": {},
   "source": [
    "Solution_1 : "
   ]
  },
  {
   "cell_type": "code",
   "execution_count": 2,
   "metadata": {},
   "outputs": [],
   "source": [
    "class NumArray(object):\n",
    "\n",
    "    def __init__(self, nums):\n",
    "        self.nums = nums \n",
    "\n",
    "    def sumRange(self, i, j):\n",
    "        return sum(self.nums[i:j+1])"
   ]
  },
  {
   "cell_type": "markdown",
   "metadata": {},
   "source": [
    "Solution_2 : "
   ]
  },
  {
   "cell_type": "code",
   "execution_count": 3,
   "metadata": {},
   "outputs": [],
   "source": [
    "class NumArray(object):\n",
    "\n",
    "    def __init__(self, nums):\n",
    "\n",
    "        array_length = len(nums)\n",
    "        self._look_up = [None] * array_length\n",
    "        if array_length != 0:\n",
    "            self._look_up[0] = nums[0]\n",
    "\n",
    "            for i in range(1, array_length):\n",
    "                self._look_up[i] = self._look_up[i - 1] + nums[i]\n",
    "\n",
    "    def sumRange(self, i, j):\n",
    "        if i == 0:\n",
    "            return self._look_up[j]\n",
    "        else:\n",
    "            return self._look_up[j] - self._look_up[i - 1]"
   ]
  },
  {
   "cell_type": "code",
   "execution_count": null,
   "metadata": {},
   "outputs": [],
   "source": []
  }
 ],
 "metadata": {
  "kernelspec": {
   "display_name": "Python 3",
   "language": "python",
   "name": "python3"
  },
  "language_info": {
   "codemirror_mode": {
    "name": "ipython",
    "version": 3
   },
   "file_extension": ".py",
   "mimetype": "text/x-python",
   "name": "python",
   "nbconvert_exporter": "python",
   "pygments_lexer": "ipython3",
   "version": "3.7.1"
  }
 },
 "nbformat": 4,
 "nbformat_minor": 2
}
