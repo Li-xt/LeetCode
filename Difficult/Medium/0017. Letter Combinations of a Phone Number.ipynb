{
 "cells": [
  {
   "cell_type": "markdown",
   "metadata": {},
   "source": [
    "Solution_1 :"
   ]
  },
  {
   "cell_type": "code",
   "execution_count": null,
   "metadata": {},
   "outputs": [],
   "source": [
    "class Solution(object):\n",
    "    def letterCombinations(self, digits):\n",
    "        \"\"\"\n",
    "        :type digits: str\n",
    "        :rtype: List[str]\n",
    "        \"\"\"\n",
    "        if digits == \"\": return []\n",
    "        d = {'2' : \"abc\", '3' : \"def\", '4' : \"ghi\", '5' : \"jkl\", '6' : \"mno\", '7' : \"pqrs\", '8' : \"tuv\", '9' : \"wxyz\"}\n",
    "        res = ['']\n",
    "        for e in digits:\n",
    "            res = [w + c  for w in res for c in d[e]]\n",
    "        return res\n"
   ]
  },
  {
   "cell_type": "markdown",
   "metadata": {},
   "source": [
    "Solution_2 :"
   ]
  },
  {
   "cell_type": "code",
   "execution_count": 1,
   "metadata": {},
   "outputs": [],
   "source": [
    "from itertools import product\n",
    "class Solution(object):\n",
    "    def letterCombinations(self, digits):\n",
    "        \"\"\"\n",
    "        :type digits: str\n",
    "        :rtype: List[str]\n",
    "        \"\"\"\n",
    "        if not digits:\n",
    "            return []\n",
    "        kvmaps = {'2': 'abc', '3': 'def', '4': 'ghi', '5': 'jkl', '6': 'mno', '7': 'pqrs', '8': 'tuv', '9': 'wxyz'}\n",
    "        answer = []\n",
    "        for each in product(*[kvmaps[key] for key in digits]):\n",
    "            answer.append(''.join(each))\n",
    "        return answer\n"
   ]
  },
  {
   "cell_type": "markdown",
   "metadata": {},
   "source": [
    "Solution_3 :"
   ]
  },
  {
   "cell_type": "code",
   "execution_count": null,
   "metadata": {},
   "outputs": [],
   "source": [
    "class Solution(object):\n",
    "    def letterCombinations(self, digits):\n",
    "        \"\"\"\n",
    "        :type digits: str\n",
    "        :rtype: List[str]\n",
    "        \"\"\"\n",
    "        kvmaps = {'2': 'abc', '3': 'def', '4': 'ghi', '5': 'jkl', '6': 'mno', '7': 'pqrs', '8': 'tuv', '9': 'wxyz'}\n",
    "        res = []\n",
    "        self.dfs(digits, 0, res, '', kvmaps)\n",
    "        return res\n",
    "    \n",
    "    def dfs(self, string, index, res, path, kvmaps):\n",
    "        if index == len(string):\n",
    "            if path != '':\n",
    "                res.append(path)\n",
    "            return\n",
    "        for j in kvmaps[string[index]]:\n",
    "            self.dfs(string, index + 1, res, path + j, kvmaps)\n"
   ]
  },
  {
   "cell_type": "markdown",
   "metadata": {},
   "source": [
    "Solution_4 :"
   ]
  },
  {
   "cell_type": "code",
   "execution_count": null,
   "metadata": {},
   "outputs": [],
   "source": [
    "class Solution:\n",
    "    def letterCombinations(self, digits: str) -> 'List[str]':\n",
    "        if not digits:\n",
    "            return []\n",
    "        digit_letter = {'2': ['a', 'b', 'c'], '3': ['d', 'e', 'f'], '4': ['g', 'h', 'i'], '5': ['j', 'k', 'l'], '6': ['m', 'n', 'o'], '7': ['p', 'q', 'r', 's'], '8': ['t', 'u', 'v'], '9': ['w', 'x', 'y', 'z']}\n",
    "        res = ['']\n",
    "        for d in digits:\n",
    "            res = [s + l for s in res for l in digit_letter[d]]\n",
    "        return res"
   ]
  },
  {
   "cell_type": "markdown",
   "metadata": {},
   "source": [
    "Solution_5 :"
   ]
  },
  {
   "cell_type": "code",
   "execution_count": 7,
   "metadata": {},
   "outputs": [],
   "source": [
    "from collections import defaultdict\n",
    "\n",
    "\n",
    "class Solution:\n",
    "    def letterCombinations(self, digits):\n",
    "        if not digits:\n",
    "            return []\n",
    "        digit_letter = defaultdict(list)\n",
    "        start = 0\n",
    "        for i in range(2, 10):\n",
    "            count = 4 if i == 7 or i == 9 else 3\n",
    "            for j in range(count):\n",
    "                digit_letter[str(i)].append(chr(ord('a') + start + j))\n",
    "            start += count\n",
    "        \n",
    "        res = ['']\n",
    "        for d in digits:\n",
    "            res = [s + l for s in res for l in digit_letter[d]]\n",
    "        return res"
   ]
  }
 ],
 "metadata": {
  "kernelspec": {
   "display_name": "Python 3",
   "language": "python",
   "name": "python3"
  },
  "language_info": {
   "codemirror_mode": {
    "name": "ipython",
    "version": 3
   },
   "file_extension": ".py",
   "mimetype": "text/x-python",
   "name": "python",
   "nbconvert_exporter": "python",
   "pygments_lexer": "ipython3",
   "version": "3.7.1"
  }
 },
 "nbformat": 4,
 "nbformat_minor": 2
}
