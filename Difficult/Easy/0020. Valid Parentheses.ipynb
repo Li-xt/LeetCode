{
 "cells": [
  {
   "cell_type": "markdown",
   "metadata": {},
   "source": [
    "Solution_1:"
   ]
  },
  {
   "cell_type": "code",
   "execution_count": 2,
   "metadata": {},
   "outputs": [],
   "source": [
    "class Solution:\n",
    "    def isValid(self, s: str) -> bool:\n",
    "        dic = {')':'(','}':'{',']':'['}\n",
    "        res = [None] \n",
    "        for c in s:\n",
    "            if c in dic:\n",
    "                if dic[c] != res.pop():\n",
    "                    return False \n",
    "                    break\n",
    "            else:\n",
    "                res.append(c)\n",
    "        return res == [None]"
   ]
  },
  {
   "cell_type": "markdown",
   "metadata": {},
   "source": [
    "Solution_2:"
   ]
  },
  {
   "cell_type": "code",
   "execution_count": null,
   "metadata": {},
   "outputs": [],
   "source": [
    "class Solution(object):\n",
    "    def isValid(self, s):\n",
    "        stack = []\n",
    "        for c in s:\n",
    "            if not stack:\n",
    "                stack.append(c)\n",
    "            else:\n",
    "                if c in ['(', '[', '{']:\n",
    "                    stack.append(c)\n",
    "                else:\n",
    "                    top = stack.pop()\n",
    "                    if (top == '(' and c != ')') or (top == '[' and c != ']') or (top == '{' and c != '}'):\n",
    "                        return False\n",
    "        return not stack"
   ]
  }
 ],
 "metadata": {
  "kernelspec": {
   "display_name": "Python 3",
   "language": "python",
   "name": "python3"
  },
  "language_info": {
   "codemirror_mode": {
    "name": "ipython",
    "version": 3
   },
   "file_extension": ".py",
   "mimetype": "text/x-python",
   "name": "python",
   "nbconvert_exporter": "python",
   "pygments_lexer": "ipython3",
   "version": "3.7.1"
  }
 },
 "nbformat": 4,
 "nbformat_minor": 2
}
