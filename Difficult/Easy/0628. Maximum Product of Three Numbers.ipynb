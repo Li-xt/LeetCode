{
 "cells": [
  {
   "cell_type": "markdown",
   "metadata": {},
   "source": [
    "Solution_1 :"
   ]
  },
  {
   "cell_type": "code",
   "execution_count": 2,
   "metadata": {},
   "outputs": [],
   "source": [
    "class Solution:\n",
    "    def maximumProduct(self, nums):\n",
    "        nums.sort()\n",
    "        right = nums[-3] * nums[-2] * nums[-1]\n",
    "        left = nums[0] * nums[1] * nums[-1]\n",
    "        return max(left, right)"
   ]
  },
  {
   "cell_type": "markdown",
   "metadata": {},
   "source": [
    "Solution_2 :"
   ]
  },
  {
   "cell_type": "code",
   "execution_count": 3,
   "metadata": {},
   "outputs": [],
   "source": [
    "class Solution(object):\n",
    "    def maximumProduct(self, nums):\n",
    "        min1 = float('inf') #smallest\n",
    "        min2 = float('inf') #second smallest\n",
    "\n",
    "        max1 = float('-inf') #largest\n",
    "        max2 = float('-inf') #second largest\n",
    "        max3 = float('-inf') #third largest\n",
    "\n",
    "        for n in nums:\n",
    "            if n<=min1:\n",
    "                min2 = min1\n",
    "                min1 = n\n",
    "            elif n<=min2:\n",
    "                min2 = n\n",
    "            \n",
    "            if n>=max1:\n",
    "                max3 = max2\n",
    "                max2 = max1\n",
    "                max1 = n\n",
    "            elif n>=max2:\n",
    "                max3 = max2\n",
    "                max2 = n\n",
    "            elif n>=max3:\n",
    "                max3 = n\n",
    "\n",
    "        return max(min1*min2*max1, max1*max2*max3)"
   ]
  }
 ],
 "metadata": {
  "kernelspec": {
   "display_name": "Python 3",
   "language": "python",
   "name": "python3"
  },
  "language_info": {
   "codemirror_mode": {
    "name": "ipython",
    "version": 3
   },
   "file_extension": ".py",
   "mimetype": "text/x-python",
   "name": "python",
   "nbconvert_exporter": "python",
   "pygments_lexer": "ipython3",
   "version": "3.7.1"
  }
 },
 "nbformat": 4,
 "nbformat_minor": 2
}
