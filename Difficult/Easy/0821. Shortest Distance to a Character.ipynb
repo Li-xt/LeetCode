{
 "cells": [
  {
   "cell_type": "markdown",
   "metadata": {},
   "source": [
    "Solution_1 :"
   ]
  },
  {
   "cell_type": "code",
   "execution_count": null,
   "metadata": {},
   "outputs": [],
   "source": [
    "class Solution:\n",
    "    def shortestToChar(self, S, C):\n",
    "        \"\"\"\n",
    "        :type S: str\n",
    "        :type C: str\n",
    "        :rtype: List[int]\n",
    "        \"\"\"\n",
    "        result=[]\n",
    "        pre=float('-inf')\n",
    "        for i ,val in enumerate(S):\n",
    "            if val==C:\n",
    "                pre=i\n",
    "            result.append(i-pre)\n",
    "        pre=float('inf')\n",
    "        for  i in range(len(S)-1,-1,-1):\n",
    "            if S[i]==C:\n",
    "                pre=i\n",
    "            result[i]=min(result[i],pre-i)\n",
    "        return result\n"
   ]
  },
  {
   "cell_type": "markdown",
   "metadata": {},
   "source": [
    "Solution_2 :"
   ]
  },
  {
   "cell_type": "code",
   "execution_count": null,
   "metadata": {},
   "outputs": [],
   "source": [
    "class Solution:\n",
    "    def shortestToChar(self, S: str, C: str) -> List[int]:\n",
    "        S = list(S)\n",
    "        idx = [i for i,x in enumerate(S) if x==C]\n",
    "        n = len(idx)\n",
    "        if n==1:\n",
    "            return [abs(i-idx[0]) for i,x in enumerate(S)]\n",
    "        p=idx.pop(0)\n",
    "        q=idx.pop(0)\n",
    "        n1 = len(S)\n",
    "        i = 0\n",
    "        while i<n1:\n",
    "            if not idx:\n",
    "                S[i] = min(abs(i-q), abs(i-p))\n",
    "                i+=1\n",
    "                continue\n",
    "            if i<=p:\n",
    "                S[i] = p-i\n",
    "                i+=1\n",
    "                continue\n",
    "            elif i>=p and i<=q:\n",
    "                S[i] = min(i-p, q-i)\n",
    "                i+=1\n",
    "                continue\n",
    "            p = q\n",
    "            q = idx.pop(0)\n",
    "                \n",
    "        return S"
   ]
  }
 ],
 "metadata": {
  "kernelspec": {
   "display_name": "Python 3",
   "language": "python",
   "name": "python3"
  },
  "language_info": {
   "codemirror_mode": {
    "name": "ipython",
    "version": 3
   },
   "file_extension": ".py",
   "mimetype": "text/x-python",
   "name": "python",
   "nbconvert_exporter": "python",
   "pygments_lexer": "ipython3",
   "version": "3.7.1"
  }
 },
 "nbformat": 4,
 "nbformat_minor": 2
}
