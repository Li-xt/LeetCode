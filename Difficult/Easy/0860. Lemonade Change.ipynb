{
 "cells": [
  {
   "cell_type": "markdown",
   "metadata": {},
   "source": [
    "Solution_1 :"
   ]
  },
  {
   "cell_type": "code",
   "execution_count": null,
   "metadata": {},
   "outputs": [],
   "source": [
    "class Solution:\n",
    "    def lemonadeChange(self, bills):\n",
    "        \"\"\"\n",
    "        :type bills: List[int]\n",
    "        :rtype: bool\n",
    "        \"\"\"\n",
    "        changes = {5:0, 10:0}\n",
    "        for bill in bills:\n",
    "            if bill == 5:\n",
    "                changes[5] += 1\n",
    "            elif bill == 10:\n",
    "                if changes[5] == 0:\n",
    "                    return False\n",
    "                else:\n",
    "                    changes[10] += 1\n",
    "                    changes[5] -= 1\n",
    "            elif bill == 20:\n",
    "                if changes[10] != 0:\n",
    "                    if changes[5] == 0:\n",
    "                        return False\n",
    "                    else:\n",
    "                        changes[5] -= 1\n",
    "                        changes[10] -= 1\n",
    "                else:\n",
    "                    if changes[5] < 3:\n",
    "                        return False\n",
    "                    else:\n",
    "                        changes[5] -= 3\n",
    "        return True\n"
   ]
  },
  {
   "cell_type": "markdown",
   "metadata": {},
   "source": [
    "Solution_2 :"
   ]
  },
  {
   "cell_type": "code",
   "execution_count": null,
   "metadata": {},
   "outputs": [],
   "source": [
    "class Solution:\n",
    "    def lemonadeChange(self, bills: List[int]) -> bool:\n",
    "        if not bills:\n",
    "            return True\n",
    "        five = 0\n",
    "        ten = 0\n",
    "        for i in bills:\n",
    "            if i == 5:\n",
    "                five += 1\n",
    "            elif i == 10:\n",
    "                if five > 0:\n",
    "                    five -= 1\n",
    "                    ten += 1\n",
    "                else:\n",
    "                    return False\n",
    "            elif i == 20:\n",
    "                if ten > 0 and five > 0:\n",
    "                    ten -= 1\n",
    "                    five -= 1\n",
    "                elif ten <= 0 and five > 2:\n",
    "                    five -= 3\n",
    "                else:\n",
    "                    return False\n",
    "        return True"
   ]
  }
 ],
 "metadata": {
  "kernelspec": {
   "display_name": "Python 3",
   "language": "python",
   "name": "python3"
  },
  "language_info": {
   "codemirror_mode": {
    "name": "ipython",
    "version": 3
   },
   "file_extension": ".py",
   "mimetype": "text/x-python",
   "name": "python",
   "nbconvert_exporter": "python",
   "pygments_lexer": "ipython3",
   "version": "3.7.1"
  }
 },
 "nbformat": 4,
 "nbformat_minor": 2
}
