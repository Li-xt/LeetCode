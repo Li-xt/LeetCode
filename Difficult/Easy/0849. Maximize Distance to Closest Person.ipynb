{
 "cells": [
  {
   "cell_type": "markdown",
   "metadata": {},
   "source": [
    "Solution_1 :"
   ]
  },
  {
   "cell_type": "code",
   "execution_count": 1,
   "metadata": {},
   "outputs": [],
   "source": [
    "class Solution(object):\n",
    "    def maxDistToClosest(self, seats):\n",
    "        \"\"\"\n",
    "        :type seats: List[int]\n",
    "        :rtype: int\n",
    "        \"\"\"\n",
    "        prev, result = -1, 1\n",
    "        for i in range(len(seats)):\n",
    "            if seats[i]:\n",
    "                if prev < 0:\n",
    "                    result = i\n",
    "                else:\n",
    "                    result = max(result, (i-prev)//2)\n",
    "                prev = i\n",
    "        return max(result, len(seats)-1-prev)"
   ]
  },
  {
   "cell_type": "markdown",
   "metadata": {},
   "source": [
    "Solution_2 :"
   ]
  },
  {
   "cell_type": "code",
   "execution_count": null,
   "metadata": {},
   "outputs": [],
   "source": [
    "class Solution:\n",
    "    def maxDistToClosest(self, seats):\n",
    "        \"\"\"\n",
    "        :type seats: List[int]\n",
    "        :rtype: int\n",
    "        \"\"\"\n",
    "        #正则找最大0长度\n",
    "        import re\n",
    "        seats_str=list(map(str,seats))\n",
    "        ss=''.join(seats_str)\n",
    "        re_result=re.findall('0+',ss)\n",
    "        num_reuslt=[len(item) for item in re_result]\n",
    "        one=int((max(num_reuslt)+1)/2)\n",
    "        \n",
    "        #前后为0的情况\n",
    "        two,three=0,0\n",
    "        if seats[0]==0:\n",
    "            two=seats.index(1)\n",
    "        if seats[-1]==0:\n",
    "            three=seats[::-1].index(1)\n",
    "            \n",
    "        return max(one,two,three)"
   ]
  }
 ],
 "metadata": {
  "kernelspec": {
   "display_name": "Python 3",
   "language": "python",
   "name": "python3"
  },
  "language_info": {
   "codemirror_mode": {
    "name": "ipython",
    "version": 3
   },
   "file_extension": ".py",
   "mimetype": "text/x-python",
   "name": "python",
   "nbconvert_exporter": "python",
   "pygments_lexer": "ipython3",
   "version": "3.7.1"
  }
 },
 "nbformat": 4,
 "nbformat_minor": 2
}
