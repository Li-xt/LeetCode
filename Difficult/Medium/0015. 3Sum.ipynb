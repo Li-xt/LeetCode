{
 "cells": [
  {
   "cell_type": "markdown",
   "metadata": {},
   "source": [
    "Solution_1 :"
   ]
  },
  {
   "cell_type": "code",
   "execution_count": 1,
   "metadata": {},
   "outputs": [],
   "source": [
    "class Solution(object):\n",
    "    def threeSum(self, nums):\n",
    "        \"\"\"\n",
    "        :type nums: List[int]\n",
    "        :rtype: List[List[int]]\n",
    "        \"\"\"\n",
    "        N = len(nums)\n",
    "        nums.sort()\n",
    "        res = []\n",
    "        for t in range(N - 2):\n",
    "            if t > 0 and nums[t] == nums[t - 1]:\n",
    "                continue\n",
    "            i, j = t + 1, N - 1\n",
    "            while i < j:\n",
    "                _sum = nums[t] + nums[i] + nums[j]\n",
    "                if _sum == 0:\n",
    "                    res.append([nums[t], nums[i], nums[j]])\n",
    "                    i += 1\n",
    "                    j -= 1\n",
    "                    while i < j and nums[i] == nums[i - 1]:\n",
    "                        i += 1\n",
    "                    while i < j and nums[j] == nums[j + 1]:\n",
    "                        j -= 1\n",
    "                elif _sum < 0:\n",
    "                    i += 1\n",
    "                else:\n",
    "                    j -= 1\n",
    "        return res\n"
   ]
  },
  {
   "cell_type": "markdown",
   "metadata": {},
   "source": [
    "Solution_2 :"
   ]
  },
  {
   "cell_type": "code",
   "execution_count": null,
   "metadata": {},
   "outputs": [],
   "source": [
    "class Solution(object):\n",
    "    def threeSum(self, nums):\n",
    "        \"\"\"\n",
    "        :type nums: List[int]\n",
    "        :rtype: List[List[int]]\n",
    "        \"\"\"\n",
    "        count = collections.Counter(nums)\n",
    "        values = list(count.keys())\n",
    "        values.sort()\n",
    "        N = len(values)\n",
    "        l, r = 0, N - 1\n",
    "        res = list()\n",
    "        visited = set()\n",
    "        for l in range(N):\n",
    "            for r in range(l, N):\n",
    "                t = 0 - values[l] - values[r]\n",
    "                if t in count:\n",
    "                    if (t == 0 and count[t] >= 3) \\\n",
    "                    or (((t == values[l] and t != values[r]) or (t == values[r] and t != values[l])) and count[t] >= 2) \\\n",
    "                    or (l == r and values[l] != t and count[values[l]] >= 2) \\\n",
    "                    or (t != values[l] and t != values[r] and l != r):\n",
    "                        curlist = sorted([values[l], t, values[r]])\n",
    "                        finger = \"#\".join(map(str, curlist))\n",
    "                        if finger not in visited:\n",
    "                            res.append(curlist)\n",
    "                            visited.add(finger)\n",
    "        return res\n"
   ]
  },
  {
   "cell_type": "markdown",
   "metadata": {},
   "source": [
    "Solution_3 :"
   ]
  },
  {
   "cell_type": "code",
   "execution_count": 4,
   "metadata": {},
   "outputs": [],
   "source": [
    "class Solution:\n",
    "    def threeSum(self, nums):\n",
    "        a = {}\n",
    "        for num in nums:\n",
    "            if num not in a:\n",
    "                a[num] = 1\n",
    "            else:\n",
    "                a[num] += 1\n",
    "                \n",
    "        sols = []\n",
    "        if 0 in a and a[0] >= 3:\n",
    "            sols.append([0,0,0])\n",
    "        for num in a:\n",
    "            if 0 in a and num < 0 and -num in a:\n",
    "                sols.append([num, 0, -num])\n",
    "                \n",
    "        for num in a:\n",
    "            if num != 0 and a[num] > 1 and (-2 * num) in nums:\n",
    "                sols.append(sorted([-2*num, num, num]))\n",
    "                \n",
    "        pos = [num for num in a if num > 0]\n",
    "        neg = [num for num in a if num < 0]\n",
    "        \n",
    "        for i in range(len(pos)):\n",
    "            for j in range(i + 1, len(pos)):\n",
    "                n1 = pos[i]\n",
    "                n2 = pos[j]\n",
    "                if (-n1 - n2) in a:\n",
    "                    sols.append(sorted([(-n1 -n2), n1, n2]))\n",
    "        for i in range(len(neg)):\n",
    "            for j in range(i + 1, len(neg)):\n",
    "                n1 = neg[i]\n",
    "                n2 = neg[j]\n",
    "                if (-n1 - n2) in a:\n",
    "                    sols.append(sorted([(-n1 -n2), n1, n2]))\n",
    "        return sols"
   ]
  }
 ],
 "metadata": {
  "kernelspec": {
   "display_name": "Python 3",
   "language": "python",
   "name": "python3"
  },
  "language_info": {
   "codemirror_mode": {
    "name": "ipython",
    "version": 3
   },
   "file_extension": ".py",
   "mimetype": "text/x-python",
   "name": "python",
   "nbconvert_exporter": "python",
   "pygments_lexer": "ipython3",
   "version": "3.7.1"
  }
 },
 "nbformat": 4,
 "nbformat_minor": 2
}
