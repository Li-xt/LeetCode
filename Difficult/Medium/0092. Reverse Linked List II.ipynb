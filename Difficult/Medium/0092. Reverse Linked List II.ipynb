{
 "cells": [
  {
   "cell_type": "markdown",
   "metadata": {},
   "source": [
    "Solution_1 :"
   ]
  },
  {
   "cell_type": "code",
   "execution_count": 1,
   "metadata": {},
   "outputs": [],
   "source": [
    "class Solution:\n",
    "    def reverseBetween(self, head, m, n) :\n",
    "        if not head:\n",
    "            return None\n",
    "        v = []\n",
    "        while head:\n",
    "            v.append(head.val)\n",
    "            head = head.next\n",
    "        r = v[m - 1:n]\n",
    "        v = v[:m - 1] + r[::-1] + v[n:]\n",
    "        res = ListNode(v[0])\n",
    "        node = res\n",
    "        for i in range(1, len(v)):\n",
    "            node.next = ListNode(v[i])\n",
    "            node = node.next\n",
    "        return res"
   ]
  },
  {
   "cell_type": "markdown",
   "metadata": {},
   "source": [
    "Solution_2 :"
   ]
  },
  {
   "cell_type": "code",
   "execution_count": null,
   "metadata": {},
   "outputs": [],
   "source": [
    "class Solution(object):\n",
    "    def reverseBetween(self, head, m, n):\n",
    "        if m == n:\n",
    "            return head\n",
    "        m -= 1\n",
    "        result = temp = ListNode(0)\n",
    "        result.next = head\n",
    "        for _ in range(m):\n",
    "            temp = temp.next\n",
    "\n",
    "        mark = temp\n",
    "        memory = []\n",
    "        for _ in range(n-m):\n",
    "            temp = temp.next\n",
    "            memory.append(temp.val)\n",
    "\n",
    "        for m in memory[::-1]:\n",
    "            mark.next = ListNode(m)\n",
    "            mark = mark.next\n",
    "        mark.next = temp.next\n",
    "        return result.next"
   ]
  },
  {
   "cell_type": "markdown",
   "metadata": {},
   "source": [
    "Solution_3 :"
   ]
  },
  {
   "cell_type": "code",
   "execution_count": null,
   "metadata": {},
   "outputs": [],
   "source": [
    "class Solution(object):\n",
    "    def reverseBetween(self, head, m, n):\n",
    "        dummy = ListNode(None)\n",
    "        dummy.next = head\n",
    "        ans = dummy\n",
    "        pos = 1\n",
    "        while m != 1:\n",
    "            m -= 1\n",
    "            pos += 1\n",
    "            dummy = dummy.next\n",
    "        first = dummy\n",
    "        second = dummy.next\n",
    "        dummy = dummy.next\n",
    "        rev = None\n",
    "        while pos != n+1:\n",
    "            rev, rev.next, dummy = dummy, rev, dummy.next\n",
    "            pos += 1\n",
    "        first.next, second.next = rev, dummy\n",
    "        return ans.next"
   ]
  }
 ],
 "metadata": {
  "kernelspec": {
   "display_name": "Python 3",
   "language": "python",
   "name": "python3"
  },
  "language_info": {
   "codemirror_mode": {
    "name": "ipython",
    "version": 3
   },
   "file_extension": ".py",
   "mimetype": "text/x-python",
   "name": "python",
   "nbconvert_exporter": "python",
   "pygments_lexer": "ipython3",
   "version": "3.7.1"
  }
 },
 "nbformat": 4,
 "nbformat_minor": 4
}
