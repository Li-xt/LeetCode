{
 "cells": [
  {
   "cell_type": "markdown",
   "metadata": {},
   "source": [
    "Solution_1 :"
   ]
  },
  {
   "cell_type": "code",
   "execution_count": 1,
   "metadata": {},
   "outputs": [],
   "source": [
    "class Solution(object):\n",
    "    def isHappy(self, n):\n",
    "        \"\"\"\n",
    "        :type n: int\n",
    "        :rtype: bool\n",
    "        \"\"\"\n",
    "        dict=[]\n",
    "        while True:\n",
    "            sum=0\n",
    "            while n>0:\n",
    "                sum += (n%10)**2\n",
    "                n=int(n/10)\n",
    "            n=sum\n",
    "            if sum == 1:\n",
    "                return True\n",
    "            elif sum in dict:\n",
    "                return False \n",
    "            else:\n",
    "                dict.append(sum)"
   ]
  },
  {
   "cell_type": "markdown",
   "metadata": {},
   "source": [
    "Solution_2 :"
   ]
  },
  {
   "cell_type": "code",
   "execution_count": null,
   "metadata": {},
   "outputs": [],
   "source": [
    "# Floyd Cycle Detection Algorithm\n",
    "class Solution(object):\n",
    "    def isHappy(self, n):\n",
    "        \"\"\"\n",
    "        :type n: int\n",
    "        :rtype: bool\n",
    "        \"\"\"\n",
    "        slow = fast = n\n",
    "        while True:\n",
    "            slow = self.squareSum(slow)\n",
    "            fast = self.squareSum(fast)\n",
    "            fast = self.squareSum(fast)\n",
    "            if slow == fast:\n",
    "                break\n",
    "        return slow == 1\n",
    "\n",
    "    def squareSum(self, n):\n",
    "        sum = 0\n",
    "        while(n>0):\n",
    "            tmp = n % 10\n",
    "            sum += tmp * tmp\n",
    "            n /= 10\n",
    "        return sum\n"
   ]
  }
 ],
 "metadata": {
  "kernelspec": {
   "display_name": "Python 3",
   "language": "python",
   "name": "python3"
  },
  "language_info": {
   "codemirror_mode": {
    "name": "ipython",
    "version": 3
   },
   "file_extension": ".py",
   "mimetype": "text/x-python",
   "name": "python",
   "nbconvert_exporter": "python",
   "pygments_lexer": "ipython3",
   "version": "3.7.1"
  }
 },
 "nbformat": 4,
 "nbformat_minor": 2
}
