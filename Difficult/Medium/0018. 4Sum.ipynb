{
 "cells": [
  {
   "cell_type": "markdown",
   "metadata": {},
   "source": [
    "Solution_1 :"
   ]
  },
  {
   "cell_type": "code",
   "execution_count": 1,
   "metadata": {},
   "outputs": [],
   "source": [
    "class Solution(object):\n",
    "    def fourSum(self, nums, target):\n",
    "        \"\"\"\n",
    "        :type nums: List[int]\n",
    "        :type target: int\n",
    "        :rtype: List[List[int]]\n",
    "        \"\"\"\n",
    "        N = len(nums)\n",
    "        nums.sort()\n",
    "        res = []\n",
    "        i = 0\n",
    "        while i < N - 3:\n",
    "            j = i + 1\n",
    "            while j < N - 2:\n",
    "                k = j + 1\n",
    "                l = N - 1\n",
    "                remain = target - nums[i] - nums[j]\n",
    "                while k < l:\n",
    "                    if nums[k] + nums[l] > remain:\n",
    "                        l -= 1\n",
    "                    elif nums[k] + nums[l] < remain:\n",
    "                        k += 1\n",
    "                    else:\n",
    "                        res.append([nums[i], nums[j], nums[k], nums[l]])\n",
    "                        while k < l and nums[k] == nums[k + 1]:\n",
    "                            k += 1\n",
    "                        while k < l and nums[l] == nums[l - 1]:\n",
    "                            l -= 1\n",
    "                        k += 1\n",
    "                        l -= 1\n",
    "                while j < N - 2 and nums[j] == nums[j + 1]:\n",
    "                    j += 1\n",
    "                j += 1 \n",
    "            while i < N - 3 and nums[i] == nums[i + 1]:\n",
    "                i += 1\n",
    "            i += 1 \n",
    "        return res\n"
   ]
  },
  {
   "cell_type": "markdown",
   "metadata": {},
   "source": [
    "Solution_2 :"
   ]
  },
  {
   "cell_type": "code",
   "execution_count": 2,
   "metadata": {},
   "outputs": [],
   "source": [
    "class Solution:\n",
    "    def fourSum(self, nums, target):\n",
    "        n = len(nums)\n",
    "        res = []\n",
    "        if n < 4:\n",
    "            return res\n",
    "        nums.sort()\n",
    "        nmax = nums[-1]\n",
    "        num2id = {x: i for i, x in enumerate(nums)}\n",
    "        for i in range(n - 3):\n",
    "            if i > 0 and nums[i] == nums[i - 1]:\n",
    "                continue\n",
    "            a = nums[i]\n",
    "            if a * 4 > target:\n",
    "                return res\n",
    "            if a + 3 * nmax < target:\n",
    "                continue\n",
    "            for j in range(i + 1, n - 2):\n",
    "                if j > i + 1 and nums[j] == nums[j - 1]:\n",
    "                    continue\n",
    "                b = nums[j]\n",
    "                if a + b * 3 > target:\n",
    "                    break\n",
    "                if a + b + 2 * nmax < target:\n",
    "                    continue\n",
    "                for k in range(j + 1, n - 1):\n",
    "                    if k > j + 1 and nums[k] == nums[k - 1]:\n",
    "                        continue\n",
    "                    c = nums[k]\n",
    "                    if a + b + c * 2 > target:\n",
    "                        break\n",
    "                    if a + b + c + nmax < target:\n",
    "                        continue\n",
    "                    d = target - a - b - c\n",
    "                    if d in num2id:\n",
    "                        if num2id[d] <= k:\n",
    "                            break\n",
    "                        else:\n",
    "                            res.append([a, b, c, d])\n",
    "        return res"
   ]
  }
 ],
 "metadata": {
  "kernelspec": {
   "display_name": "Python 3",
   "language": "python",
   "name": "python3"
  },
  "language_info": {
   "codemirror_mode": {
    "name": "ipython",
    "version": 3
   },
   "file_extension": ".py",
   "mimetype": "text/x-python",
   "name": "python",
   "nbconvert_exporter": "python",
   "pygments_lexer": "ipython3",
   "version": "3.7.1"
  }
 },
 "nbformat": 4,
 "nbformat_minor": 2
}
