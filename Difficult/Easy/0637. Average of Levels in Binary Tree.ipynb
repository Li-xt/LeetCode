{
 "cells": [
  {
   "cell_type": "markdown",
   "metadata": {},
   "source": [
    "Solution_1 :"
   ]
  },
  {
   "cell_type": "code",
   "execution_count": null,
   "metadata": {},
   "outputs": [],
   "source": [
    "class Solution:\n",
    "    def averageOfLevels(self, root):\n",
    "        \"\"\"\n",
    "        :type root: TreeNode\n",
    "        :rtype: List[float]\n",
    "        \"\"\"\n",
    "        if not root:\n",
    "            return []\n",
    "        queue=[root]\n",
    "        result=[]\n",
    "        while queue:\n",
    "            layer_len=len(queue)\n",
    "            temp=[]\n",
    "            for i in range(layer_len):\n",
    "                cur_node=queue[0]\n",
    "                temp.append(cur_node.val)\n",
    "                if cur_node.left!=None:\n",
    "                    queue.append(cur_node.left)\n",
    "                if cur_node.right!=None:\n",
    "                    queue.append(cur_node.right)\n",
    "                queue.pop(0)\n",
    "            result.append(sum(temp)/layer_len)\n",
    "        return result \n",
    "    \n"
   ]
  },
  {
   "cell_type": "markdown",
   "metadata": {},
   "source": [
    "Solution_2 :"
   ]
  },
  {
   "cell_type": "code",
   "execution_count": null,
   "metadata": {},
   "outputs": [],
   "source": [
    "class Solution(object):\n",
    "    def averageOfLevels(self, root):\n",
    "        \"\"\"\n",
    "        :type root: TreeNode\n",
    "        :rtype: List[float]\n",
    "        \"\"\"\n",
    "        res = []\n",
    "        if not root:\n",
    "            return res\n",
    "        stack = [root]\n",
    "        while stack:\n",
    "            res.append(sum([x.val for x in stack])/float(len(stack)))\n",
    "            next_stack = []\n",
    "            for x in stack:\n",
    "                if x.left:\n",
    "                    next_stack.append(x.left)\n",
    "                if x.right:\n",
    "                    next_stack.append(x.right)\n",
    "            stack = next_stack\n",
    "        return res"
   ]
  }
 ],
 "metadata": {
  "kernelspec": {
   "display_name": "Python 3",
   "language": "python",
   "name": "python3"
  },
  "language_info": {
   "codemirror_mode": {
    "name": "ipython",
    "version": 3
   },
   "file_extension": ".py",
   "mimetype": "text/x-python",
   "name": "python",
   "nbconvert_exporter": "python",
   "pygments_lexer": "ipython3",
   "version": "3.7.1"
  }
 },
 "nbformat": 4,
 "nbformat_minor": 2
}
