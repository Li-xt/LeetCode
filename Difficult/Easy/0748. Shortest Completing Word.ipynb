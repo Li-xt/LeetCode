{
 "cells": [
  {
   "cell_type": "markdown",
   "metadata": {},
   "source": [
    "Solution_1 :"
   ]
  },
  {
   "cell_type": "code",
   "execution_count": null,
   "metadata": {},
   "outputs": [],
   "source": [
    "class Solution(object):\n",
    "    def shortestCompletingWord(self, licensePlate, words):\n",
    "        \"\"\"\n",
    "        :type licensePlate: str\n",
    "        :type words: List[str]\n",
    "        :rtype: str\n",
    "        \"\"\"\n",
    "        subs = \"1234567890\"\n",
    "        licensePlate = licensePlate.replace(\" \", \"\").lower()\n",
    "        for sub in subs:\n",
    "            licensePlate = licensePlate.replace(sub, \"\")\n",
    "        res = \"\"\n",
    "        plateCount = collections.Counter(licensePlate)\n",
    "        for word in words:\n",
    "            match = True\n",
    "            wordCount = collections.Counter(word)\n",
    "            for w, c in plateCount.items():\n",
    "                if c > wordCount[w]:\n",
    "                    match = False\n",
    "            if (not res or len(res) > len(word)) and match:\n",
    "                res = word\n",
    "        return res\n"
   ]
  },
  {
   "cell_type": "markdown",
   "metadata": {},
   "source": [
    "Solution_2 :"
   ]
  },
  {
   "cell_type": "code",
   "execution_count": 3,
   "metadata": {},
   "outputs": [],
   "source": [
    "class Solution:\n",
    "    def shortestCompletingWord(self, licensePlate: str, words: List[str]) -> str:\n",
    "        di = collections.Counter(''.join(x.lower() for x in licensePlate if x.isalpha()))\n",
    "        output = ''\n",
    "        for word in words:\n",
    "            if output and len(word) >= len(output): continue\n",
    "            di2 = dict(di)\n",
    "            for ch in word:\n",
    "                if ch in di2:\n",
    "                    di2[ch] -= 1\n",
    "                    if di2[ch] is 0: di2.pop(ch)\n",
    "            if not di2: output = word\n",
    "        return output"
   ]
  },
  {
   "cell_type": "markdown",
   "metadata": {},
   "source": [
    "Solution_3 :"
   ]
  },
  {
   "cell_type": "code",
   "execution_count": null,
   "metadata": {},
   "outputs": [],
   "source": [
    "class Solution:\n",
    "    def shortestCompletingWord(self, licensePlate: str, words: List[str]) -> str:\n",
    "        plate = temp = \"\"\n",
    "        valid = []\n",
    "        validword = True\n",
    "\t\t#this loop is extracting only the letters from the license plate\n",
    "\t\t#it's also converting the uppercase letters to lowercase ones at the same time\n",
    "        for letter in licensePlate:\n",
    "            if letter.isalpha():\n",
    "                plate += letter.lower()  \n",
    "\t\t#this loop iterates through the words list and only adds the words that contain all letters of the plate to an array called 'valid'\n",
    "\t\t#if a word is invalid, the loop skips it with a 'continue' statement\n",
    "        for word in words:\n",
    "            temp = word\n",
    "            for l in plate:\n",
    "                if l in temp:\n",
    "                    temp = temp.replace(l,\"\",1)\n",
    "                else:\n",
    "                    validword = False\n",
    "                    break\n",
    "            if validword:\n",
    "                valid.append(word)\n",
    "            else:\n",
    "                validword = True\n",
    "\t\t#our valid words are then sorted by length, and we return the first once (the shortest)\n",
    "        valid = sorted(valid, key=len)\n",
    "        return valid[0]"
   ]
  }
 ],
 "metadata": {
  "kernelspec": {
   "display_name": "Python 3",
   "language": "python",
   "name": "python3"
  },
  "language_info": {
   "codemirror_mode": {
    "name": "ipython",
    "version": 3
   },
   "file_extension": ".py",
   "mimetype": "text/x-python",
   "name": "python",
   "nbconvert_exporter": "python",
   "pygments_lexer": "ipython3",
   "version": "3.7.1"
  }
 },
 "nbformat": 4,
 "nbformat_minor": 2
}
