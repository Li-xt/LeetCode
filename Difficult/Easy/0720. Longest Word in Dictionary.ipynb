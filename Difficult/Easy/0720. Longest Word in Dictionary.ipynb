{
 "cells": [
  {
   "cell_type": "markdown",
   "metadata": {},
   "source": [
    "Solution_1 :"
   ]
  },
  {
   "cell_type": "code",
   "execution_count": 1,
   "metadata": {},
   "outputs": [],
   "source": [
    "class Solution:\n",
    "    def longestWord(self, words):\n",
    "        words.sort()\n",
    "        \n",
    "        res = set([''])\n",
    "        longestworld = ''\n",
    "        \n",
    "        for word in words:\n",
    "            if word[:-1] in res:\n",
    "                res.add(word)\n",
    "                if len(word) > len(longestworld):\n",
    "                    longestworld = word \n",
    "                    \n",
    "        return longestworld"
   ]
  },
  {
   "cell_type": "markdown",
   "metadata": {},
   "source": [
    "Solution_2 :"
   ]
  },
  {
   "cell_type": "code",
   "execution_count": null,
   "metadata": {},
   "outputs": [],
   "source": [
    "class Solution:\n",
    "    def longestWord(self, words):\n",
    "        if not words:\n",
    "            return ''\n",
    "        words.sort()\n",
    "        st, res = set(), ''\n",
    "        for w in words:\n",
    "            if len(w) == 1:\n",
    "                st.add(w)\n",
    "                if res == '':\n",
    "                    res = w\n",
    "            elif w[:-1] in st:\n",
    "                st.add(w)\n",
    "                if len(res) < len(w):\n",
    "                    res = w\n",
    "        return res"
   ]
  }
 ],
 "metadata": {
  "kernelspec": {
   "display_name": "Python 3",
   "language": "python",
   "name": "python3"
  },
  "language_info": {
   "codemirror_mode": {
    "name": "ipython",
    "version": 3
   },
   "file_extension": ".py",
   "mimetype": "text/x-python",
   "name": "python",
   "nbconvert_exporter": "python",
   "pygments_lexer": "ipython3",
   "version": "3.7.1"
  }
 },
 "nbformat": 4,
 "nbformat_minor": 2
}
