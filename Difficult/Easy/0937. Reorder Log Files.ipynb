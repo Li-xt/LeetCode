{
 "cells": [
  {
   "cell_type": "markdown",
   "metadata": {},
   "source": [
    "Solution_1 :"
   ]
  },
  {
   "cell_type": "code",
   "execution_count": 1,
   "metadata": {},
   "outputs": [],
   "source": [
    "class Solution(object):\n",
    "    def reorderLogFiles(self, logs):\n",
    "        \"\"\"\n",
    "        :type logs: List[str]\n",
    "        :rtype: List[str]\n",
    "        \"\"\"\n",
    "        letters = []\n",
    "        nums = []\n",
    "        for log in logs:\n",
    "            logsplit = log.split(\" \")\n",
    "            if logsplit[1].isalpha():\n",
    "                letters.append((\" \".join(logsplit[1:]), logsplit[0]))\n",
    "            else:\n",
    "                nums.append(log)\n",
    "        letters.sort()\n",
    "        return [letter[1] + \" \" + letter[0] for letter in letters] + nums\n"
   ]
  },
  {
   "cell_type": "markdown",
   "metadata": {},
   "source": [
    "Solution_2 :"
   ]
  },
  {
   "cell_type": "code",
   "execution_count": null,
   "metadata": {},
   "outputs": [],
   "source": [
    "class Solution(object):\n",
    "    def reorderLogFiles(self, logs):\n",
    "        \"\"\"\n",
    "        :type logs: List[str]\n",
    "        :rtype: List[str]\n",
    "        \"\"\"\n",
    "        res1, res2 = [],[]\n",
    "        for log in logs:\n",
    "            if (log.split()[1]).isdigit(): res2.append(log)\n",
    "            else: res1.append(log.split())\n",
    "        res1.sort(key = lambda x: x[0])\n",
    "        res1.sort(key = lambda x: x[1:])\n",
    "        for i in range(len(res1)):\n",
    "            res1[i] = (\" \".join(res1[i]))\n",
    "        res1.extend(res2)\n",
    "        return res1"
   ]
  },
  {
   "cell_type": "markdown",
   "metadata": {},
   "source": [
    "Solution_3 :"
   ]
  },
  {
   "cell_type": "code",
   "execution_count": null,
   "metadata": {},
   "outputs": [],
   "source": [
    "class Solution(object):\n",
    "    def reorderLogFiles(self, logs):\n",
    "        \"\"\"\n",
    "        :type logs: List[str]\n",
    "        :rtype: List[str]\n",
    "        \"\"\"\n",
    "        letter_log = {}\n",
    "        digit_log = []\n",
    "        \n",
    "        for log in logs:\n",
    "            i = log.index(\" \")\n",
    "            val = log[i+1:]\n",
    "            if val[0].isdigit():\n",
    "                digit_log.append(log)\n",
    "            else:\n",
    "                letter_log[log] = val\n",
    "        \n",
    "        sorted_letter_log = sorted(letter_log, key = lambda x: (letter_log[x], x))\n",
    "        \n",
    "        return sorted_letter_log+digit_log"
   ]
  }
 ],
 "metadata": {
  "kernelspec": {
   "display_name": "Python 3",
   "language": "python",
   "name": "python3"
  },
  "language_info": {
   "codemirror_mode": {
    "name": "ipython",
    "version": 3
   },
   "file_extension": ".py",
   "mimetype": "text/x-python",
   "name": "python",
   "nbconvert_exporter": "python",
   "pygments_lexer": "ipython3",
   "version": "3.7.1"
  }
 },
 "nbformat": 4,
 "nbformat_minor": 2
}
