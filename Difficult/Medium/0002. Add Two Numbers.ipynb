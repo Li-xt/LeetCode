{
 "cells": [
  {
   "cell_type": "markdown",
   "metadata": {},
   "source": [
    "Solution_1 :"
   ]
  },
  {
   "cell_type": "code",
   "execution_count": 2,
   "metadata": {},
   "outputs": [],
   "source": [
    "# Definition for singly-linked list.\n",
    "# class ListNode:\n",
    "#     def __init__(self, x):\n",
    "#         self.val = x\n",
    "#         self.next = None\n",
    "\n",
    "class Solution(object):\n",
    "    def addTwoNumbers(self, l1, l2):\n",
    "        \"\"\"\n",
    "        :type l1: ListNode\n",
    "        :type l2: ListNode\n",
    "        :rtype: ListNode\n",
    "        \"\"\"\n",
    "        num1 = ''\n",
    "        num2 = ''\n",
    "        while l1:\n",
    "            num1 += str(l1.val)\n",
    "            l1 = l1.next\n",
    "        while l2:\n",
    "            num2 += str(l2.val)\n",
    "            l2 = l2.next\n",
    "        add = str(int(num1[::-1]) + int(num2[::-1]))[::-1]\n",
    "        head = ListNode(add[0])\n",
    "        answer = head\n",
    "        for i in range(1, len(add)):\n",
    "            node = ListNode(add[i])\n",
    "            head.next = node\n",
    "            head = head.next\n",
    "        return answer\n"
   ]
  },
  {
   "cell_type": "markdown",
   "metadata": {},
   "source": [
    "Solution_2 :"
   ]
  },
  {
   "cell_type": "code",
   "execution_count": 3,
   "metadata": {},
   "outputs": [],
   "source": [
    "class Solution:\n",
    "    def addTwoNumbers(self, l1, l2):\n",
    "        carry = 0\n",
    "        n1 = ListNode(0)\n",
    "        head = ListNode(0)\n",
    "        head = n1\n",
    "        while (l1 != None or l2 != None):\n",
    "            temp = carry\n",
    "            if (l1 != None):\n",
    "                temp += l1.val\n",
    "                l1 = l1.next\n",
    "                \n",
    "            if (l2 != None):\n",
    "                temp += l2.val\n",
    "                l2 = l2.next\n",
    "            if (temp > 9):\n",
    "                carry = 1\n",
    "                temp %= 10\n",
    "            else:\n",
    "                carry = 0\n",
    "            newNode = ListNode(temp)\n",
    "            n1.next = newNode\n",
    "            n1 = n1.next\n",
    "        if (carry == 1):\n",
    "            newNode = ListNode(carry)\n",
    "            n1.next = newNode\n",
    "            \n",
    "        return head.next"
   ]
  },
  {
   "cell_type": "markdown",
   "metadata": {},
   "source": [
    "Solution_3 :"
   ]
  },
  {
   "cell_type": "code",
   "execution_count": 4,
   "metadata": {},
   "outputs": [],
   "source": [
    "# Definition for singly-linked list.\n",
    "# class ListNode(object):\n",
    "#     def __init__(self, x):\n",
    "#         self.val = x\n",
    "#         self.next = None\n",
    "\n",
    "class Solution(object):\n",
    "    def addTwoNumbers(self, l1, l2):\n",
    "        \"\"\"\n",
    "        :type l1: ListNode\n",
    "        :type l2: ListNode\n",
    "        :rtype: ListNode\n",
    "        \"\"\"\n",
    "        head = ListNode(0)\n",
    "        answer = head\n",
    "        carry = 0\n",
    "        while l1 and l2:\n",
    "            add = l1.val + l2.val + carry\n",
    "            carry = 1 if add >= 10 else 0\n",
    "            head.next = ListNode(add % 10)\n",
    "            head = head.next\n",
    "            l1, l2 = l1.next, l2.next\n",
    "        l = l1 if l1 else l2\n",
    "        while l:\n",
    "            add = l.val + carry\n",
    "            carry = 1 if add >= 10 else 0\n",
    "            head.next = ListNode(add % 10)\n",
    "            head = head.next\n",
    "            l = l.next\n",
    "        if carry:\n",
    "            head.next = ListNode(1)\n",
    "        return answer.next\n"
   ]
  }
 ],
 "metadata": {
  "kernelspec": {
   "display_name": "Python 3",
   "language": "python",
   "name": "python3"
  },
  "language_info": {
   "codemirror_mode": {
    "name": "ipython",
    "version": 3
   },
   "file_extension": ".py",
   "mimetype": "text/x-python",
   "name": "python",
   "nbconvert_exporter": "python",
   "pygments_lexer": "ipython3",
   "version": "3.7.1"
  }
 },
 "nbformat": 4,
 "nbformat_minor": 2
}
