{
 "cells": [
  {
   "cell_type": "markdown",
   "metadata": {},
   "source": [
    "Solution_1 :"
   ]
  },
  {
   "cell_type": "code",
   "execution_count": null,
   "metadata": {},
   "outputs": [],
   "source": [
    "class Solution:\n",
    "    def projectionArea(self, grid):\n",
    "        \"\"\"\n",
    "        :type grid: List[List[int]]\n",
    "        :rtype: int\n",
    "        \"\"\"\n",
    "        M, N = len(grid), len(grid[0])\n",
    "        rowMax, colMax = [0] * M, [0] * N\n",
    "        xy = sum(0 if grid[i][j] == 0 else 1 for i in range(M) for j in range(N))\n",
    "        xz = sum(list(map(max, grid)))\n",
    "        yz = sum(list(map(max, [[grid[i][j] for i in range(M)] for j in range(N)])))\n",
    "        return xy + xz + yz\n"
   ]
  },
  {
   "cell_type": "markdown",
   "metadata": {},
   "source": [
    "Solution_2 :"
   ]
  },
  {
   "cell_type": "code",
   "execution_count": null,
   "metadata": {},
   "outputs": [],
   "source": [
    "class Solution:\n",
    "    def sum_max_in_rows(self, grid):\n",
    "        return sum(map(max, grid))\n",
    "    \n",
    "    def projectionArea(self, grid: List[List[int]]) -> int:\n",
    "        yx = len(grid)*len(grid[0]) - sum(row.count(0) for row in grid)\n",
    "        yz = self.sum_max_in_rows(grid)\n",
    "        zx = self.sum_max_in_rows(zip(*grid))      #zip(*grid) just reverses the rows and columbs \n",
    "        return yx + yz + zx"
   ]
  }
 ],
 "metadata": {
  "kernelspec": {
   "display_name": "Python 3",
   "language": "python",
   "name": "python3"
  },
  "language_info": {
   "codemirror_mode": {
    "name": "ipython",
    "version": 3
   },
   "file_extension": ".py",
   "mimetype": "text/x-python",
   "name": "python",
   "nbconvert_exporter": "python",
   "pygments_lexer": "ipython3",
   "version": "3.7.1"
  }
 },
 "nbformat": 4,
 "nbformat_minor": 2
}
