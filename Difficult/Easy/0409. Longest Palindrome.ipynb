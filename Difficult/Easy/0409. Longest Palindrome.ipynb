{
 "cells": [
  {
   "cell_type": "markdown",
   "metadata": {},
   "source": [
    "Solution_1 : "
   ]
  },
  {
   "cell_type": "code",
   "execution_count": 2,
   "metadata": {},
   "outputs": [],
   "source": [
    "class Solution(object):\n",
    "    def longestPalindrome(self, s):\n",
    "        \"\"\"\n",
    "        :type s: str\n",
    "        :rtype: int\n",
    "        \"\"\"\n",
    "        import collections\n",
    "        result = 0\n",
    "        odd = 0 \n",
    "        \n",
    "        count_result = collections.Counter(s)\n",
    "        \n",
    "        for item in count_result:\n",
    "            if count_result[item]%2 == 1:\n",
    "                result += count_result[item]-1\n",
    "                odd = 1\n",
    "                \n",
    "            else:\n",
    "                result += count_result[item]\n",
    "                \n",
    "                \n",
    "        return result+odd"
   ]
  },
  {
   "cell_type": "markdown",
   "metadata": {},
   "source": [
    "Solution_2 : "
   ]
  },
  {
   "cell_type": "code",
   "execution_count": 3,
   "metadata": {},
   "outputs": [],
   "source": [
    "class Solution(object):\n",
    "    def longestPalindrome(self, s):\n",
    "        \"\"\"\n",
    "        :type s: str\n",
    "        :rtype: int\n",
    "        \"\"\"\n",
    "        d={}\n",
    "        res=0\n",
    "        for i in s:\n",
    "            d[i] = 1 if i not in d else d[i]+1\n",
    "        for i in d:\n",
    "            res+=d[i]-d[i]%2\n",
    "        return res+1 if res<len(s) else res"
   ]
  },
  {
   "cell_type": "code",
   "execution_count": null,
   "metadata": {},
   "outputs": [],
   "source": []
  }
 ],
 "metadata": {
  "kernelspec": {
   "display_name": "Python 3",
   "language": "python",
   "name": "python3"
  },
  "language_info": {
   "codemirror_mode": {
    "name": "ipython",
    "version": 3
   },
   "file_extension": ".py",
   "mimetype": "text/x-python",
   "name": "python",
   "nbconvert_exporter": "python",
   "pygments_lexer": "ipython3",
   "version": "3.7.1"
  }
 },
 "nbformat": 4,
 "nbformat_minor": 2
}
