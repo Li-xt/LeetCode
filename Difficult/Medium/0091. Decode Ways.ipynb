{
 "cells": [
  {
   "cell_type": "markdown",
   "metadata": {},
   "source": [
    "Solution_1 :"
   ]
  },
  {
   "cell_type": "code",
   "execution_count": null,
   "metadata": {},
   "outputs": [],
   "source": [
    "class Solution:\n",
    "    def numDecodings(self, s):\n",
    "        \n",
    "        dp = [0]*(len(s)+1) \n",
    "        dp[0] = 1\n",
    "        \n",
    "        for i in range(len(s)):\n",
    "            \n",
    "            ch = s[i]\n",
    "            idx = i + 1\n",
    "            if \"1\" <= ch <= \"9\":\n",
    "                dp[idx] += dp[idx-1]\n",
    "            if i > 0 and '10' <= s[i-1] + ch <= \"26\":\n",
    "                dp[idx] += dp[idx-2]\n",
    "        \n",
    "        return dp[-1]"
   ]
  }
 ],
 "metadata": {
  "kernelspec": {
   "display_name": "Python 3",
   "language": "python",
   "name": "python3"
  },
  "language_info": {
   "codemirror_mode": {
    "name": "ipython",
    "version": 3
   },
   "file_extension": ".py",
   "mimetype": "text/x-python",
   "name": "python",
   "nbconvert_exporter": "python",
   "pygments_lexer": "ipython3",
   "version": "3.7.1"
  }
 },
 "nbformat": 4,
 "nbformat_minor": 4
}
