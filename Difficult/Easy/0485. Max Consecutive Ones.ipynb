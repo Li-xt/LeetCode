{
 "cells": [
  {
   "cell_type": "markdown",
   "metadata": {},
   "source": [
    "Solution_1 : "
   ]
  },
  {
   "cell_type": "code",
   "execution_count": null,
   "metadata": {},
   "outputs": [],
   "source": [
    "class Solution:\n",
    "    def findMaxConsecutiveOnes(self, nums: List[int]) -> int:\n",
    "        j = -1 \n",
    "        res = 0 \n",
    "        for i in range(len(nums)):\n",
    "            if nums[i] == 0 :\n",
    "                res = max(res,i-j-1)\n",
    "                j = i\n",
    "                \n",
    "        res = max(res,len(nums)-j-1)\n",
    "        return res"
   ]
  }
 ],
 "metadata": {
  "kernelspec": {
   "display_name": "Python 3",
   "language": "python",
   "name": "python3"
  },
  "language_info": {
   "codemirror_mode": {
    "name": "ipython",
    "version": 3
   },
   "file_extension": ".py",
   "mimetype": "text/x-python",
   "name": "python",
   "nbconvert_exporter": "python",
   "pygments_lexer": "ipython3",
   "version": "3.7.1"
  }
 },
 "nbformat": 4,
 "nbformat_minor": 2
}
