{
 "cells": [
  {
   "cell_type": "markdown",
   "metadata": {},
   "source": [
    "Solution_1 :"
   ]
  },
  {
   "cell_type": "code",
   "execution_count": 2,
   "metadata": {},
   "outputs": [],
   "source": [
    "# O(m+n)\n",
    "class Solution:\n",
    "    def setZeroes(self, matrix):\n",
    "        m , n = len(matrix), len(matrix[0])\n",
    "        row , col = [0 for i in range(m)] , [0 for i in range(n)]\n",
    "        for i in range(m):\n",
    "            for j in range(n):\n",
    "                if not matrix[i][j]:\n",
    "                    row[i]=col[j]=1\n",
    "        for i in range(m):\n",
    "            if row[i]:\n",
    "                for j in range(n):\n",
    "                    matrix[i][j]=0\n",
    "\n",
    "        for j in range(n):\n",
    "            if col[j]:\n",
    "                for i in range(m):\n",
    "                    matrix[i][j]=0\n"
   ]
  },
  {
   "cell_type": "markdown",
   "metadata": {},
   "source": [
    "Solution_2 :"
   ]
  },
  {
   "cell_type": "code",
   "execution_count": null,
   "metadata": {},
   "outputs": [],
   "source": [
    "# O(mn)\n",
    "class Solution:\n",
    "    def setZeroes(self, matrix):\n",
    "        m , n = len(matrix), len(matrix[0])\n",
    "        temp = [[matrix[i][j] for j in range(n)] for i in range(m)]\n",
    "        for i in range(m):\n",
    "            for j in range(n):\n",
    "                if not temp[i][j]:\n",
    "                    self.setZero(i,j,n,m,matrix)\n",
    "\n",
    "    def setZero(self,row,col,n,m,matrix):\n",
    "        for i in range(m):\n",
    "            matrix[i][col]=0\n",
    "        for j in range(n):\n",
    "            matrix[row][j]=0\n"
   ]
  }
 ],
 "metadata": {
  "kernelspec": {
   "display_name": "Python 3",
   "language": "python",
   "name": "python3"
  },
  "language_info": {
   "codemirror_mode": {
    "name": "ipython",
    "version": 3
   },
   "file_extension": ".py",
   "mimetype": "text/x-python",
   "name": "python",
   "nbconvert_exporter": "python",
   "pygments_lexer": "ipython3",
   "version": "3.7.1"
  }
 },
 "nbformat": 4,
 "nbformat_minor": 2
}
