{
 "cells": [
  {
   "cell_type": "markdown",
   "metadata": {},
   "source": [
    "Solution_1 : "
   ]
  },
  {
   "cell_type": "code",
   "execution_count": 3,
   "metadata": {},
   "outputs": [],
   "source": [
    "class Solution:\n",
    "    def findRelativeRanks(self, nums):\n",
    "        result = [] \n",
    "        sort_nums = sorted(nums)[::-1]\n",
    "        \n",
    "        for i in range(len(nums)):\n",
    "            index = sort_nums.index(nums[i])\n",
    "            \n",
    "            if index>2:\n",
    "                result.append(str(index+1))\n",
    "            elif index==0:\n",
    "                result.append(\"Gold Medal\")\n",
    "            elif index==1:\n",
    "                result.append(\"Silver Medal\")\n",
    "            else: \n",
    "                result.append(\"Bronze Medal\")\n",
    "        return result  \n"
   ]
  },
  {
   "cell_type": "markdown",
   "metadata": {},
   "source": [
    "Solution_2 : "
   ]
  },
  {
   "cell_type": "code",
   "execution_count": null,
   "metadata": {},
   "outputs": [],
   "source": [
    "class Solution(object):\n",
    "    def findRelativeRanks(self, nums):\n",
    "        \"\"\"\n",
    "        :type nums: List[int]\n",
    "        :rtype: List[str]\n",
    "        \"\"\"\n",
    "        sorted_nums = sorted(nums, reverse=True)\n",
    "        medals = [\"Gold Medal\", \"Silver Medal\", \"Bronze Medal\"]\n",
    "        dic_rank = {val: str(idx + 1) if idx > 2 else medals[idx] for idx, val in enumerate(sorted_nums)}\n",
    "\n",
    "        return [dic_rank[num] for num in nums]"
   ]
  }
 ],
 "metadata": {
  "kernelspec": {
   "display_name": "Python 3",
   "language": "python",
   "name": "python3"
  },
  "language_info": {
   "codemirror_mode": {
    "name": "ipython",
    "version": 3
   },
   "file_extension": ".py",
   "mimetype": "text/x-python",
   "name": "python",
   "nbconvert_exporter": "python",
   "pygments_lexer": "ipython3",
   "version": "3.7.1"
  }
 },
 "nbformat": 4,
 "nbformat_minor": 2
}
