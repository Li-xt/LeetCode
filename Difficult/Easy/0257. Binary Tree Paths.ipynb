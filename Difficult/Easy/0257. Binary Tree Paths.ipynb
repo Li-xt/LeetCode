{
 "cells": [
  {
   "cell_type": "markdown",
   "metadata": {},
   "source": [
    "Solution_1 : "
   ]
  },
  {
   "cell_type": "code",
   "execution_count": 2,
   "metadata": {},
   "outputs": [],
   "source": [
    "# Definition for a binary tree node.\n",
    "# class TreeNode:\n",
    "#     def __init__(self, x):\n",
    "#         self.val = x\n",
    "#         self.left = None\n",
    "#         self.right = None\n",
    "\n",
    "class Solution:\n",
    "    def binaryTreePaths(self, root) :\n",
    "        result, path_list = [] , []\n",
    "        self.dsf(root,result,path_list)\n",
    "        \n",
    "        return result \n",
    "    \n",
    "    def dsf(self,root,result,path_list):\n",
    "        if not root:\n",
    "            return None\n",
    "        path_list.append(str(root.val))\n",
    "        if not root.left and not root.right:\n",
    "            result.append('->'.join(path_list))\n",
    "        if root.left:\n",
    "            self.dsf(root.left,result,path_list)\n",
    "            path_list.pop()\n",
    "        if root.right:\n",
    "            self.dsf(root.right,result,path_list)\n",
    "            path_list.pop()\n",
    "\n",
    "            \n",
    "        "
   ]
  },
  {
   "cell_type": "markdown",
   "metadata": {},
   "source": [
    "Solution_2 : "
   ]
  },
  {
   "cell_type": "code",
   "execution_count": null,
   "metadata": {},
   "outputs": [],
   "source": [
    "class Solution:\n",
    "    def binaryTreePaths(self, root) :\n",
    "        result, path_list = [] , []\n",
    "        if not root: return []\n",
    "        self.dsf(root,result,path_list)\n",
    "        \n",
    "        return result \n",
    "    \n",
    "    def dsf(self,root,result,path_list):\n",
    "        path_list.append(str(root.val))\n",
    "        if not root.left and not root.right:\n",
    "            result.append('->'.join(path_list))\n",
    "        if root.left:\n",
    "            self.dsf(root.left,result,path_list)\n",
    "            path_list.pop()\n",
    "        if root.right:\n",
    "            self.dsf(root.right,result,path_list)\n",
    "            path_list.pop()"
   ]
  }
 ],
 "metadata": {
  "kernelspec": {
   "display_name": "Python 3",
   "language": "python",
   "name": "python3"
  },
  "language_info": {
   "codemirror_mode": {
    "name": "ipython",
    "version": 3
   },
   "file_extension": ".py",
   "mimetype": "text/x-python",
   "name": "python",
   "nbconvert_exporter": "python",
   "pygments_lexer": "ipython3",
   "version": "3.7.1"
  }
 },
 "nbformat": 4,
 "nbformat_minor": 2
}
