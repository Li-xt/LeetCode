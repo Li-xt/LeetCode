{
 "cells": [
  {
   "cell_type": "markdown",
   "metadata": {},
   "source": [
    "Solution_1 : "
   ]
  },
  {
   "cell_type": "code",
   "execution_count": null,
   "metadata": {},
   "outputs": [],
   "source": [
    "class Solution:\n",
    "    def findRadius(self, houses: List[int], heaters: List[int]) -> int:\n",
    "        heaters = [float('-inf')] + sorted(heaters) + [float('inf')]\n",
    "        r = 0\n",
    "        for house in houses:\n",
    "            i = bisect.bisect(heaters, house)\n",
    "            r = max(r, min(abs(house-heater) for heater in heaters[i-1:i+1]))\n",
    "        return r"
   ]
  },
  {
   "cell_type": "markdown",
   "metadata": {},
   "source": [
    "Solution_2 : "
   ]
  },
  {
   "cell_type": "code",
   "execution_count": null,
   "metadata": {},
   "outputs": [],
   "source": [
    "class Solution(object):\n",
    "    def findRadius(self, houses, heaters):\n",
    "        \"\"\"\n",
    "        :type houses: List[int]\n",
    "        :type heaters: List[int]\n",
    "        :rtype: int\n",
    "        \"\"\"\n",
    "        houses = sorted(houses)\n",
    "        heaters = sorted(heaters)\n",
    "\n",
    "        H, res = len(heaters), 0\n",
    "        for house in houses:\n",
    "            i = bisect.bisect_left(heaters, house, 0, H - 1)\n",
    "            if heaters[i] != house:\n",
    "                res = max(res, min(abs(house - heaters[i - 1]), abs(house - heaters[i])))\n",
    "\n",
    "        return res"
   ]
  }
 ],
 "metadata": {
  "kernelspec": {
   "display_name": "Python 3",
   "language": "python",
   "name": "python3"
  },
  "language_info": {
   "codemirror_mode": {
    "name": "ipython",
    "version": 3
   },
   "file_extension": ".py",
   "mimetype": "text/x-python",
   "name": "python",
   "nbconvert_exporter": "python",
   "pygments_lexer": "ipython3",
   "version": "3.7.1"
  }
 },
 "nbformat": 4,
 "nbformat_minor": 2
}
