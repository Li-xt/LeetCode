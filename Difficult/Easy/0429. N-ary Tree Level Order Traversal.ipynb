{
 "cells": [
  {
   "cell_type": "markdown",
   "metadata": {},
   "source": [
    "Solution_1 :"
   ]
  },
  {
   "cell_type": "code",
   "execution_count": null,
   "metadata": {},
   "outputs": [],
   "source": [
    "\"\"\"\n",
    "# Definition for a Node.\n",
    "class Node(object):\n",
    "    def __init__(self, val, children):\n",
    "        self.val = val\n",
    "        self.children = children\n",
    "\"\"\"\n",
    "class Solution(object):\n",
    "    def levelOrder(self, root):\n",
    "        \"\"\"\n",
    "        :type root: Node\n",
    "        :rtype: List[List[int]]\n",
    "        \"\"\"\n",
    "        if not root:\n",
    "            return []\n",
    "        queue = [(root, 0)]\n",
    "        res = [[]]\n",
    "        while queue:\n",
    "            node, level = queue.pop(0)\n",
    "            if level >= len(res):\n",
    "                res.append([])\n",
    "            res[level].append(node.val)\n",
    "            for child in node.children:\n",
    "                queue.append((child, level + 1))\n",
    "        return res\n"
   ]
  },
  {
   "cell_type": "markdown",
   "metadata": {},
   "source": [
    "Solution_2 : "
   ]
  },
  {
   "cell_type": "code",
   "execution_count": null,
   "metadata": {},
   "outputs": [],
   "source": [
    "\"\"\"\n",
    "# Definition for a Node.\n",
    "class Node(object):\n",
    "    def __init__(self, val, children):\n",
    "        self.val = val\n",
    "        self.children = children\n",
    "\"\"\"\n",
    "class Solution(object):\n",
    "    def levelOrder(self, root):\n",
    "        \"\"\"\n",
    "        :type root: Node\n",
    "        :rtype: List[List[int]]\n",
    "        \"\"\"\n",
    "        res = []\n",
    "        que = collections.deque()\n",
    "        que.append(root)\n",
    "        while que:\n",
    "            level = []\n",
    "            size = len(que)\n",
    "            for _ in range(size):\n",
    "                node = que.popleft()\n",
    "                if not node:\n",
    "                    continue\n",
    "                level.append(node.val)\n",
    "                for child in node.children:\n",
    "                    que.append(child)\n",
    "            if level:\n",
    "                res.append(level)\n",
    "        return res\n"
   ]
  },
  {
   "cell_type": "markdown",
   "metadata": {},
   "source": [
    "Solution_3 : "
   ]
  },
  {
   "cell_type": "code",
   "execution_count": null,
   "metadata": {},
   "outputs": [],
   "source": [
    "class Solution(object):\n",
    "    def levelOrder(self, root):\n",
    "        \"\"\"\n",
    "        :type root: Node\n",
    "        :rtype: List[List[int]]\n",
    "        \"\"\"\n",
    "        if not root:return []\n",
    "        res = []\n",
    "        stack = [root]\n",
    "        while stack:\n",
    "            temp = []\n",
    "            next_stack = []\n",
    "            for node in stack:\n",
    "                temp.append(node.val)\n",
    "                for child in node.children:\n",
    "                    next_stack.append(child)\n",
    "            stack = next_stack\n",
    "            res.append(temp)\n",
    "        return res"
   ]
  }
 ],
 "metadata": {
  "kernelspec": {
   "display_name": "Python 3",
   "language": "python",
   "name": "python3"
  },
  "language_info": {
   "codemirror_mode": {
    "name": "ipython",
    "version": 3
   },
   "file_extension": ".py",
   "mimetype": "text/x-python",
   "name": "python",
   "nbconvert_exporter": "python",
   "pygments_lexer": "ipython3",
   "version": "3.7.1"
  }
 },
 "nbformat": 4,
 "nbformat_minor": 2
}
