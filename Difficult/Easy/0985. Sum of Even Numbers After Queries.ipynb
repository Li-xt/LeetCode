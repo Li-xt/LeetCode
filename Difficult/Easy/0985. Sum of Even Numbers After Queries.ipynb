{
 "cells": [
  {
   "cell_type": "markdown",
   "metadata": {},
   "source": [
    "Solution_1 :"
   ]
  },
  {
   "cell_type": "code",
   "execution_count": null,
   "metadata": {},
   "outputs": [],
   "source": [
    "class Solution(object):\n",
    "    def sumEvenAfterQueries(self, A, queries):\n",
    "        \"\"\"\n",
    "        :type A: List[int]\n",
    "        :type queries: List[List[int]]\n",
    "        :rtype: List[int]\n",
    "        \"\"\"\n",
    "        res = []\n",
    "        count = None\n",
    "        for val,inx in queries:\n",
    "            before = A[inx]\n",
    "            A[inx] += val\n",
    "            after = A[inx]\n",
    "            if count == None:\n",
    "                count = sum(filter(lambda x: x % 2 == 0,A))\n",
    "            else:\n",
    "                if before % 2 == 0:\n",
    "                    count -= before\n",
    "                if after % 2 == 0:\n",
    "                    count += after\n",
    "            res.append(count)\n",
    "        return res"
   ]
  },
  {
   "cell_type": "markdown",
   "metadata": {},
   "source": [
    "Solution_2 :"
   ]
  },
  {
   "cell_type": "code",
   "execution_count": null,
   "metadata": {},
   "outputs": [],
   "source": [
    "class Solution:\n",
    "    def sumEvenAfterQueries(self, A: List[int], queries: List[List[int]]) -> List[int]:\n",
    "        evens = []\n",
    "        even_sum = 0\n",
    "        for x in A:\n",
    "            if x % 2 == 0:\n",
    "                even_sum += x\n",
    "        for i in range(len(queries)):\n",
    "            z = queries[i][1]\n",
    "            if A[z] % 2 == 0:\n",
    "                even_sum = even_sum - A[z]\n",
    "            A[z] = queries[i][0] + A[z]\n",
    "            if A[z] % 2 == 0:\n",
    "                even_sum += A[z]\n",
    "            evens.append(even_sum)\n",
    "        return evens"
   ]
  }
 ],
 "metadata": {
  "kernelspec": {
   "display_name": "Python 3",
   "language": "python",
   "name": "python3"
  },
  "language_info": {
   "codemirror_mode": {
    "name": "ipython",
    "version": 3
   },
   "file_extension": ".py",
   "mimetype": "text/x-python",
   "name": "python",
   "nbconvert_exporter": "python",
   "pygments_lexer": "ipython3",
   "version": "3.7.1"
  }
 },
 "nbformat": 4,
 "nbformat_minor": 2
}
