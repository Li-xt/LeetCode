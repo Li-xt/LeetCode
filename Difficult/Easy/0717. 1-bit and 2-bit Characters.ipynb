{
 "cells": [
  {
   "cell_type": "markdown",
   "metadata": {},
   "source": [
    "Solution_1 : "
   ]
  },
  {
   "cell_type": "code",
   "execution_count": null,
   "metadata": {},
   "outputs": [],
   "source": [
    "\n",
    "class Solution(object):\n",
    "    def isOneBitCharacter(self, bits):\n",
    "        \"\"\"\n",
    "        :type bits: List[int]\n",
    "        :rtype: bool\n",
    "        \"\"\"\n",
    "        pos = 0\n",
    "        while pos < len(bits) - 1:\n",
    "            if bits[pos] == 1:\n",
    "                pos += 2\n",
    "            else:\n",
    "                pos += 1\n",
    "        return pos == len(bits) - 1 and bits[pos] == 0\n"
   ]
  },
  {
   "cell_type": "markdown",
   "metadata": {},
   "source": [
    "Solution_2 :"
   ]
  },
  {
   "cell_type": "code",
   "execution_count": null,
   "metadata": {},
   "outputs": [],
   "source": [
    "class Solution(object):\n",
    "    def isOneBitCharacter(self, bits):\n",
    "        \"\"\"\n",
    "        :type bits: List[int]\n",
    "        :rtype: bool\n",
    "        \"\"\"\n",
    "        def helper(bits, i, j):\n",
    "            if i == j:\n",
    "                return True\n",
    "            if j-i == 1:\n",
    "                if bits[i] == 1:\n",
    "                    return False\n",
    "                return True\n",
    "            if bits[i] == 1:\n",
    "                return helper(bits, i+2, j)\n",
    "            else:\n",
    "                return helper(bits, i+1, j)\n",
    "        return helper(bits, 0, len(bits)-1) "
   ]
  }
 ],
 "metadata": {
  "kernelspec": {
   "display_name": "Python 3",
   "language": "python",
   "name": "python3"
  },
  "language_info": {
   "codemirror_mode": {
    "name": "ipython",
    "version": 3
   },
   "file_extension": ".py",
   "mimetype": "text/x-python",
   "name": "python",
   "nbconvert_exporter": "python",
   "pygments_lexer": "ipython3",
   "version": "3.7.1"
  }
 },
 "nbformat": 4,
 "nbformat_minor": 2
}
