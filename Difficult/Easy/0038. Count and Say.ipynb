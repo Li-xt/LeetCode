{
 "cells": [
  {
   "cell_type": "markdown",
   "metadata": {},
   "source": [
    "Solution_1:"
   ]
  },
  {
   "cell_type": "code",
   "execution_count": 8,
   "metadata": {},
   "outputs": [],
   "source": [
    "class Solution:\n",
    "    def countAndSay(self, n):\n",
    "        \"\"\"\n",
    "        :type n: int\n",
    "        :rtype: str\n",
    "        \"\"\"\n",
    "        ans=\"1\"\n",
    "        while n>1:\n",
    "            ans=self.countstr(ans)\n",
    "            n-=1\n",
    "        return ans\n",
    "        \n",
    "        \n",
    "        \n",
    "        \n",
    "    def countstr(self,s):\n",
    "        ans=\"\"\n",
    "        temp=s[0]\n",
    "        count=0\n",
    "        for i in range(len(s)):\n",
    "            if s[i]==temp:\n",
    "                count+=1\n",
    "            else:\n",
    "                ans+=(str(count)+temp)\n",
    "                temp=s[i]\n",
    "                count=1\n",
    "        ans+=(str(count)+temp)\n",
    "        return ans "
   ]
  },
  {
   "cell_type": "markdown",
   "metadata": {},
   "source": [
    "Solution_2:"
   ]
  },
  {
   "cell_type": "code",
   "execution_count": 9,
   "metadata": {},
   "outputs": [],
   "source": [
    "class Solution(object):\n",
    "    def countAndSay(self, n):\n",
    "        \"\"\"\n",
    "        :type n: int\n",
    "        :rtype: str\n",
    "        \"\"\"\n",
    "        res = \"1\"\n",
    "        for i in range(n - 1):\n",
    "            prev = res[0]\n",
    "            count = 1\n",
    "            ans = \"\"\n",
    "            for j in range(1, len(res)):\n",
    "                cur = res[j]\n",
    "                if prev != cur:\n",
    "                    ans = ans + str(count) + str(prev)\n",
    "                    prev = cur\n",
    "                    count = 0\n",
    "                count += 1\n",
    "            res = ans + str(count) + str(prev)\n",
    "        return res"
   ]
  },
  {
   "cell_type": "code",
   "execution_count": null,
   "metadata": {},
   "outputs": [],
   "source": []
  },
  {
   "cell_type": "code",
   "execution_count": null,
   "metadata": {},
   "outputs": [],
   "source": []
  }
 ],
 "metadata": {
  "kernelspec": {
   "display_name": "Python 3",
   "language": "python",
   "name": "python3"
  },
  "language_info": {
   "codemirror_mode": {
    "name": "ipython",
    "version": 3
   },
   "file_extension": ".py",
   "mimetype": "text/x-python",
   "name": "python",
   "nbconvert_exporter": "python",
   "pygments_lexer": "ipython3",
   "version": "3.7.1"
  }
 },
 "nbformat": 4,
 "nbformat_minor": 2
}
