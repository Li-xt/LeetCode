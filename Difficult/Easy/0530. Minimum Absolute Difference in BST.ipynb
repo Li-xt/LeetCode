{
 "cells": [
  {
   "cell_type": "markdown",
   "metadata": {},
   "source": [
    "Solution_1 : "
   ]
  },
  {
   "cell_type": "code",
   "execution_count": null,
   "metadata": {},
   "outputs": [],
   "source": [
    "# Definition for a binary tree node.\n",
    "# class TreeNode:\n",
    "#     def __init__(self, x):\n",
    "#         self.val = x\n",
    "#         self.left = None\n",
    "#         self.right = None\n",
    "\n",
    "class Solution:\n",
    "    def getMinimumDifference(self, root: TreeNode) -> int:\n",
    "        if not root :\n",
    "            return \n",
    "        temp = [] \n",
    "        node = self.inorder(root, temp)\n",
    "        min_distance = min([abs(node[i+1]- node[i]) for i in range(len(node)-1)])\n",
    "        return min_distance\n",
    "    \n",
    "    def inorder(self,root,temp):\n",
    "        if not root:\n",
    "            return \n",
    "        \n",
    "        self.inorder(root.left,temp)\n",
    "        temp.append(root.val)\n",
    "        self.inorder(root.right,temp)\n",
    "        \n",
    "        return temp "
   ]
  }
 ],
 "metadata": {
  "kernelspec": {
   "display_name": "Python 3",
   "language": "python",
   "name": "python3"
  },
  "language_info": {
   "codemirror_mode": {
    "name": "ipython",
    "version": 3
   },
   "file_extension": ".py",
   "mimetype": "text/x-python",
   "name": "python",
   "nbconvert_exporter": "python",
   "pygments_lexer": "ipython3",
   "version": "3.7.1"
  }
 },
 "nbformat": 4,
 "nbformat_minor": 2
}
