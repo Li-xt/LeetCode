{
 "cells": [
  {
   "cell_type": "markdown",
   "metadata": {},
   "source": [
    "Solution_1 :"
   ]
  },
  {
   "cell_type": "code",
   "execution_count": 2,
   "metadata": {},
   "outputs": [],
   "source": [
    "class Solution:\n",
    "    def findWords(self, words):\n",
    "        dic = {'q': 1,'w': 1,'e': 1,'r': 1,'t': 1,'y': 1,'u': 1,'i': 1,'o': 1,'p': 1,'a': 2,'s': 2,'d': 2,'f': 2,'g': 2,'h': 2,'j': 2,'k': 2,'l': 2,'z': 4,'x': 4,'c': 4,'v': 4,'b': 4,'n': 4,'m': 4}\n",
    "        result = []\n",
    "        for word in words:\n",
    "            sum_result = sum([dic[c] for c in word.lower() ])\n",
    "            len_word = len(word)\n",
    "            if sum_result in [len_word ,  len_word*2 ,len_word*4 ]:\n",
    "                result.append(word)\n",
    "        return result"
   ]
  },
  {
   "cell_type": "markdown",
   "metadata": {},
   "source": [
    "Solution_2 : "
   ]
  },
  {
   "cell_type": "code",
   "execution_count": 10,
   "metadata": {},
   "outputs": [],
   "source": [
    "class Solution:\n",
    "    def findWords(self, words):\n",
    "        r1 = \"QWERTYUIOP\"\n",
    "        r2 = \"ASDFGHJKL\"\n",
    "        r3 = \"ZXCVBNM\"\n",
    "        \n",
    "        r = []\n",
    "        for word in words:\n",
    "            if (all(char in r1 for char in word.upper())) or (all(char in r2 for char in word.upper())) or (all(char in r3 for char in word.upper())):\n",
    "                r.append(word)\n",
    "        \n",
    "        return r"
   ]
  },
  {
   "cell_type": "markdown",
   "metadata": {},
   "source": [
    "Solution_3 :"
   ]
  },
  {
   "cell_type": "code",
   "execution_count": 9,
   "metadata": {},
   "outputs": [],
   "source": [
    "class Solution:\n",
    "    def findWords(self, words):\n",
    "        s1 = set('qwertyuiopQWERTYUIOP')\n",
    "        s2 = set('ASDFGHJKLasdfghjkl')\n",
    "        s3 = set('zxcvbnmZXCVBNM')\n",
    "        \n",
    "        s = []\n",
    "        for word in words:\n",
    "            if set(word) <= s1 or set(word) <= s2 or set(word) <= s3:\n",
    "                s.append(word)\n",
    "        \n",
    "        return s"
   ]
  }
 ],
 "metadata": {
  "kernelspec": {
   "display_name": "Python 3",
   "language": "python",
   "name": "python3"
  },
  "language_info": {
   "codemirror_mode": {
    "name": "ipython",
    "version": 3
   },
   "file_extension": ".py",
   "mimetype": "text/x-python",
   "name": "python",
   "nbconvert_exporter": "python",
   "pygments_lexer": "ipython3",
   "version": "3.7.1"
  }
 },
 "nbformat": 4,
 "nbformat_minor": 2
}
