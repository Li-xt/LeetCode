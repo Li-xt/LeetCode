{
 "cells": [
  {
   "cell_type": "markdown",
   "metadata": {},
   "source": [
    "Solution_1 :"
   ]
  },
  {
   "cell_type": "code",
   "execution_count": 1,
   "metadata": {},
   "outputs": [],
   "source": [
    "\"\"\"\n",
    "# Definition for a Node.\n",
    "class Node:\n",
    "    def __init__(self, val, next, random):\n",
    "        self.val = val\n",
    "        self.next = next\n",
    "        self.random = random\n",
    "\"\"\"\n",
    "class Solution(object):\n",
    "    def copyRandomList(self, head):\n",
    "        \"\"\"\n",
    "        :type head: Node\n",
    "        :rtype: Node\n",
    "        \"\"\"\n",
    "        nodeDict = dict()\n",
    "        dummy = Node(0, None, None)\n",
    "        nodeDict[head] = dummy\n",
    "        newHead, pointer = dummy, head\n",
    "        while pointer:\n",
    "            node = Node(pointer.val, pointer.next, None)\n",
    "            nodeDict[pointer] = node\n",
    "            newHead.next = node\n",
    "            newHead, pointer = newHead.next, pointer.next\n",
    "        pointer = head\n",
    "        while pointer:\n",
    "            if pointer.random:\n",
    "                nodeDict[pointer].random = nodeDict[pointer.random]\n",
    "            pointer = pointer.next\n",
    "        return dummy.next\n"
   ]
  }
 ],
 "metadata": {
  "kernelspec": {
   "display_name": "Python 3",
   "language": "python",
   "name": "python3"
  },
  "language_info": {
   "codemirror_mode": {
    "name": "ipython",
    "version": 3
   },
   "file_extension": ".py",
   "mimetype": "text/x-python",
   "name": "python",
   "nbconvert_exporter": "python",
   "pygments_lexer": "ipython3",
   "version": "3.7.1"
  }
 },
 "nbformat": 4,
 "nbformat_minor": 4
}
