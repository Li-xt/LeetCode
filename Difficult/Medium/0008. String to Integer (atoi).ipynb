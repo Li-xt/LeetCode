{
 "cells": [
  {
   "cell_type": "markdown",
   "metadata": {},
   "source": [
    "Solution_1 :"
   ]
  },
  {
   "cell_type": "code",
   "execution_count": null,
   "metadata": {},
   "outputs": [],
   "source": [
    "class Solution(object):\n",
    "    def myAtoi(self, str):\n",
    "        \"\"\"\n",
    "        :type str: str\n",
    "        :rtype: int\n",
    "        \"\"\"\n",
    "        \n",
    "        str = str.strip()\n",
    "        if not str:\n",
    "            return 0\n",
    "        number, flag = 0, 1\n",
    "        if str[0] == '-':\n",
    "            str = str[1:]\n",
    "            flag = -1\n",
    "        elif str[0] == '+':\n",
    "            str = str[1:]\n",
    "        for c in str:\n",
    "            if c >= '0' and c <= '9':\n",
    "                number = 10*number + ord(c) - ord('0')\n",
    "            else:\n",
    "                break\n",
    "        number = flag * number\n",
    "        number = number if number <= 2147483647 else 2147483647\n",
    "        number = number if number >= -2147483648 else -2147483648\n",
    "        return number"
   ]
  },
  {
   "cell_type": "markdown",
   "metadata": {},
   "source": [
    "Solution_2 :"
   ]
  },
  {
   "cell_type": "code",
   "execution_count": null,
   "metadata": {},
   "outputs": [],
   "source": [
    "class Solution(object):\n",
    "    def myAtoi(self, str):\n",
    "        \"\"\"\n",
    "        :type str: str\n",
    "        :rtype: int\n",
    "        \"\"\"\n",
    "        str = str.strip()\n",
    "        try:\n",
    "            res = re.search('(^[\\+\\-]?\\d+)', str).group()\n",
    "            res = int(res)\n",
    "            res = res if res <= 2147483647 else 2147483647\n",
    "            res = res if res >= -2147483648 else -2147483648\n",
    "        except:\n",
    "            res = 0\n",
    "        return res"
   ]
  }
 ],
 "metadata": {
  "kernelspec": {
   "display_name": "Python 3",
   "language": "python",
   "name": "python3"
  },
  "language_info": {
   "codemirror_mode": {
    "name": "ipython",
    "version": 3
   },
   "file_extension": ".py",
   "mimetype": "text/x-python",
   "name": "python",
   "nbconvert_exporter": "python",
   "pygments_lexer": "ipython3",
   "version": "3.7.1"
  }
 },
 "nbformat": 4,
 "nbformat_minor": 2
}
