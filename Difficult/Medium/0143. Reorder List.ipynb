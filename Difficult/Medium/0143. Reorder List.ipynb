{
 "cells": [
  {
   "cell_type": "markdown",
   "metadata": {},
   "source": [
    "Solution_1 :"
   ]
  },
  {
   "cell_type": "code",
   "execution_count": null,
   "metadata": {},
   "outputs": [],
   "source": [
    "# Definition for singly-linked list.\n",
    "# class ListNode(object):\n",
    "#     def __init__(self, x):\n",
    "#         self.val = x\n",
    "#         self.next = None\n",
    "\n",
    "class Solution(object):\n",
    "    def reorderList(self, head):\n",
    "        \"\"\"\n",
    "        :type head: ListNode\n",
    "        :rtype: void Do not return anything, modify head in-place instead.\n",
    "        \"\"\"\n",
    "        if head and head.next and head.next.next:\n",
    "            #find mid\n",
    "            fast, slow = head, head\n",
    "            while fast.next and fast.next.next:\n",
    "                fast = fast.next.next\n",
    "                slow = slow.next\n",
    "            head1 = head\n",
    "            head2 = slow.next\n",
    "            slow.next = None\n",
    "\n",
    "            # reverse linked list head2     \n",
    "            dummy = ListNode(0)\n",
    "            dummy.next = head2\n",
    "            p = head2.next\n",
    "            head2.next = None\n",
    "            while p:\n",
    "                temp = p\n",
    "                p = p.next\n",
    "                temp.next = dummy.next\n",
    "                dummy.next = temp\n",
    "            head2 = dummy.next\n",
    "\n",
    "            # merge two linked list head1 and head2\n",
    "            p1 = head1\n",
    "            p2 = head2\n",
    "            while p2:\n",
    "                temp1 = p1.next\n",
    "                temp2 = p2.next\n",
    "                p1.next = p2\n",
    "                p2.next = temp1\n",
    "                p1 = temp1\n",
    "                p2 = temp2"
   ]
  }
 ],
 "metadata": {
  "kernelspec": {
   "display_name": "Python 3",
   "language": "python",
   "name": "python3"
  },
  "language_info": {
   "codemirror_mode": {
    "name": "ipython",
    "version": 3
   },
   "file_extension": ".py",
   "mimetype": "text/x-python",
   "name": "python",
   "nbconvert_exporter": "python",
   "pygments_lexer": "ipython3",
   "version": "3.7.1"
  }
 },
 "nbformat": 4,
 "nbformat_minor": 4
}
