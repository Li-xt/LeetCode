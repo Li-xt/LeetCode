{
 "cells": [
  {
   "cell_type": "markdown",
   "metadata": {},
   "source": [
    "Solution_1 :"
   ]
  },
  {
   "cell_type": "code",
   "execution_count": null,
   "metadata": {},
   "outputs": [],
   "source": [
    "class Solution(object):\n",
    "    def zigzagLevelOrder(self, root):\n",
    "        tree = []\n",
    "        if not root:\n",
    "            return tree\n",
    "        curr_level = [root]\n",
    "        direction = 'L'\n",
    "\n",
    "        while curr_level:\n",
    "            level_list = []\n",
    "            next_level = []\n",
    "            for temp in curr_level:\n",
    "                level_list.append(temp.val)\n",
    "                if temp.left:\n",
    "                    next_level.append(temp.left)\n",
    "                if temp.right:\n",
    "                    next_level.append(temp.right)\n",
    "            if direction == 'L':\n",
    "                tree.append(level_list)\n",
    "                direction = 'R'\n",
    "            else:\n",
    "                tree.append(level_list[::-1])\n",
    "                direction = 'L'\n",
    "            curr_level = next_level\n",
    "        return tree"
   ]
  }
 ],
 "metadata": {
  "kernelspec": {
   "display_name": "Python 3",
   "language": "python",
   "name": "python3"
  },
  "language_info": {
   "codemirror_mode": {
    "name": "ipython",
    "version": 3
   },
   "file_extension": ".py",
   "mimetype": "text/x-python",
   "name": "python",
   "nbconvert_exporter": "python",
   "pygments_lexer": "ipython3",
   "version": "3.7.1"
  }
 },
 "nbformat": 4,
 "nbformat_minor": 4
}
