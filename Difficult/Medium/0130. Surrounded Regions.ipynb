{
 "cells": [
  {
   "cell_type": "markdown",
   "metadata": {},
   "source": [
    "Solution_1 : "
   ]
  },
  {
   "cell_type": "code",
   "execution_count": null,
   "metadata": {},
   "outputs": [],
   "source": [
    "class Solution:\n",
    "    def solve(self, board):\n",
    "        \"\"\"\n",
    "        Do not return anything, modify board in-place instead.\n",
    "        \"\"\"\n",
    "        m = len(board)\n",
    "        if m == 0:\n",
    "            return\n",
    "        n = len(board[0])\n",
    "        \n",
    "        def neighbors(x, y)->List[List[int]]:\n",
    "            ans = []\n",
    "            if x + 1 < m and board[x + 1][y] == 'O':\n",
    "                ans.append([x + 1, y])\n",
    "            if x - 1 >= 0 and board[x - 1][y] == 'O':\n",
    "                ans.append([x - 1, y])\n",
    "            if y + 1 < n and board[x][y + 1] == 'O':\n",
    "                ans.append([x, y + 1])\n",
    "            if y - 1 >= 0 and board[x][y - 1] == 'O':\n",
    "                ans.append([x, y - 1])\n",
    "            return ans\n",
    "            \n",
    "        def dfs(i, j): \n",
    "            board[i][j] = 'S'\n",
    "            for neighbor in neighbors(i,j):\n",
    "                x, y = neighbor\n",
    "                dfs(x, y)\n",
    "            return\n",
    "        \n",
    "        for i in range(m):\n",
    "            if board[i][0] == 'O':\n",
    "                dfs(i, 0)\n",
    "            if board[i][n - 1] == 'O':\n",
    "                dfs(i, n - 1)\n",
    "        for j in range(n):\n",
    "            if board[0][j] == 'O':\n",
    "                dfs(0, j)\n",
    "            if board[m - 1][j] == 'O':\n",
    "                dfs(m - 1, j)\n",
    "        \n",
    "        for i in range(m):\n",
    "            for j in range(n):\n",
    "                if board[i][j] == 'O':\n",
    "                    board[i][j] = 'X'\n",
    "                if board[i][j] == 'S':\n",
    "                    board[i][j] = 'O'\n",
    "        \n",
    "        return"
   ]
  },
  {
   "cell_type": "markdown",
   "metadata": {},
   "source": [
    "Solution_2 :"
   ]
  },
  {
   "cell_type": "code",
   "execution_count": null,
   "metadata": {},
   "outputs": [],
   "source": [
    "class Solution:\n",
    "    def solve(self, board):\n",
    "        def fill(x, y):\n",
    "            if x<0 or x>m-1 or y<0 or y>n-1 or board[x][y] != 'O': return\n",
    "            queue.append((x,y))\n",
    "            board[x][y]='D'\n",
    "            \n",
    "        def bfs(x, y):\n",
    "            if board[x][y]=='O':queue.append((x,y)); fill(x,y)\n",
    "            while queue:\n",
    "                curr=queue.pop(0)\n",
    "                i=curr[0]\n",
    "                j=curr[1]\n",
    "                fill(i+1,j)\n",
    "                fill(i-1,j)\n",
    "                fill(i,j+1)\n",
    "                fill(i,j-1)\n",
    "                \n",
    "        if len(board)==0: \n",
    "            return\n",
    "        \n",
    "        m=len(board)\n",
    "        n=len(board[0])\n",
    "        queue=[]\n",
    "        \n",
    "        for i in range(n):\n",
    "            bfs(0,i); bfs(m-1,i)\n",
    "        for j in range(1, m-1):\n",
    "            bfs(j,0); bfs(j,n-1)\n",
    "        for i in range(m):\n",
    "            for j in range(n):\n",
    "                if board[i][j] == 'D': board[i][j] = 'O'\n",
    "                elif board[i][j] == 'O': board[i][j] = 'X'"
   ]
  }
 ],
 "metadata": {
  "kernelspec": {
   "display_name": "Python 3",
   "language": "python",
   "name": "python3"
  },
  "language_info": {
   "codemirror_mode": {
    "name": "ipython",
    "version": 3
   },
   "file_extension": ".py",
   "mimetype": "text/x-python",
   "name": "python",
   "nbconvert_exporter": "python",
   "pygments_lexer": "ipython3",
   "version": "3.7.1"
  }
 },
 "nbformat": 4,
 "nbformat_minor": 4
}
