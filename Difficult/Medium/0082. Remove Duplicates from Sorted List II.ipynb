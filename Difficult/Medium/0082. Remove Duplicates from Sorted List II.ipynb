{
 "cells": [
  {
   "cell_type": "markdown",
   "metadata": {},
   "source": [
    "Solution_1 :"
   ]
  },
  {
   "cell_type": "code",
   "execution_count": null,
   "metadata": {},
   "outputs": [],
   "source": [
    "# Definition for singly-linked list.\n",
    "# class ListNode:\n",
    "#     def __init__(self, x):\n",
    "#         self.val = x\n",
    "#         self.next = None\n",
    "\n",
    "class Solution:\n",
    "    def deleteDuplicates(self, head):\n",
    "        \"\"\"\n",
    "        :type head: ListNode\n",
    "        :rtype: ListNode\n",
    "        \"\"\"\n",
    "        root = ListNode(0)\n",
    "        root.next = head\n",
    "        val_list = []\n",
    "        while head:\n",
    "            val_list.append(head.val)\n",
    "            head = head.next\n",
    "        counter = collections.Counter(val_list)\n",
    "        head = root\n",
    "        while head and head.next:\n",
    "            if counter[head.next.val] != 1:\n",
    "                head.next = head.next.next\n",
    "            else:\n",
    "                head = head.next\n",
    "        return root.next"
   ]
  },
  {
   "cell_type": "markdown",
   "metadata": {},
   "source": [
    "Solution_2 :"
   ]
  },
  {
   "cell_type": "code",
   "execution_count": null,
   "metadata": {},
   "outputs": [],
   "source": [
    "# Definition for singly-linked list.\n",
    "# class ListNode:\n",
    "#     def __init__(self, x):\n",
    "#         self.val = x\n",
    "#         self.next = None\n",
    "\n",
    "class Solution:\n",
    "    def deleteDuplicates(self, head):\n",
    "        if not head:\n",
    "            return head\n",
    "        dummyHead = ListNode(float(\"inf\"))\n",
    "\n",
    "        dummyHead.next = head\n",
    "\n",
    "        crawl = dummyHead\n",
    "        while crawl and crawl.next and crawl.next.next:\n",
    "            if crawl.next.val == crawl.next.next.val:\n",
    "                nextNode = crawl.next.next.next\n",
    "                while nextNode and nextNode.val == crawl.next.val:\n",
    "                    nextNode = nextNode.next\n",
    "                    \n",
    "                crawl.next = nextNode\n",
    "            else:\n",
    "                crawl = crawl.next\n",
    "                \n",
    "        return dummyHead.next"
   ]
  }
 ],
 "metadata": {
  "kernelspec": {
   "display_name": "Python 3",
   "language": "python",
   "name": "python3"
  },
  "language_info": {
   "codemirror_mode": {
    "name": "ipython",
    "version": 3
   },
   "file_extension": ".py",
   "mimetype": "text/x-python",
   "name": "python",
   "nbconvert_exporter": "python",
   "pygments_lexer": "ipython3",
   "version": "3.7.1"
  }
 },
 "nbformat": 4,
 "nbformat_minor": 4
}
