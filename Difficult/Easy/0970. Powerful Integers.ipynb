{
 "cells": [
  {
   "cell_type": "markdown",
   "metadata": {},
   "source": [
    "Solution_1 :"
   ]
  },
  {
   "cell_type": "code",
   "execution_count": 1,
   "metadata": {},
   "outputs": [],
   "source": [
    "class Solution:\n",
    "    def powerfulIntegers(self, x, y, bound):\n",
    "        \"\"\"\n",
    "        :type x: int\n",
    "        :type y: int\n",
    "        :type bound: int\n",
    "        :rtype: List[int]\n",
    "        \"\"\"\n",
    "        pow = []\n",
    "        if bound == 0:return []\n",
    "        xi = int(math.log(bound,x)) if x != 1 else 1 \n",
    "        yi = int(math.log(bound,y)) if y != 1 else 1\n",
    "        for i in range(xi+1):\n",
    "            for j in range(yi+1):\n",
    "                if (x**i + y**j)  <= bound:\n",
    "                    if x**i + y**j not in pow:pow.append(x**i + y**j)\n",
    "                    \n",
    "        return sorted(pow)"
   ]
  },
  {
   "cell_type": "markdown",
   "metadata": {},
   "source": [
    "Solution_2 :"
   ]
  },
  {
   "cell_type": "code",
   "execution_count": null,
   "metadata": {},
   "outputs": [],
   "source": [
    "class Solution:\n",
    "    def powerfulIntegers(self, x, y, bound):\n",
    "        # build a list of all x powers until bound\n",
    "        xpow = []\n",
    "        if x == 1:\n",
    "            xpow = [1]\n",
    "        else:\n",
    "            _x = 1\n",
    "            while _x < bound:\n",
    "                xpow.append(_x)\n",
    "                _x *= x\n",
    "        # build a list of all y powers until bound\n",
    "        ypow = []\n",
    "        if y == 1:\n",
    "            ypow = [1]\n",
    "        else:\n",
    "            _y = 1\n",
    "            while _y < bound:\n",
    "                ypow.append(_y)\n",
    "                _y *= y\n",
    "\n",
    "        # get all relevant sums, now we only need to add. multiplication was done once\n",
    "        # use set to remove duplicates\n",
    "        s = set([x+y for x in xpow for y in ypow if x+y<= bound])\n",
    "        return list(s)"
   ]
  }
 ],
 "metadata": {
  "kernelspec": {
   "display_name": "Python 3",
   "language": "python",
   "name": "python3"
  },
  "language_info": {
   "codemirror_mode": {
    "name": "ipython",
    "version": 3
   },
   "file_extension": ".py",
   "mimetype": "text/x-python",
   "name": "python",
   "nbconvert_exporter": "python",
   "pygments_lexer": "ipython3",
   "version": "3.7.1"
  }
 },
 "nbformat": 4,
 "nbformat_minor": 2
}
