{
 "cells": [
  {
   "cell_type": "markdown",
   "metadata": {},
   "source": [
    "Solution_1 :"
   ]
  },
  {
   "cell_type": "code",
   "execution_count": null,
   "metadata": {},
   "outputs": [],
   "source": [
    "class Solution(object):\n",
    "    def restoreIpAddresses(self, s):\n",
    "        \"\"\"\n",
    "        :type s: str\n",
    "        :rtype: List[str]\n",
    "        \"\"\"\n",
    "        res = []\n",
    "        self.dfs(s, [], res)\n",
    "        return res\n",
    "        \n",
    "    def dfs(self, s, path, res):\n",
    "        if len(s)//3 + len(path) > 4:\n",
    "            return\n",
    "        if not s and len(path) == 4:\n",
    "            res.append('.'.join(path))\n",
    "            return\n",
    "        for i in range(min(3, len(s))):\n",
    "            curr = s[:i+1]\n",
    "            if (curr[0] == '0' and len(curr) >= 2) or int(curr) > 255:\n",
    "                continue\n",
    "            self.dfs(s[i+1:], path + [s[:i+1]], res)\n"
   ]
  },
  {
   "cell_type": "markdown",
   "metadata": {},
   "source": [
    "Solution_2 :"
   ]
  },
  {
   "cell_type": "code",
   "execution_count": null,
   "metadata": {},
   "outputs": [],
   "source": [
    "class Solution(object):\n",
    "    def reverseBetween(self, head, m, n):\n",
    "        dummy = pre = ListNode(0)\n",
    "        dummy.next = head\n",
    "        for _ in range(m-1):\n",
    "            pre = pre.next\n",
    "        cur= pre.next\n",
    "        # reverse the defined part \n",
    "        node = None\n",
    "        for _ in range(n-m+1):\n",
    "            nxt = cur.next\n",
    "            cur.next = node\n",
    "            node = cur\n",
    "            cur= nxt\n",
    "        # connect three parts\n",
    "        pre.next.next = cur\n",
    "        pre.next = node\n",
    "        return dummy.next"
   ]
  }
 ],
 "metadata": {
  "kernelspec": {
   "display_name": "Python 3",
   "language": "python",
   "name": "python3"
  },
  "language_info": {
   "codemirror_mode": {
    "name": "ipython",
    "version": 3
   },
   "file_extension": ".py",
   "mimetype": "text/x-python",
   "name": "python",
   "nbconvert_exporter": "python",
   "pygments_lexer": "ipython3",
   "version": "3.7.1"
  }
 },
 "nbformat": 4,
 "nbformat_minor": 4
}
