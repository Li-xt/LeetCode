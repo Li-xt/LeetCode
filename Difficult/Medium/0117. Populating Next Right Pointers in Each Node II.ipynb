{
 "cells": [
  {
   "cell_type": "markdown",
   "metadata": {},
   "source": [
    "Solution_1 :"
   ]
  },
  {
   "cell_type": "code",
   "execution_count": null,
   "metadata": {},
   "outputs": [],
   "source": [
    "\"\"\"\n",
    "# Definition for a Node.\n",
    "class Node:\n",
    "    def __init__(self, val, left, right, next):\n",
    "        self.val = val\n",
    "        self.left = left\n",
    "        self.right = right\n",
    "        self.next = next\n",
    "\"\"\"\n",
    "class Solution(object):\n",
    "    def connect(self, root):\n",
    "        if root is None:\n",
    "            return root\n",
    "        q = [root]\n",
    "        while len(q) != 0:\n",
    "            newQ = []\n",
    "            prev = q.pop(0)\n",
    "            if prev.right is not None:\n",
    "                newQ.append(prev.right)\n",
    "            if prev.left is not None:\n",
    "                newQ.append(prev.left)\n",
    "            while len(q) != 0:\n",
    "                cur = q.pop(0)\n",
    "                cur.next = prev\n",
    "                prev = cur\n",
    "                if cur.right is not None:\n",
    "                    newQ.append(cur.right)\n",
    "                if cur.left is not None:\n",
    "                    newQ.append(cur.left)\n",
    "            q = newQ\n",
    "        return root\n",
    "        "
   ]
  }
 ],
 "metadata": {
  "kernelspec": {
   "display_name": "Python 3",
   "language": "python",
   "name": "python3"
  },
  "language_info": {
   "codemirror_mode": {
    "name": "ipython",
    "version": 3
   },
   "file_extension": ".py",
   "mimetype": "text/x-python",
   "name": "python",
   "nbconvert_exporter": "python",
   "pygments_lexer": "ipython3",
   "version": "3.7.1"
  }
 },
 "nbformat": 4,
 "nbformat_minor": 4
}
