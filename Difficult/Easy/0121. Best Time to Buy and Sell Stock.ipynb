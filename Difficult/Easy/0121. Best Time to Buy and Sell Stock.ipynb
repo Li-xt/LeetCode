{
 "cells": [
  {
   "cell_type": "markdown",
   "metadata": {},
   "source": [
    "Solution_1 : "
   ]
  },
  {
   "cell_type": "code",
   "execution_count": 1,
   "metadata": {},
   "outputs": [],
   "source": [
    "class Solution:\n",
    "    def maxProfit(self, prices):\n",
    "        \"\"\"\n",
    "        :type prices: List[int]\n",
    "        :rtype: int\n",
    "        \"\"\"\n",
    "        if(len(prices)<=1):\n",
    "            return 0\n",
    "        buyprice=prices[0]\n",
    "        maxprofit=0\n",
    "        for i in range(1,len(prices)):\n",
    "            buyprice=min(buyprice,prices[i])\n",
    "            maxprofit=max(maxprofit,prices[i]-buyprice)\n",
    "        return maxprofit "
   ]
  },
  {
   "cell_type": "markdown",
   "metadata": {},
   "source": [
    "Solution_2 :"
   ]
  },
  {
   "cell_type": "code",
   "execution_count": 3,
   "metadata": {},
   "outputs": [],
   "source": [
    "class Solution(object):\n",
    "    def maxProfit(self, prices):\n",
    "        \"\"\"\n",
    "        :type prices: List[int]\n",
    "        :rtype: int\n",
    "        \"\"\"\n",
    "        N = len(prices)\n",
    "        res = 0\n",
    "        minP, maxP = float(\"inf\"), 0\n",
    "        for i in range(N):\n",
    "            if minP > prices[i]:\n",
    "                minP = prices[i]\n",
    "                maxP = 0\n",
    "            if maxP < prices[i]:\n",
    "                maxP = prices[i]\n",
    "            res = max(res, maxP - minP)\n",
    "        return res"
   ]
  },
  {
   "cell_type": "code",
   "execution_count": null,
   "metadata": {},
   "outputs": [],
   "source": []
  }
 ],
 "metadata": {
  "kernelspec": {
   "display_name": "Python 3",
   "language": "python",
   "name": "python3"
  },
  "language_info": {
   "codemirror_mode": {
    "name": "ipython",
    "version": 3
   },
   "file_extension": ".py",
   "mimetype": "text/x-python",
   "name": "python",
   "nbconvert_exporter": "python",
   "pygments_lexer": "ipython3",
   "version": "3.7.1"
  }
 },
 "nbformat": 4,
 "nbformat_minor": 2
}
