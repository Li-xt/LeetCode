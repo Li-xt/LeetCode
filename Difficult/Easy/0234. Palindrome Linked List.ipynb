{
 "cells": [
  {
   "cell_type": "markdown",
   "metadata": {},
   "source": [
    "Solution_1 : "
   ]
  },
  {
   "cell_type": "code",
   "execution_count": null,
   "metadata": {},
   "outputs": [],
   "source": [
    "# Definition for singly-linked list.\n",
    "# class ListNode(object):\n",
    "#     def __init__(self, x):\n",
    "#         self.val = x\n",
    "#         self.next = None\n",
    "\n",
    "class Solution(object):\n",
    "    def isPalindrome(self, head):\n",
    "        \"\"\"\n",
    "        :type head: ListNode\n",
    "        :rtype: bool\n",
    "        \"\"\"\n",
    "        vals = []\n",
    "        while head:\n",
    "            vals.append(head.val)\n",
    "            head = head.next\n",
    "        N = len(vals)\n",
    "        left, right = 0, N - 1\n",
    "        while left < right:\n",
    "            if vals[left] != vals[right]:\n",
    "                return False\n",
    "            left += 1\n",
    "            right -= 1\n",
    "        return True\n"
   ]
  },
  {
   "cell_type": "markdown",
   "metadata": {},
   "source": [
    "Solution_2 : "
   ]
  },
  {
   "cell_type": "code",
   "execution_count": 2,
   "metadata": {},
   "outputs": [],
   "source": [
    "# Definition for singly-linked list.\n",
    "# class ListNode:\n",
    "#     def __init__(self, x):\n",
    "#         self.val = x\n",
    "#         self.next = None\n",
    "\n",
    "class Solution:\n",
    "    def isPalindrome(self, head) :\n",
    "        if not head or not head.next:\n",
    "            return True \n",
    "        \n",
    "        tmp_list = []\n",
    "        \n",
    "        while head:\n",
    "            tmp_list.append(head.val)\n",
    "            head = head.next\n",
    "            \n",
    "        \n",
    "        if tmp_list == tmp_list[::-1]:\n",
    "            return True \n",
    "        else:\n",
    "            return False "
   ]
  },
  {
   "cell_type": "markdown",
   "metadata": {},
   "source": [
    "Solution_3 : "
   ]
  },
  {
   "cell_type": "code",
   "execution_count": null,
   "metadata": {},
   "outputs": [],
   "source": [
    "# use fast, slow pointer find midpoint \n",
    "# slow = slow.next \n",
    "# fast = fast.next.next\n",
    "\n",
    "# Definition for singly-linked list.\n",
    "# class ListNode(object):\n",
    "#     def __init__(self, x):\n",
    "#         self.val = x\n",
    "#         self.next = None\n",
    "\n",
    "class Solution(object):\n",
    "    def isPalindrome(self, head):\n",
    "        \"\"\"\n",
    "        :type head: ListNode\n",
    "        :rtype: bool\n",
    "        \"\"\"\n",
    "        if not head or not head.next:\n",
    "            return True\n",
    "\n",
    "        # mid point \n",
    "        slow = fast = head\n",
    "        while fast.next and fast.next.next:\n",
    "            slow = slow.next\n",
    "            fast = fast.next.next\n",
    "\n",
    "        slow = slow.next # ListNode[mid:]\n",
    "        slow = self.reverseList(slow)\n",
    "\n",
    "        while slow:\n",
    "            if head.val != slow.val:\n",
    "                return False\n",
    "            slow = slow.next\n",
    "            head = head.next\n",
    "        return True\n",
    "\n",
    "    def reverseList(self, head):\n",
    "        new_head = None\n",
    "        while head:\n",
    "            p = head\n",
    "            head = head.next\n",
    "            p.next = new_head\n",
    "            new_head = p\n",
    "        return new_head"
   ]
  }
 ],
 "metadata": {
  "kernelspec": {
   "display_name": "Python 3",
   "language": "python",
   "name": "python3"
  },
  "language_info": {
   "codemirror_mode": {
    "name": "ipython",
    "version": 3
   },
   "file_extension": ".py",
   "mimetype": "text/x-python",
   "name": "python",
   "nbconvert_exporter": "python",
   "pygments_lexer": "ipython3",
   "version": "3.7.1"
  }
 },
 "nbformat": 4,
 "nbformat_minor": 2
}
