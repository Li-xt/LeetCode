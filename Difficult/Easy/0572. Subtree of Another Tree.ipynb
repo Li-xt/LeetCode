{
 "cells": [
  {
   "cell_type": "markdown",
   "metadata": {},
   "source": [
    "Solution_1 :"
   ]
  },
  {
   "cell_type": "code",
   "execution_count": 1,
   "metadata": {},
   "outputs": [],
   "source": [
    "# Definition for a binary tree node.\n",
    "# class TreeNode:\n",
    "#     def __init__(self, x):\n",
    "#         self.val = x\n",
    "#         self.left = None\n",
    "#         self.right = None\n",
    "\n",
    "class Solution(object):\n",
    "    def check(self, s, t):\n",
    "        if s is None or t is None:\n",
    "            return s is None and t is None\n",
    "        if s.val != t.val:\n",
    "            return False\n",
    "        return self.check(s.left, t.left) and self.check(s.right, t.right)\n",
    "    def isSubtree(self, s, t):\n",
    "        \"\"\"\n",
    "        :type s: TreeNode\n",
    "        :type t: TreeNode\n",
    "        :rtype: bool\n",
    "        \"\"\"\n",
    "        if s is None or t is None:\n",
    "            return s is None and t is None\n",
    "        if self.check(s, t):\n",
    "            return True\n",
    "        return self.isSubtree(s.left, t) or self.isSubtree(s.right, t)\n"
   ]
  },
  {
   "cell_type": "markdown",
   "metadata": {},
   "source": [
    "Solution_2 :"
   ]
  },
  {
   "cell_type": "code",
   "execution_count": null,
   "metadata": {},
   "outputs": [],
   "source": [
    "class Solution:\n",
    "\tdef pre_order_traversal(self,root):\n",
    "\t\tstack,res = [],''\n",
    "\t\tnode =root\n",
    "\t\twhile stack or node:\n",
    "\t\t\twhile node:\n",
    "\t\t\t\tstack.append(node)\n",
    "\t\t\t\tres += '^'+ str(node.val)\n",
    "\t\t\t\tnode = node.left          \n",
    "\t\t\t\tres += '#' if node else '$'       \n",
    "\t\t\tnode = stack.pop()\n",
    "\t\t\tnode = node.right\n",
    "\t\t\tres += '#' if node else '$'        \n",
    "\t\treturn res\n",
    "\n",
    "\tdef isSubtree(self, s: TreeNode, t: TreeNode) -> bool:\n",
    "\t\treturn self.pre_order_traversal(t) in self.pre_order_traversal(s)"
   ]
  }
 ],
 "metadata": {
  "kernelspec": {
   "display_name": "Python 3",
   "language": "python",
   "name": "python3"
  },
  "language_info": {
   "codemirror_mode": {
    "name": "ipython",
    "version": 3
   },
   "file_extension": ".py",
   "mimetype": "text/x-python",
   "name": "python",
   "nbconvert_exporter": "python",
   "pygments_lexer": "ipython3",
   "version": "3.7.1"
  }
 },
 "nbformat": 4,
 "nbformat_minor": 2
}
