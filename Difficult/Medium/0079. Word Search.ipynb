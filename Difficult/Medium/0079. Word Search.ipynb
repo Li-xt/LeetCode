{
 "cells": [
  {
   "cell_type": "markdown",
   "metadata": {},
   "source": [
    "Solution_1 :"
   ]
  },
  {
   "cell_type": "code",
   "execution_count": null,
   "metadata": {},
   "outputs": [],
   "source": [
    "class Solution:\n",
    "    def exist(self, board, word):\n",
    "        count=collections.Counter(x for rows in board for x in rows)\n",
    "        for c, cnt in collections.Counter(word).items():\n",
    "            if cnt>count[c]:return False\n",
    "        r= len(board)\n",
    "        c=len(board[0])\n",
    "        length=len(word)\n",
    "        def go(x,y,index):\n",
    "            if index==length:\n",
    "                return True\n",
    "            w=word[index]\n",
    "            prev=board[x][y]\n",
    "            board[x][y]=''\n",
    "            if x>0 and board[x-1][y]==w and go(x-1,y,index+1):\n",
    "                return True\n",
    "            if x+1<r and board[x+1][y]==w and go(x+1,y,index+1):\n",
    "                return True\n",
    "            if y>0 and board[x][y-1]==w and go(x,y-1,index+1):\n",
    "                return True\n",
    "            if y+1<c and board[x][y+1]==w and go(x,y+1,index+1):\n",
    "                return True\n",
    "            board[x][y]=prev\n",
    "            return False\n",
    "        candidates=((x,y) for x in range(r) for y in range(c) if board[x][y]==word[0])\n",
    "        return any(go(x,y,1) for x,y in candidates)"
   ]
  }
 ],
 "metadata": {
  "kernelspec": {
   "display_name": "Python 3",
   "language": "python",
   "name": "python3"
  },
  "language_info": {
   "codemirror_mode": {
    "name": "ipython",
    "version": 3
   },
   "file_extension": ".py",
   "mimetype": "text/x-python",
   "name": "python",
   "nbconvert_exporter": "python",
   "pygments_lexer": "ipython3",
   "version": "3.7.1"
  }
 },
 "nbformat": 4,
 "nbformat_minor": 4
}
