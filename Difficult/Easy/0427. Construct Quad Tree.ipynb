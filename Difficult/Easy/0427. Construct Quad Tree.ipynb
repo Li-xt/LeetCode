{
 "cells": [
  {
   "cell_type": "markdown",
   "metadata": {},
   "source": [
    "Solution_1 : "
   ]
  },
  {
   "cell_type": "code",
   "execution_count": null,
   "metadata": {},
   "outputs": [],
   "source": [
    "\"\"\"\n",
    "# Definition for a QuadTree node.\n",
    "class Node:\n",
    "    def __init__(self, val, isLeaf, topLeft, topRight, bottomLeft, bottomRight):\n",
    "        self.val = val\n",
    "        self.isLeaf = isLeaf\n",
    "        self.topLeft = topLeft\n",
    "        self.topRight = topRight\n",
    "        self.bottomLeft = bottomLeft\n",
    "        self.bottomRight = bottomRight\n",
    "\"\"\"\n",
    "class Solution:\n",
    "    def construct(self, grid):\n",
    "        \"\"\"\n",
    "        :type grid: List[List[int]]\n",
    "        :rtype: Node\n",
    "        \"\"\"\n",
    "        isLeaf = self.isQuadTree(grid)\n",
    "        _len = len(grid)\n",
    "        if isLeaf == None:\n",
    "            mid = _len // 2\n",
    "            topLeftGrid = [[grid[i][j] for j in range(mid)] for i in range(mid)]\n",
    "            topRightGrid = [[grid[i][j] for j in range(mid, _len)] for i in range(mid)]\n",
    "            bottomLeftGrid = [[grid[i][j] for j in range(mid)] for i in range(mid, _len)]\n",
    "            bottomRightGrid = [[grid[i][j] for j in range(mid, _len)] for i in range(mid, _len)]\n",
    "            node = Node(True, False, self.construct(topLeftGrid), self.construct(topRightGrid), \n",
    "                        self.construct(bottomLeftGrid), self.construct(bottomRightGrid))\n",
    "        elif isLeaf == False:\n",
    "            node = Node(False, True, None, None, None, None)\n",
    "        else:\n",
    "            node = Node(True, True, None, None, None, None)\n",
    "        return node\n",
    "        \n",
    "    def isQuadTree(self, grid):\n",
    "        _len = len(grid)\n",
    "        _sum = 0\n",
    "        for i in range(_len):\n",
    "            _sum += sum(grid[i])\n",
    "        if _sum == _len ** 2:\n",
    "            return True\n",
    "        elif _sum == 0:\n",
    "            return False\n",
    "        else:\n",
    "            return None\n"
   ]
  },
  {
   "cell_type": "markdown",
   "metadata": {},
   "source": [
    "Solution_2 :"
   ]
  },
  {
   "cell_type": "code",
   "execution_count": 3,
   "metadata": {},
   "outputs": [],
   "source": [
    "class Solution:\n",
    "    def construct(self, grid: 'List[List[int]]') -> 'Node':\n",
    "        row_sum = sum([sum(i) for i in grid])\n",
    "        if(row_sum == pow(len(grid),2)):\n",
    "            return Node(True, True, None, None, None, None)\n",
    "        elif row_sum == 0:\n",
    "            return Node(False, True, None, None, None, None)\n",
    "        else:\n",
    "            N = len(grid)\n",
    "            half = N//2\n",
    "            top_left = [grid[i][:half] for i in range(half)]\n",
    "            top_right = [grid[i][half:] for i in range(half)]\n",
    "            bottom_left = [grid[i][:half] for i in range(half, N)]\n",
    "            bottom_right = [grid[i][half:] for i in range(half, N)]\n",
    "            node = Node(True, False, self.construct(top_left), self.construct(top_right), self.construct(bottom_left), self.construct(bottom_right))\n",
    "            return node"
   ]
  },
  {
   "cell_type": "code",
   "execution_count": null,
   "metadata": {},
   "outputs": [],
   "source": []
  }
 ],
 "metadata": {
  "kernelspec": {
   "display_name": "Python 3",
   "language": "python",
   "name": "python3"
  },
  "language_info": {
   "codemirror_mode": {
    "name": "ipython",
    "version": 3
   },
   "file_extension": ".py",
   "mimetype": "text/x-python",
   "name": "python",
   "nbconvert_exporter": "python",
   "pygments_lexer": "ipython3",
   "version": "3.7.1"
  }
 },
 "nbformat": 4,
 "nbformat_minor": 2
}
