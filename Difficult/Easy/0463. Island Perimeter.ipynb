{
 "cells": [
  {
   "cell_type": "markdown",
   "metadata": {},
   "source": [
    "Solution_1 : "
   ]
  },
  {
   "cell_type": "code",
   "execution_count": null,
   "metadata": {},
   "outputs": [],
   "source": [
    "class Solution:\n",
    "    def islandPerimeter(self, grid: List[List[int]]) -> int:\n",
    "        M, N = len(grid), len(grid[0])\n",
    "        counts = 0\n",
    "        neighbors = 0\n",
    "        for i in range(M):\n",
    "            for j in range(N):\n",
    "                if grid[i][j] == 1:\n",
    "                    counts += 1\n",
    "                    if i < M - 1:\n",
    "                        if grid[i + 1][j] == 1:\n",
    "                            neighbors += 1\n",
    "                    if j < N - 1:\n",
    "                        if grid[i][j + 1] == 1:\n",
    "                            neighbors += 1\n",
    "        return 4 * counts - 2 * neighbors\n"
   ]
  },
  {
   "cell_type": "markdown",
   "metadata": {},
   "source": [
    "Solution_2 : "
   ]
  },
  {
   "cell_type": "code",
   "execution_count": null,
   "metadata": {},
   "outputs": [],
   "source": [
    "class Solution:\n",
    "    def islandPerimeter(self, grid: List[List[int]]) -> int:\n",
    "        peri = 0\n",
    "        for row in range(len(grid)):\n",
    "            for col in range(len(grid[row])):\n",
    "                if grid[row][col] == 1: \n",
    "                    peri += 4\n",
    "                    if row > 0 and grid[row-1][col] == 1: peri -= 2\n",
    "                    if col > 0 and grid[row][col-1] == 1: peri -= 2\n",
    "        \n",
    "        return peri"
   ]
  }
 ],
 "metadata": {
  "kernelspec": {
   "display_name": "Python 3",
   "language": "python",
   "name": "python3"
  },
  "language_info": {
   "codemirror_mode": {
    "name": "ipython",
    "version": 3
   },
   "file_extension": ".py",
   "mimetype": "text/x-python",
   "name": "python",
   "nbconvert_exporter": "python",
   "pygments_lexer": "ipython3",
   "version": "3.7.1"
  }
 },
 "nbformat": 4,
 "nbformat_minor": 2
}
