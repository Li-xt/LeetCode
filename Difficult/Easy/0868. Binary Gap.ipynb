{
 "cells": [
  {
   "cell_type": "markdown",
   "metadata": {},
   "source": [
    "Solution_1 :"
   ]
  },
  {
   "cell_type": "code",
   "execution_count": 1,
   "metadata": {},
   "outputs": [],
   "source": [
    "class Solution:\n",
    "    def binaryGap(self, N):\n",
    "        \"\"\"\n",
    "        :type N: int\n",
    "        :rtype: int\n",
    "        \"\"\"\n",
    "        nbins = bin(N)[2:]\n",
    "        index = -1\n",
    "        res = 0\n",
    "        for i, b in enumerate(nbins):\n",
    "            if b == \"1\":\n",
    "                if index != -1:\n",
    "                    res = max(res, i - index)\n",
    "                index = i\n",
    "        return res"
   ]
  },
  {
   "cell_type": "markdown",
   "metadata": {},
   "source": [
    "Solution_2 :"
   ]
  },
  {
   "cell_type": "code",
   "execution_count": null,
   "metadata": {},
   "outputs": [],
   "source": [
    "class Solution:\n",
    "    def binaryGap(self, N):\n",
    "        \"\"\"\n",
    "        :type N: int\n",
    "        :rtype: int\n",
    "        \"\"\"\n",
    "        input = bin(N)[2:]\n",
    "        indices = []\n",
    "        for i in range(0,len(input)):\n",
    "            if input[i] == '1':\n",
    "                indices.append(i)\n",
    "        max = 0\n",
    "        for j in range(0,len(indices)-1):\n",
    "            if indices[j+1] - indices[j] >= max:\n",
    "                max = indices[j+1] - indices[j]\n",
    "        return max"
   ]
  }
 ],
 "metadata": {
  "kernelspec": {
   "display_name": "Python 3",
   "language": "python",
   "name": "python3"
  },
  "language_info": {
   "codemirror_mode": {
    "name": "ipython",
    "version": 3
   },
   "file_extension": ".py",
   "mimetype": "text/x-python",
   "name": "python",
   "nbconvert_exporter": "python",
   "pygments_lexer": "ipython3",
   "version": "3.7.1"
  }
 },
 "nbformat": 4,
 "nbformat_minor": 2
}
