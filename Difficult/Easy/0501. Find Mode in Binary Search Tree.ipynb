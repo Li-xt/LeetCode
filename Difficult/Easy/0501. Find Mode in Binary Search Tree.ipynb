{
 "cells": [
  {
   "cell_type": "markdown",
   "metadata": {},
   "source": [
    "Solution_1 :"
   ]
  },
  {
   "cell_type": "code",
   "execution_count": 3,
   "metadata": {},
   "outputs": [],
   "source": [
    "# Definition for a binary tree node.\n",
    "# class TreeNode:\n",
    "#     def __init__(self, x):\n",
    "#         self.val = x\n",
    "#         self.left = None\n",
    "#         self.right = None\n",
    "\n",
    "class Solution:\n",
    "    def findMode(self, root):\n",
    "        counter =  collections.Counter()\n",
    "        \n",
    "        if not root:\n",
    "            return []\n",
    "        \n",
    "        def DFS(root):\n",
    "            if not root:\n",
    "                return \n",
    "            counter[root.val] += 1 \n",
    "            DFS(root.left)\n",
    "            DFS(root.right)\n",
    "            \n",
    "        DFS(root)\n",
    "        \n",
    "        maxn = max([v for e, v in counter.items()])\n",
    "        return [e for e, v in counter.items() if v == maxn]"
   ]
  },
  {
   "cell_type": "markdown",
   "metadata": {},
   "source": [
    "Solution_2 :"
   ]
  },
  {
   "cell_type": "code",
   "execution_count": null,
   "metadata": {},
   "outputs": [],
   "source": [
    "# Definition for a binary tree node.\n",
    "# class TreeNode:\n",
    "#     def __init__(self, x):\n",
    "#         self.val = x\n",
    "#         self.left = None\n",
    "#         self.right = None\n",
    "\n",
    "class Solution:\n",
    "    def findMode(self, root):\n",
    "        \n",
    "        if not root:\n",
    "            return []\n",
    "\n",
    "        queue = [root]\n",
    "        mydir = {}\n",
    "        res = []\n",
    "\n",
    "        while queue:\n",
    "            tempq = []\n",
    "            for node in queue:\n",
    "                mydir[node.val] = mydir.get(node.val, 0) + 1\n",
    "                if node.left:\n",
    "                    tempq.append(node.left)\n",
    "                if node.right:\n",
    "                    tempq.append(node.right)\n",
    "            queue = tempq\n",
    "\n",
    "        maxfreq = max(mydir.values())\n",
    "        for key, val in mydir.items():\n",
    "            if val == maxfreq:\n",
    "                res.append(key)\n",
    "        return res"
   ]
  }
 ],
 "metadata": {
  "kernelspec": {
   "display_name": "Python 3",
   "language": "python",
   "name": "python3"
  },
  "language_info": {
   "codemirror_mode": {
    "name": "ipython",
    "version": 3
   },
   "file_extension": ".py",
   "mimetype": "text/x-python",
   "name": "python",
   "nbconvert_exporter": "python",
   "pygments_lexer": "ipython3",
   "version": "3.7.1"
  }
 },
 "nbformat": 4,
 "nbformat_minor": 2
}
