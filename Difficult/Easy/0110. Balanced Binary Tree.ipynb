{
 "cells": [
  {
   "cell_type": "markdown",
   "metadata": {},
   "source": [
    "Solution_1 : "
   ]
  },
  {
   "cell_type": "code",
   "execution_count": 1,
   "metadata": {},
   "outputs": [],
   "source": [
    "# Definition for a binary tree node.\n",
    "# class TreeNode:\n",
    "#     def __init__(self, x):\n",
    "#         self.val = x\n",
    "#         self.left = None\n",
    "#         self.right = None\n",
    "\n",
    "class Solution:\n",
    "    def Height(self,root):\n",
    "        if root == None:\n",
    "            return 0\n",
    "        return max(self.Height(root.left),self.Height(root.right))+1\n",
    "        \n",
    "    def isBalanced (self,root):\n",
    "        if root== None :\n",
    "            return True \n",
    "        if abs(  self.Height(root.left)-self.Height(root.right)  )<=1:\n",
    "            return self.isBalanced(root.left) and self.isBalanced(root.right)\n",
    "        else:\n",
    "            return False"
   ]
  },
  {
   "cell_type": "markdown",
   "metadata": {},
   "source": [
    "Solution_2 : "
   ]
  },
  {
   "cell_type": "code",
   "execution_count": null,
   "metadata": {},
   "outputs": [],
   "source": [
    "# Definition for a binary tree node.\n",
    "# class TreeNode:\n",
    "#     def __init__(self, x):\n",
    "#         self.val = x\n",
    "#         self.left = None\n",
    "#         self.right = None\n",
    "I \n",
    "class Solution(object):\n",
    "    def isBalanced(self, root):\n",
    "        global res\n",
    "        res = True\n",
    "        def getHeight(root):\n",
    "            global res\n",
    "            if not root: return 0\n",
    "            leftHeight = getHeight(root.left)\n",
    "            if leftHeight < 0:\n",
    "                res = False\n",
    "                return -1\n",
    "            rightHeight = getHeight(root.right)\n",
    "            if rightHeight < 0 or abs(leftHeight - rightHeight) > 1:\n",
    "                res = False\n",
    "                return -1\n",
    "            return max(leftHeight, rightHeight) + 1\n",
    "        getHeight(root)\n",
    "        return res"
   ]
  },
  {
   "cell_type": "code",
   "execution_count": null,
   "metadata": {},
   "outputs": [],
   "source": []
  }
 ],
 "metadata": {
  "kernelspec": {
   "display_name": "Python 3",
   "language": "python",
   "name": "python3"
  },
  "language_info": {
   "codemirror_mode": {
    "name": "ipython",
    "version": 3
   },
   "file_extension": ".py",
   "mimetype": "text/x-python",
   "name": "python",
   "nbconvert_exporter": "python",
   "pygments_lexer": "ipython3",
   "version": "3.7.1"
  }
 },
 "nbformat": 4,
 "nbformat_minor": 2
}
