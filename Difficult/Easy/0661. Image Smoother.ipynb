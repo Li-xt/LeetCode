{
 "cells": [
  {
   "cell_type": "markdown",
   "metadata": {},
   "source": [
    "Solution_1 :"
   ]
  },
  {
   "cell_type": "code",
   "execution_count": 1,
   "metadata": {},
   "outputs": [],
   "source": [
    "class Solution(object):\n",
    "    def imageSmoother(self, M):\n",
    "        if not M or not M[0]:\n",
    "            return M\n",
    "        rows = len(M)\n",
    "        cols = len(M[0])\n",
    "        isValid = lambda i,j: i >=0 and i < rows and j >= 0 and j < cols\n",
    "        row, col = 0, 0\n",
    "        answer  = []\n",
    "        for i in range(rows):\n",
    "            answer.append([])\n",
    "        for row in range(rows):\n",
    "            for col in range(cols):\n",
    "                _sum, count = 0, 0\n",
    "                for i in range(-1, 2):\n",
    "                    for j in range(-1, 2):\n",
    "                        if isValid(row + i, col + j):\n",
    "                            _sum += M[row + i][col + j]\n",
    "                            count += 1\n",
    "                answer[row].append( int(_sum / count ))\n",
    "        return answer\n",
    "\n",
    "        \n"
   ]
  },
  {
   "cell_type": "markdown",
   "metadata": {},
   "source": [
    "Solution_2 :"
   ]
  },
  {
   "cell_type": "code",
   "execution_count": null,
   "metadata": {},
   "outputs": [],
   "source": [
    "class Solution:\n",
    "    def imageSmoother(self, M: List[List[int]]) -> List[List[int]]:\n",
    "        \n",
    "        SM = []\n",
    "        num_row = len(M)\n",
    "        num_col = len(M[0])\n",
    "        \n",
    "        \n",
    "        for i in range(num_row):\n",
    "            SM_row = []\n",
    "            for j in range(num_col):\n",
    "                neighbours = []\n",
    "                cond1, cond2, cond3, cond4 = False, False, False, False\n",
    "                \n",
    "                #up and down neighbours\n",
    "                if i-1 > -1:\n",
    "                    neighbours.append(M[i-1][j])\n",
    "                    cond1 = True\n",
    "                if i+1 < num_row:\n",
    "                    neighbours.append(M[i+1][j])\n",
    "                    cond2 = True\n",
    "                    \n",
    "                #left and right neighbours\n",
    "                if j-1 > -1:\n",
    "                    neighbours.append(M[i][j-1])\n",
    "                    cond3 = True\n",
    "                if j+1 < num_col:\n",
    "                    neighbours.append(M[i][j+1])\n",
    "                    cond4 = True\n",
    "                \n",
    "                #diagonal neighbours\n",
    "                if cond1 and cond3:\n",
    "                    neighbours.append(M[i-1][j-1])\n",
    "                if cond1 and cond4:\n",
    "                    neighbours.append(M[i-1][j+1]) \n",
    "                if cond2 and cond3:\n",
    "                    neighbours.append(M[i+1][j-1])\n",
    "                if cond2 and cond4:\n",
    "                    neighbours.append(M[i+1][j+1])\n",
    "                \n",
    "                tot=len(neighbours)+1\n",
    "                smoothness = (sum(neighbours)+M[i][j])//tot\n",
    "                \n",
    "                SM_row.append(smoothness)\n",
    "                \n",
    "            SM.append(SM_row)\n",
    "        \n",
    "        return SM"
   ]
  },
  {
   "cell_type": "markdown",
   "metadata": {},
   "source": [
    "Solution_3 : "
   ]
  },
  {
   "cell_type": "code",
   "execution_count": null,
   "metadata": {},
   "outputs": [],
   "source": [
    "class Solution(object):\n",
    "    def imageSmoother(self, M):\n",
    "        \"\"\"\n",
    "        :type M: List[List[int]]\n",
    "        :rtype: List[List[int]]\n",
    "        \"\"\"\n",
    "        import math\n",
    "        m = len(M)\n",
    "        n = len(M[0])\n",
    "        N = [[0 for i in range(n)] for j in range(m)]\n",
    "        if m == 1 and n == 1:\n",
    "            return M\n",
    "        if m == 1:\n",
    "            for i in range(n):\n",
    "                if i == 0:\n",
    "                    N[0][0] = (M[0][1] + M[0][0])//2\n",
    "                elif i == n-1:\n",
    "                    N[0][n-1] = (M[0][n-2] + M[0][n-1])//2\n",
    "                else:\n",
    "                    N[0][i] = (M[0][i-1]+M[0][i]+M[0][i+1])//3\n",
    "            return N\n",
    "        if n == 1:\n",
    "            for i in range(m):\n",
    "                if i == 0:\n",
    "                    N[0][0] = (M[1][0]+M[0][0])//2\n",
    "                elif i == m-1:\n",
    "                    N[m-1][0] = (M[m-2][0] + M[m-1][0])//2\n",
    "                else:\n",
    "                    N[i][0] = (M[i-1][0]+M[i][0]+M[i+1][0])//3\n",
    "            return N\n",
    "        for i in range(n):\n",
    "            if i == 0:\n",
    "                N[0][0] = (M[0][1] + M[0][0] + M[1][0] + M[1][1])//4\n",
    "                N[m-1][0] = (M[m-2][0] + M[m-1][0] + M[m-2][1] + M[m-1][1])//4\n",
    "            elif i == n-1:\n",
    "                N[0][n-1] = (M[0][n-2] + M[0][n-1] + M[1][n-2] + M[1][n-1])//4\n",
    "                N[m-1][n-1] = (M[m-1][n-2] + M[m-1][n-1] + M[m-2][n-2] + M[m-2][n-1])//4\n",
    "            else:\n",
    "                N[0][i] = (M[0][i-1]+M[0][i]+M[0][i+1]+M[1][i-1]+M[1][i]+M[1][i+1])//6\n",
    "                N[m-1][i] = (M[m-1][i-1]+M[m-1][i]+M[m-1][i+1]+M[m-2][i-1]+M[m-2][i]+M[m-2][i+1])//6\n",
    "        for i in range(1, m-1):\n",
    "            N[i][0] = (M[i-1][0]+M[i][0]+M[i+1][0]+M[i-1][1]+M[i][1]+M[i+1][1])//6\n",
    "            N[i][n-1] = (M[i-1][n-1]+M[i][n-1]+M[i+1][n-1]+M[i-1][n-2]+M[i][n-2]+M[i+1][n-2])//6\n",
    "        for i in range(1, m-1):\n",
    "            for j in range(1, n-1):\n",
    "                N[i][j] = (M[i-1][j-1]+M[i][j-1]+M[i+1][j-1]+M[i-1][j]+M[i][j]+M[i+1][j]+M[i-1][j+1]+M[i][j+1]+M[i+1][j+1])//9\n",
    "        return N"
   ]
  }
 ],
 "metadata": {
  "kernelspec": {
   "display_name": "Python 3",
   "language": "python",
   "name": "python3"
  },
  "language_info": {
   "codemirror_mode": {
    "name": "ipython",
    "version": 3
   },
   "file_extension": ".py",
   "mimetype": "text/x-python",
   "name": "python",
   "nbconvert_exporter": "python",
   "pygments_lexer": "ipython3",
   "version": "3.7.1"
  }
 },
 "nbformat": 4,
 "nbformat_minor": 2
}
