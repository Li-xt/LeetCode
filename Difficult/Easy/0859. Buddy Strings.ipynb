{
 "cells": [
  {
   "cell_type": "markdown",
   "metadata": {},
   "source": [
    "Solution_1 :"
   ]
  },
  {
   "cell_type": "code",
   "execution_count": null,
   "metadata": {},
   "outputs": [],
   "source": [
    "class Solution:\n",
    "    def buddyStrings(self, A, B):\n",
    "        \"\"\"\n",
    "        :type A: str\n",
    "        :type B: str\n",
    "        :rtype: bool\n",
    "        \"\"\"\n",
    "        if len(A) != len(B):\n",
    "            return False\n",
    "        diff = 0\n",
    "        idxs = []\n",
    "        for i, a in enumerate(A):\n",
    "            if B[i] != a:\n",
    "                diff += 1\n",
    "                idxs.append(i)\n",
    "        counter = dict()\n",
    "        if diff == 0:\n",
    "            for a in A:\n",
    "                if a in counter and counter[a]:\n",
    "                    return True\n",
    "                else:\n",
    "                    counter[a] = True\n",
    "        if diff != 2:\n",
    "            return False\n",
    "        return A[idxs[0]] == B[idxs[1]] and A[idxs[1]] == B[idxs[0]]"
   ]
  },
  {
   "cell_type": "markdown",
   "metadata": {},
   "source": [
    "Solution_2 :"
   ]
  },
  {
   "cell_type": "code",
   "execution_count": null,
   "metadata": {},
   "outputs": [],
   "source": [
    "class Solution:\n",
    "    def buddyStrings(self, A: str, B: str) -> bool:\n",
    "        if len(A) != len(B) or len(A) == 0: return False\n",
    "        \n",
    "        diffs = []\n",
    "        for a, b in zip(A, B):\n",
    "            if a != b:\n",
    "                diffs.append([a,b])\n",
    "                \n",
    "                if len(diffs) > 2:\n",
    "                    return False\n",
    "        \n",
    "        if len(diffs) == 0: \n",
    "            return A[0] in B[1:]\n",
    "        \n",
    "        return diffs[0][1] == diffs[1][0] and diffs[1][1] == diffs[0][0]\n"
   ]
  }
 ],
 "metadata": {
  "kernelspec": {
   "display_name": "Python 3",
   "language": "python",
   "name": "python3"
  },
  "language_info": {
   "codemirror_mode": {
    "name": "ipython",
    "version": 3
   },
   "file_extension": ".py",
   "mimetype": "text/x-python",
   "name": "python",
   "nbconvert_exporter": "python",
   "pygments_lexer": "ipython3",
   "version": "3.7.1"
  }
 },
 "nbformat": 4,
 "nbformat_minor": 2
}
