{
 "cells": [
  {
   "cell_type": "markdown",
   "metadata": {},
   "source": [
    "Solution_1 :"
   ]
  },
  {
   "cell_type": "code",
   "execution_count": null,
   "metadata": {},
   "outputs": [],
   "source": [
    "class Solution(object):\n",
    "    def largestTimeFromDigits(self, A):\n",
    "        \"\"\"\n",
    "        :type A: List[int]\n",
    "        :rtype: str\n",
    "        \"\"\"\n",
    "        A.sort()\n",
    "        for h in range(23, -1, -1):\n",
    "            for m in range(59, -1, -1):\n",
    "                t = [h // 10, h % 10, m // 10, m % 10]\n",
    "                ts = sorted(t)\n",
    "                if ts == A:\n",
    "                    return str(t[0]) + str(t[1]) + \":\" + str(t[2]) + str(t[3])\n",
    "        return \"\""
   ]
  },
  {
   "cell_type": "markdown",
   "metadata": {},
   "source": [
    "Solution_2 :"
   ]
  },
  {
   "cell_type": "code",
   "execution_count": null,
   "metadata": {},
   "outputs": [],
   "source": [
    "from itertools import permutations\n",
    "class Solution:\n",
    "    def largestTimeFromDigits(self, A) :\n",
    "        A.sort()\n",
    "        if A[0]>2 or A[1]>5:\n",
    "            return(\"\")\n",
    "        ans=\"\"\n",
    "        mh=-1\n",
    "        mm=-1\n",
    "        flag=0\n",
    "        for s in permutations(A):\n",
    "            h = s[0]*10+s[1]\n",
    "            m = s[2]*10+s[3]\n",
    "            if (mh<h<24 and m<60) or (h==mh and mm<m<60):\n",
    "                flag=1\n",
    "                mh=h\n",
    "                mm=m\n",
    "        if flag:\n",
    "            return(\"%02d:%02d\"%(mh,mm))\n",
    "        else:\n",
    "            return(\"\")\n"
   ]
  }
 ],
 "metadata": {
  "kernelspec": {
   "display_name": "Python 3",
   "language": "python",
   "name": "python3"
  },
  "language_info": {
   "codemirror_mode": {
    "name": "ipython",
    "version": 3
   },
   "file_extension": ".py",
   "mimetype": "text/x-python",
   "name": "python",
   "nbconvert_exporter": "python",
   "pygments_lexer": "ipython3",
   "version": "3.7.1"
  }
 },
 "nbformat": 4,
 "nbformat_minor": 2
}
