{
 "cells": [
  {
   "cell_type": "markdown",
   "metadata": {},
   "source": [
    "Solution_1 :"
   ]
  },
  {
   "cell_type": "code",
   "execution_count": 1,
   "metadata": {},
   "outputs": [],
   "source": [
    "class Solution(object):\n",
    "    def rotatedDigits(self, N):\n",
    "        \"\"\"\n",
    "        :type N: int\n",
    "        :rtype: int\n",
    "        \"\"\"\n",
    "        res = 0\n",
    "        for num in range(1, N + 1):\n",
    "            if any(x in str(num) for x in [\"3\", \"4\", \"7\"]):\n",
    "                continue\n",
    "            if any(x in str(num) for x in [\"2\", \"5\", \"6\", \"9\"]):\n",
    "                res += 1\n",
    "        return res"
   ]
  },
  {
   "cell_type": "markdown",
   "metadata": {},
   "source": [
    "Solution_2 :"
   ]
  },
  {
   "cell_type": "code",
   "execution_count": null,
   "metadata": {},
   "outputs": [],
   "source": [
    "class Solution(object):\n",
    "    def rotatedDigits(self, N):\n",
    "        \"\"\"\n",
    "        :type N: int\n",
    "        :rtype: int\n",
    "        \"\"\"\n",
    "        re = 0\n",
    "        for i in range(N + 1):\n",
    "            i = str(i)\n",
    "            if '3' in i or '4' in i or '7' in i:\n",
    "                pass\n",
    "            else:\n",
    "                if '2' in i:\n",
    "                    re+=1\n",
    "                elif '5' in i:\n",
    "                    re+=1\n",
    "                elif '6' in i:\n",
    "                    re+=1\n",
    "                elif '9' in i:\n",
    "                    re+=1\n",
    "                \n",
    "        return re"
   ]
  },
  {
   "cell_type": "markdown",
   "metadata": {},
   "source": [
    "Solution_3 :"
   ]
  },
  {
   "cell_type": "code",
   "execution_count": null,
   "metadata": {},
   "outputs": [],
   "source": [
    "class Solution(object):\n",
    "    def rotatedDigits(self, N):\n",
    "        \"\"\"\n",
    "        :type N: int\n",
    "        :rtype: int\n",
    "        \"\"\"\n",
    "        good_equal_num_set = (0, 1, 8, 2, 5, 6, 9)\n",
    "        equal_num_set = (0, 1, 8)\n",
    "        equalDigits = myDigits(equal_num_set)\n",
    "        goodEqualDigits = myDigits(good_equal_num_set)\n",
    "\n",
    "        res = goodEqualDigits(N+1) - equalDigits(N+1)\n",
    "        return res\n",
    "\n",
    "def myDigits(num_set):\n",
    "    def f(N):  \n",
    "        if N<10:\n",
    "            return sum(N>d for d in num_set)\n",
    "        \n",
    "        m = len(num_set)\n",
    "        N_list = [int(c) for c in list(str(N))]        \n",
    "        num = 0 \n",
    "        for i, n in enumerate(N_list):\n",
    "            num += f(n) * (m ** (len(N_list)-1-i))\n",
    "            if n not in num_set:\n",
    "                return num\n",
    "            else:\n",
    "                return num + f(N % (10 ** (len(N_list)-1-i)))\n",
    "    return f"
   ]
  }
 ],
 "metadata": {
  "kernelspec": {
   "display_name": "Python 3",
   "language": "python",
   "name": "python3"
  },
  "language_info": {
   "codemirror_mode": {
    "name": "ipython",
    "version": 3
   },
   "file_extension": ".py",
   "mimetype": "text/x-python",
   "name": "python",
   "nbconvert_exporter": "python",
   "pygments_lexer": "ipython3",
   "version": "3.7.1"
  }
 },
 "nbformat": 4,
 "nbformat_minor": 2
}
