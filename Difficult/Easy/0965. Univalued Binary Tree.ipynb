{
 "cells": [
  {
   "cell_type": "markdown",
   "metadata": {},
   "source": [
    "Solution_1 :"
   ]
  },
  {
   "cell_type": "code",
   "execution_count": null,
   "metadata": {},
   "outputs": [],
   "source": [
    "# Definition for a binary tree node.\n",
    "# class TreeNode:\n",
    "#     def __init__(self, x):\n",
    "#         self.val = x\n",
    "#         self.left = None\n",
    "#         self.right = None\n",
    "\n",
    "class Solution(object):\n",
    "    def isUnivalTree(self, root):\n",
    "        \"\"\"\n",
    "        :type root: TreeNode\n",
    "        :rtype: bool\n",
    "        \"\"\"\n",
    "        q = collections.deque()\n",
    "        q.append(root)\n",
    "        val = root.val\n",
    "        while q:\n",
    "            node = q.popleft()\n",
    "            if not node:\n",
    "                continue\n",
    "            if val != node.val:\n",
    "                return False\n",
    "            q.append(node.left)\n",
    "            q.append(node.right)\n",
    "        return True\n"
   ]
  },
  {
   "cell_type": "markdown",
   "metadata": {},
   "source": [
    "Solution_2 :"
   ]
  },
  {
   "cell_type": "code",
   "execution_count": null,
   "metadata": {},
   "outputs": [],
   "source": [
    "class Solution:\n",
    "    def isUnivalTree(self, root):\n",
    "        if not root:\n",
    "            return True\n",
    "        \n",
    "        if root.right:\n",
    "            if root.val != root.right.val: #Equavalent\n",
    "                return False\n",
    "            \n",
    "        if root.left:\n",
    "            if root.val != root.left.val: #Equavalent\n",
    "                return False\n",
    "        \n",
    "        return self.isUnivalTree(root.right) and self.isUnivalTree(root.left)"
   ]
  }
 ],
 "metadata": {
  "kernelspec": {
   "display_name": "Python 3",
   "language": "python",
   "name": "python3"
  },
  "language_info": {
   "codemirror_mode": {
    "name": "ipython",
    "version": 3
   },
   "file_extension": ".py",
   "mimetype": "text/x-python",
   "name": "python",
   "nbconvert_exporter": "python",
   "pygments_lexer": "ipython3",
   "version": "3.7.1"
  }
 },
 "nbformat": 4,
 "nbformat_minor": 2
}
