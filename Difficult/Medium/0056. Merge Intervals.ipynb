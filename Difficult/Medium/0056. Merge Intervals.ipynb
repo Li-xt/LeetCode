{
 "cells": [
  {
   "cell_type": "markdown",
   "metadata": {},
   "source": [
    "Solution_1 :"
   ]
  },
  {
   "cell_type": "code",
   "execution_count": null,
   "metadata": {},
   "outputs": [],
   "source": [
    "class Solution(object):\n",
    "    def merge(self, intervals):\n",
    "        if not intervals: return []\n",
    "        intervals.sort()\n",
    "\n",
    "        unique = []\n",
    "        last = intervals[0]\n",
    "        for cur in intervals:\n",
    "            if cur[0] <= last[1]:\n",
    "                last[1] = max(last[1], cur[1])\n",
    "            else:\n",
    "                unique.append(last)\n",
    "                last = cur\n",
    "\n",
    "        unique.append(last)\n",
    "        return unique\n"
   ]
  }
 ],
 "metadata": {
  "kernelspec": {
   "display_name": "Python 3",
   "language": "python",
   "name": "python3"
  },
  "language_info": {
   "codemirror_mode": {
    "name": "ipython",
    "version": 3
   },
   "file_extension": ".py",
   "mimetype": "text/x-python",
   "name": "python",
   "nbconvert_exporter": "python",
   "pygments_lexer": "ipython3",
   "version": "3.7.1"
  }
 },
 "nbformat": 4,
 "nbformat_minor": 2
}
