{
 "cells": [
  {
   "cell_type": "markdown",
   "metadata": {},
   "source": [
    "Solution_1 :"
   ]
  },
  {
   "cell_type": "code",
   "execution_count": 3,
   "metadata": {},
   "outputs": [],
   "source": [
    "class Solution:\n",
    "    def canCompleteCircuit(self, gas, cost):\n",
    "        \"\"\"\n",
    "        :type gas: List[int]\n",
    "        :type cost: List[int]\n",
    "        :rtype: int\n",
    "        \"\"\"\n",
    "        n = len(gas)\n",
    "        if n < 1: return -1\n",
    "        dp = [0]*n # dp[i] stores the left gas at position i, assume -1 is zero\n",
    "        dp[0] = gas[0] - cost[0]\n",
    "        for i in range(1,n):\n",
    "            dp[i] = dp[i-1] + gas[i] - cost[i]\n",
    "        if dp[-1] >= 0: # gas - cost of the whole trip\n",
    "            pos = dp.index(min(dp)) + 1\n",
    "            if pos >= n:\n",
    "                return 0\n",
    "            else:\n",
    "                return pos\n",
    "        else:\n",
    "            return -1"
   ]
  }
 ],
 "metadata": {
  "kernelspec": {
   "display_name": "Python 3",
   "language": "python",
   "name": "python3"
  },
  "language_info": {
   "codemirror_mode": {
    "name": "ipython",
    "version": 3
   },
   "file_extension": ".py",
   "mimetype": "text/x-python",
   "name": "python",
   "nbconvert_exporter": "python",
   "pygments_lexer": "ipython3",
   "version": "3.7.1"
  }
 },
 "nbformat": 4,
 "nbformat_minor": 4
}
