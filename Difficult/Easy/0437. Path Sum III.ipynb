{
 "cells": [
  {
   "cell_type": "markdown",
   "metadata": {},
   "source": [
    "Solution_1 : "
   ]
  },
  {
   "cell_type": "code",
   "execution_count": null,
   "metadata": {},
   "outputs": [],
   "source": [
    "# Definition for a binary tree node.\n",
    "# class TreeNode:\n",
    "#     def __init__(self, x):\n",
    "#         self.val = x\n",
    "#         self.left = None\n",
    "#         self.right = None\n",
    "\n",
    "class Solution:\n",
    "    def pathSum(self, root: TreeNode, sum: int) -> int:\n",
    "        if not root:\n",
    "            return 0\n",
    "        return self.dfs(root, sum) + self.pathSum(root.left, sum) + self.pathSum(root.right, sum)\n",
    "        \n",
    "    def dfs(self, root, sum):\n",
    "        # count the number of paths starting from the node\n",
    "        ans = 0\n",
    "        if not root:\n",
    "            return ans\n",
    "        if root.val == sum:\n",
    "            ans += 1\n",
    "        ans += self.dfs(root.left, sum-root.val)\n",
    "        ans += self.dfs(root.right, sum - root.val)\n",
    "        return ans\n"
   ]
  },
  {
   "cell_type": "markdown",
   "metadata": {},
   "source": [
    "Solution_2 : "
   ]
  },
  {
   "cell_type": "code",
   "execution_count": null,
   "metadata": {},
   "outputs": [],
   "source": [
    "# Definition for a binary tree node.\n",
    "# class TreeNode(object):\n",
    "#     def __init__(self, x):\n",
    "#         self.val = x\n",
    "#         self.left = None\n",
    "#         self.right = None\n",
    "\n",
    "class Solution(object):\n",
    "    def pathSum(self, root, sum):\n",
    "        \"\"\"\n",
    "        :type root: TreeNode\n",
    "        :type sum: int\n",
    "        :rtype: int\n",
    "        \"\"\"\n",
    "        sums = []\n",
    "        def search(node):\n",
    "            \n",
    "            if node is None:\n",
    "                return 0\n",
    "            \n",
    "            val = node.val\n",
    "            \n",
    "            sums.append(0)\n",
    "            \n",
    "            for i in range(len(sums)):\n",
    "                sums[i] += val\n",
    "                \n",
    "            count = sums.count(sum) + search(node.left) + search(node.right)\n",
    "            \n",
    "            sums.pop()\n",
    "            \n",
    "            for i in range(len(sums)):\n",
    "                sums[i] -= val\n",
    "            \n",
    "            return count\n",
    "\n",
    "        return search(root)"
   ]
  },
  {
   "cell_type": "markdown",
   "metadata": {},
   "source": [
    "Solution_3 :"
   ]
  },
  {
   "cell_type": "code",
   "execution_count": null,
   "metadata": {},
   "outputs": [],
   "source": [
    "# Definition for a binary tree node.\n",
    "# class TreeNode(object):\n",
    "#     def __init__(self, x):\n",
    "#         self.val = x\n",
    "#         self.left = None\n",
    "#         self.right = None\n",
    "\n",
    "class Solution(object):\n",
    "    def pathSum(self, root, sum):\n",
    "        \"\"\"\n",
    "        :type root: TreeNode\n",
    "        :type sum: int\n",
    "        :rtype: int\n",
    "        \"\"\"\n",
    "        self.res = 0\n",
    "        self.s = sum\n",
    "        def backtracking(root, cur_sum, dic):\n",
    "            if root is None: return\n",
    "            \n",
    "            # print root.val\n",
    "            cur_sum += root.val\n",
    "            \n",
    "            if cur_sum not in dic:\n",
    "                dic[cur_sum] = 0\n",
    "            \n",
    "            dic[cur_sum] += 1\n",
    "            \n",
    "            if (cur_sum - self.s) in dic:\n",
    "                if self.s == 0:\n",
    "                    self.res -= 1\n",
    "                self.res += dic[cur_sum - self.s]\n",
    "            backtracking(root.left, cur_sum, dic)\n",
    "            backtracking(root.right, cur_sum, dic)\n",
    "            dic[cur_sum] -= 1\n",
    "            if dic[cur_sum] == 0:\n",
    "                del dic[cur_sum]\n",
    "        backtracking(root, 0, {0:1})\n",
    "        return self.res"
   ]
  }
 ],
 "metadata": {
  "kernelspec": {
   "display_name": "Python 3",
   "language": "python",
   "name": "python3"
  },
  "language_info": {
   "codemirror_mode": {
    "name": "ipython",
    "version": 3
   },
   "file_extension": ".py",
   "mimetype": "text/x-python",
   "name": "python",
   "nbconvert_exporter": "python",
   "pygments_lexer": "ipython3",
   "version": "3.7.1"
  }
 },
 "nbformat": 4,
 "nbformat_minor": 2
}
