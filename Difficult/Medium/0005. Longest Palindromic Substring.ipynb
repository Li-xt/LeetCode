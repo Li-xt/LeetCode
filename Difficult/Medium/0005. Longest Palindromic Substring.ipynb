{
 "cells": [
  {
   "cell_type": "markdown",
   "metadata": {},
   "source": [
    "Solution_1 :"
   ]
  },
  {
   "cell_type": "code",
   "execution_count": null,
   "metadata": {},
   "outputs": [],
   "source": [
    "# DP\n",
    "class Solution(object):\n",
    "    def longestPalindrome(self, s):\n",
    "        \"\"\"\n",
    "        :type s: str\n",
    "        :rtype: str\n",
    "        \"\"\"\n",
    "        if len(set(s)) == 1: return s\n",
    "        n = len(s)\n",
    "        start, end, maxL = 0, 0, 0\n",
    "        dp = [[0] * n for _ in range(n)]\n",
    "        for i in range(n):\n",
    "            for j in range(i):\n",
    "                dp[j][i] = (s[j] == s[i]) & ((i - j < 2) | dp[j + 1][i - 1])\n",
    "                if dp[j][i] and maxL < i - j + 1:\n",
    "                    maxL = i - j + 1\n",
    "                    start = j\n",
    "                    end = i\n",
    "            dp[i][i] = 1\n",
    "        return s[start : end + 1]\n"
   ]
  },
  {
   "cell_type": "markdown",
   "metadata": {},
   "source": [
    "Solution_2 :"
   ]
  },
  {
   "cell_type": "code",
   "execution_count": 1,
   "metadata": {},
   "outputs": [],
   "source": [
    "# Manacher algorithm\n",
    "# http://en.wikipedia.org/wiki/Longest_palindromic_substring\n",
    "# https://blog.csdn.net/ggggiqnypgjg/article/details/6645824\n",
    "class Solution:\n",
    "    def longestPalindrome(self, s):\n",
    "        # Transform S into T.\n",
    "        # For example, S = \"abba\", T = \"^#a#b#b#a#$\".\n",
    "        # ^ and $ signs are sentinels appended to each end to avoid bounds checking\n",
    "        T = '#'.join('^{}$'.format(s))\n",
    "        n = len(T)\n",
    "        P = [0] * n\n",
    "        C = R = 0\n",
    "        for i in range (1, n-1):\n",
    "            P[i] = (R > i) and min(R - i, P[2*C - i]) # equals to i' = C - (i-C)\n",
    "            # Attempt to expand palindrome centered at i\n",
    "            while T[i + 1 + P[i]] == T[i - 1 - P[i]]:\n",
    "                P[i] += 1\n",
    "    \n",
    "            # If palindrome centered at i expand past R,\n",
    "            # adjust center based on expanded palindrome.\n",
    "            if i + P[i] > R:\n",
    "                C, R = i, i + P[i]\n",
    "    \n",
    "        # Find the maximum element in P.\n",
    "        maxLen, centerIndex = max((n, i) for i, n in enumerate(P))\n",
    "        return s[(centerIndex  - maxLen)//2: (centerIndex  + maxLen)//2]\n",
    "    \n",
    "    \n",
    "    "
   ]
  }
 ],
 "metadata": {
  "kernelspec": {
   "display_name": "Python 3",
   "language": "python",
   "name": "python3"
  },
  "language_info": {
   "codemirror_mode": {
    "name": "ipython",
    "version": 3
   },
   "file_extension": ".py",
   "mimetype": "text/x-python",
   "name": "python",
   "nbconvert_exporter": "python",
   "pygments_lexer": "ipython3",
   "version": "3.7.1"
  }
 },
 "nbformat": 4,
 "nbformat_minor": 2
}
