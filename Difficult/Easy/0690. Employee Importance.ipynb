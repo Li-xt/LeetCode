{
 "cells": [
  {
   "cell_type": "markdown",
   "metadata": {},
   "source": [
    "Solution_1 : "
   ]
  },
  {
   "cell_type": "code",
   "execution_count": null,
   "metadata": {},
   "outputs": [],
   "source": [
    "\"\"\"\n",
    "# Employee info\n",
    "class Employee:\n",
    "    def __init__(self, id, importance, subordinates):\n",
    "        # It's the unique id of each node.\n",
    "        # unique id of this employee\n",
    "        self.id = id\n",
    "        # the importance value of this employee\n",
    "        self.importance = importance\n",
    "        # the id of direct subordinates\n",
    "        self.subordinates = subordinates\n",
    "\"\"\"\n",
    "class Solution:\n",
    "    def getImportance(self, employees, id):\n",
    "        \"\"\"\n",
    "        :type employees: Employee\n",
    "        :type id: int\n",
    "        :rtype: int\n",
    "        \"\"\"\n",
    "        if employees == []: return \n",
    "        dic_importance = {} \n",
    "        dic_subordinates = {} \n",
    "        sub_set = [id] \n",
    "        all_count = [id]\n",
    "        \n",
    "        for item in employees:\n",
    "            dic_importance[item.id] = item.importance\n",
    "            dic_subordinates[item.id] = item.subordinates\n",
    "                \n",
    "        while sub_set:\n",
    "            T = sub_set.pop()\n",
    "            T_ = [x for x in dic_subordinates[T] if x not in all_count]\n",
    "            all_count.extend(T_)\n",
    "            sub_set.extend(T_)\n",
    "        \n",
    "        \n",
    "        return sum([dic_importance[x] for x in all_count])\n",
    "            "
   ]
  },
  {
   "cell_type": "markdown",
   "metadata": {},
   "source": [
    "Solution_2 :"
   ]
  },
  {
   "cell_type": "code",
   "execution_count": null,
   "metadata": {},
   "outputs": [],
   "source": [
    "class Solution:\n",
    "    def getImportance(self, employees, id):\n",
    "        graph = { emp.id: (emp.importance, emp.subordinates) for emp in employees }\n",
    "        answer, Q = 0, [id]\n",
    "        while Q:\n",
    "            answer += sum(graph[i][0] for i in Q)\n",
    "            Q = [sub for e_id in Q for sub in graph[e_id][1]]\n",
    "        return answer"
   ]
  }
 ],
 "metadata": {
  "kernelspec": {
   "display_name": "Python 3",
   "language": "python",
   "name": "python3"
  },
  "language_info": {
   "codemirror_mode": {
    "name": "ipython",
    "version": 3
   },
   "file_extension": ".py",
   "mimetype": "text/x-python",
   "name": "python",
   "nbconvert_exporter": "python",
   "pygments_lexer": "ipython3",
   "version": "3.7.1"
  }
 },
 "nbformat": 4,
 "nbformat_minor": 2
}
