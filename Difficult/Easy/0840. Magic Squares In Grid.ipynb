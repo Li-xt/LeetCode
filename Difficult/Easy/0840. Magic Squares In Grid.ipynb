{
 "cells": [
  {
   "cell_type": "markdown",
   "metadata": {},
   "source": [
    "Solution_1 :"
   ]
  },
  {
   "cell_type": "code",
   "execution_count": null,
   "metadata": {},
   "outputs": [],
   "source": [
    "class Solution:\n",
    "    def numMagicSquaresInside(self, grid):\n",
    "        \"\"\"\n",
    "        :type grid: List[List[int]]\n",
    "        :rtype: int\n",
    "        \"\"\"\n",
    "        if len(grid) < 3 or len(grid[0]) < 3:\n",
    "            return 0\n",
    "        counter = 0\n",
    "        for row in range(len(grid) - 2):\n",
    "            for col in range(len(grid[0]) - 2):\n",
    "                sub_matrix = [[grid[row + i][col + j] for j in range(3)] for i in range(3)]\n",
    "                if self.magic_square(sub_matrix):\n",
    "                    counter += 1\n",
    "        return counter\n",
    "\n",
    "    def magic_square(self, matrix):\n",
    "        is_unique_right = set( [ matrix[i][j] for i in range(3) for j in range(3) ] ) == set([1,2,3,4,5,6,7,8,9])\n",
    "        is_number_right = all(1 <= matrix[i][j] <= 9 for i in range(3) for j in range(3))\n",
    "        is_row_right = all(sum(row) == 15 for row in matrix)\n",
    "        is_col_right = all(sum(col) == 15 for col in [[matrix[i][j] for i in range(3)] for j in range(3)])\n",
    "        is_diagonal_right = matrix[1][1] == 5 and matrix[0][0] + matrix[-1][-1] == 10 and matrix[0][-1] + matrix[-1][0] == 10\n",
    "        return is_number_right and is_row_right and is_col_right and is_diagonal_right and is_unique_right"
   ]
  },
  {
   "cell_type": "markdown",
   "metadata": {},
   "source": [
    "Solution_2 :"
   ]
  },
  {
   "cell_type": "code",
   "execution_count": null,
   "metadata": {},
   "outputs": [],
   "source": [
    "class Solution:\n",
    "    def numMagicSquaresInside(self, grid):\n",
    "        magicCount = 0\n",
    "\n",
    "        for i in range(0, len(grid) - 2):\n",
    "            for j in range(0, len(grid[0]) - 2):\n",
    "                if self.isMagic(grid, i, j):\n",
    "                    magicCount += 1\n",
    "        return magicCount\n",
    "\n",
    "\n",
    "    def isMagic(self, grid, i, j):\n",
    "        sum = grid[i][j] + grid[i][j+1] + grid[i][j+2]\n",
    "\n",
    "        #row check\n",
    "        for r in range(i, i+3):\n",
    "            if sum != grid[r][j] + grid[r][j+1] + grid[r][j+2]:\n",
    "                return False                        \n",
    "\n",
    "        #column check\n",
    "        for c in range(j, j+3):\n",
    "             if sum != grid[i][c] + grid[i+1][c] + grid[i+2][c]:\n",
    "                return False\n",
    "\n",
    "        #diagonal check 1\n",
    "        if sum != grid[i][j] + grid[i+1][j+1] + grid[i+2][j+2]:\n",
    "            return False\n",
    "\n",
    "        #diagonal check 2\n",
    "        if sum != grid[i][j+2] + grid[i+1][j+1] + grid[i+2][j]:            \n",
    "            return False\n",
    "\n",
    "        #distinct check\n",
    "        digitMap = {}\n",
    "        for r in range(i, i+3):\n",
    "            for c in range(j, j+3):                \n",
    "                if grid[r][c] not in digitMap and grid[r][c] < 10 and grid[r][c] > 0:\n",
    "                    digitMap[grid[r][c]] = True                    \n",
    "                else:                    \n",
    "                    return False\n",
    "\n",
    "        return True"
   ]
  }
 ],
 "metadata": {
  "kernelspec": {
   "display_name": "Python 3",
   "language": "python",
   "name": "python3"
  },
  "language_info": {
   "codemirror_mode": {
    "name": "ipython",
    "version": 3
   },
   "file_extension": ".py",
   "mimetype": "text/x-python",
   "name": "python",
   "nbconvert_exporter": "python",
   "pygments_lexer": "ipython3",
   "version": "3.7.1"
  }
 },
 "nbformat": 4,
 "nbformat_minor": 2
}
