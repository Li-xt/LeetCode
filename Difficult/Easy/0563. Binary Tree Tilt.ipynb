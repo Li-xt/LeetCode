{
 "cells": [
  {
   "cell_type": "markdown",
   "metadata": {},
   "source": [
    "Solution_1 : "
   ]
  },
  {
   "cell_type": "code",
   "execution_count": 1,
   "metadata": {},
   "outputs": [],
   "source": [
    "# Definition for a binary tree node.\n",
    "# class TreeNode:\n",
    "#     def __init__(self, x):\n",
    "#         self.val = x\n",
    "#         self.left = None\n",
    "#         self.right = None\n",
    "\n",
    "class Solution:\n",
    "    def findTilt(self, root):\n",
    "        \"\"\"\n",
    "        :type root: TreeNode\n",
    "        :rtype: int\n",
    "        \"\"\"\n",
    "        self.sums = 0\n",
    "        self.postOrder(root)\n",
    "        return self.sums\n",
    "    \n",
    "    def postOrder(self, root):\n",
    "        if not root:\n",
    "            return 0\n",
    "        left = self.postOrder(root.left)\n",
    "        right = self.postOrder(root.right)\n",
    "        self.sums += abs(left - right)\n",
    "        return left + right + root.val\n"
   ]
  },
  {
   "cell_type": "markdown",
   "metadata": {},
   "source": [
    "Solution_2 : "
   ]
  },
  {
   "cell_type": "code",
   "execution_count": null,
   "metadata": {},
   "outputs": [],
   "source": [
    "class Solution(object):\n",
    "\tdef findTilt(self, root):\n",
    "\t\tdef recurse(root):\n",
    "\t\t\tif root.left is None and root.right is None:\n",
    "\t\t\t\treturn 0\n",
    "\t\t\telse:\n",
    "\t\t\t\tleftTot = 0\n",
    "\t\t\t\trightTot = 0\n",
    "\t\t\t\tif root.left is not None:\n",
    "\t\t\t\t\tleftTot = root.left.val + recurse(root.left) \n",
    "\t\t\t\tif root.right is not None:\n",
    "\t\t\t\t\trightTot = root.right.val + recurse(root.right)\n",
    "\t\t\t\tans = leftTot+rightTot\n",
    "\t\t\t\tself.tilt+=abs(leftTot - rightTot)\n",
    "\t\t\t\treturn ans\n",
    "\t\tself.tilt = 0\n",
    "\t\tif root is None:\n",
    "\t\t\treturn 0\n",
    "\t\trecurse(root)\n",
    "\t\treturn self.tilt"
   ]
  }
 ],
 "metadata": {
  "kernelspec": {
   "display_name": "Python 3",
   "language": "python",
   "name": "python3"
  },
  "language_info": {
   "codemirror_mode": {
    "name": "ipython",
    "version": 3
   },
   "file_extension": ".py",
   "mimetype": "text/x-python",
   "name": "python",
   "nbconvert_exporter": "python",
   "pygments_lexer": "ipython3",
   "version": "3.7.1"
  }
 },
 "nbformat": 4,
 "nbformat_minor": 2
}
