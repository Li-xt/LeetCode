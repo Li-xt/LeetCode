{
 "cells": [
  {
   "cell_type": "markdown",
   "metadata": {},
   "source": [
    "Solution_1 :"
   ]
  },
  {
   "cell_type": "code",
   "execution_count": null,
   "metadata": {},
   "outputs": [],
   "source": [
    "class Solution(object):\n",
    "    def robotSim(self, commands, obstacles):\n",
    "        \"\"\"\n",
    "        :type commands: List[int]\n",
    "        :type obstacles: List[List[int]]\n",
    "        :rtype: int\n",
    "        \"\"\"\n",
    "        # directions = ['N', 'E', 'S', 'W']\n",
    "        # 0 - N, 1 - E, 2 - S, 3 - W\n",
    "        position_offset = [(0, 1), (1, 0), (0, -1), (-1, 0)]\n",
    "        obstacles = set(map(tuple, obstacles))\n",
    "        x, y, direction, max_distance = 0, 0, 0, 0\n",
    "        for command in commands:\n",
    "            if command == -2: direction = (direction - 1) % 4\n",
    "            elif command == -1: direction = (direction + 1) % 4\n",
    "            else:\n",
    "                x_off, y_off = position_offset[direction]\n",
    "                while command:\n",
    "                    if (x + x_off, y + y_off) not in obstacles:\n",
    "                        x += x_off\n",
    "                        y += y_off\n",
    "                    command -= 1\n",
    "                max_distance = max(max_distance, x**2 + y**2)\n",
    "        return max_distance\n"
   ]
  },
  {
   "cell_type": "markdown",
   "metadata": {},
   "source": [
    "Solution_2 :"
   ]
  },
  {
   "cell_type": "code",
   "execution_count": null,
   "metadata": {},
   "outputs": [],
   "source": [
    "import math\n",
    "\n",
    "class Solution:\n",
    "    def robotSim(self, commands, obstacles):\n",
    "        \"\"\"\n",
    "        :type commands: List[int]\n",
    "        :type obstacles: List[List[int]]\n",
    "        :rtype: int\n",
    "        \"\"\"\n",
    "        max_dist = 0\n",
    "        obst_y, obst_x = {}, {}     # faster cache\n",
    "        for p in obstacles:\n",
    "            if p[0] not in obst_x:\n",
    "                obst_x[p[0]] = []\n",
    "            obst_x[p[0]].append(p[1])\n",
    "            if p[1] not in obst_y:\n",
    "                obst_y[p[1]] = []\n",
    "            obst_y[p[1]].append(p[0])\n",
    "            \n",
    "        x = 0\n",
    "        y = 0\n",
    "        move_x = 0\n",
    "        move_y = 1\n",
    "        for cmd in commands:\n",
    "            if cmd in (-1, -2):     # only rotations\n",
    "                if move_x == 0:     # if we moved vertically, now we'll move horizontally\n",
    "                    move_x = move_y if cmd == -1 else (-1 * move_y)\n",
    "                    move_y = 0\n",
    "                else: # move_y == 0:\n",
    "                    move_y = (-1 * move_x) if cmd == -1 else move_x\n",
    "                    move_x = 0\n",
    "            else: \n",
    "                if move_x != 0:     # moving horizontally\n",
    "                    move = move_x\n",
    "                    next_step = x + move\n",
    "                    key = y\n",
    "                    obst = obst_y\n",
    "                    end_step = x + move * cmd\n",
    "                else:\n",
    "                    move = move_y\n",
    "                    next_step = y + move\n",
    "                    key = x\n",
    "                    obst = obst_x\n",
    "                    end_step = y + move * cmd\n",
    "                \n",
    "                if key in obst:\n",
    "                    collision = [i for i in range(next_step, next_step + move * cmd, move) if i in obst[key]]\n",
    "                    if collision:\n",
    "                        end_step = min(collision) - 1 if move == 1 else max(collision) + 1               \n",
    "                \n",
    "                if move_x != 0: \n",
    "                    x = end_step\n",
    "                else:\n",
    "                    y = end_step\n",
    "                \n",
    "                check = x * x + y * y\n",
    "                if check > max_dist:\n",
    "                    max_dist = check\n",
    "        return max_dist"
   ]
  }
 ],
 "metadata": {
  "kernelspec": {
   "display_name": "Python 3",
   "language": "python",
   "name": "python3"
  },
  "language_info": {
   "codemirror_mode": {
    "name": "ipython",
    "version": 3
   },
   "file_extension": ".py",
   "mimetype": "text/x-python",
   "name": "python",
   "nbconvert_exporter": "python",
   "pygments_lexer": "ipython3",
   "version": "3.7.1"
  }
 },
 "nbformat": 4,
 "nbformat_minor": 2
}
