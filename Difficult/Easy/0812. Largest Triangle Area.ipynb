{
 "cells": [
  {
   "cell_type": "markdown",
   "metadata": {},
   "source": [
    "Solution_1 :"
   ]
  },
  {
   "cell_type": "code",
   "execution_count": 1,
   "metadata": {},
   "outputs": [],
   "source": [
    "class Solution:\n",
    "    def largestTriangleArea(self, points):\n",
    "        \"\"\"\n",
    "        :type points: List[List[int]]\n",
    "        :rtype: float\n",
    "        \"\"\"\n",
    "        def f(p1, p2, p3):\n",
    "            (x1, y1), (x2, y2), (x3, y3) = p1, p2, p3\n",
    "            return 0.5 * abs(x1 * (y2 - y3) + x2 * (y3 - y1) + x3 * (y1 - y2))\n",
    "        return max(f(a, b, c) for a, b, c in itertools.combinations(points, 3))\n"
   ]
  },
  {
   "cell_type": "markdown",
   "metadata": {},
   "source": [
    "Solution_2 :"
   ]
  },
  {
   "cell_type": "code",
   "execution_count": 2,
   "metadata": {},
   "outputs": [],
   "source": [
    "class Solution:\n",
    "    def largestTriangleArea(self, points) :\n",
    "        n = len(points)\n",
    "        max_area = 0\n",
    "\n",
    "        for a in range(n):\n",
    "            ax, ay = points[a][0], points[a][1]\n",
    "            for b in range(a+1, n):\n",
    "                bx, by = points[b][0], points[b][1]\n",
    "                diff_ay_by = ay - by\n",
    "                for c in range(b+1, n):\n",
    "                    cx, cy = points[c][0], points[c][1]\n",
    "                    area = abs((ax*(by - cy) + bx*(cy - ay) + cx*diff_ay_by)/2)\n",
    "                    max_area = max(area, max_area)\n",
    "\n",
    "        return max_area"
   ]
  }
 ],
 "metadata": {
  "kernelspec": {
   "display_name": "Python 3",
   "language": "python",
   "name": "python3"
  },
  "language_info": {
   "codemirror_mode": {
    "name": "ipython",
    "version": 3
   },
   "file_extension": ".py",
   "mimetype": "text/x-python",
   "name": "python",
   "nbconvert_exporter": "python",
   "pygments_lexer": "ipython3",
   "version": "3.7.1"
  }
 },
 "nbformat": 4,
 "nbformat_minor": 2
}
