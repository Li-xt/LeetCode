{
 "cells": [
  {
   "cell_type": "markdown",
   "metadata": {},
   "source": [
    "Solution_1 :"
   ]
  },
  {
   "cell_type": "code",
   "execution_count": 1,
   "metadata": {},
   "outputs": [],
   "source": [
    "class Solution(object):\n",
    "    def generateParenthesis(self, n):\n",
    "        \"\"\"\n",
    "        :type n: int\n",
    "        :rtype: List[str]\n",
    "        \"\"\"\n",
    "        ans = []\n",
    "        \n",
    "        def _generate(cur, left, right):\n",
    "            if left > right:\n",
    "                return\n",
    "            if left == 0 and right == 0:\n",
    "                ans.append(cur)\n",
    "                return\n",
    "            \n",
    "            if left > 0:\n",
    "                _generate(cur + '(', left - 1, right)\n",
    "            \n",
    "            if right > 0:\n",
    "                _generate(cur + ')', left, right - 1)\n",
    "        \n",
    "        _generate('', n, n)\n",
    "        return ans"
   ]
  },
  {
   "cell_type": "markdown",
   "metadata": {},
   "source": [
    "Solution_2 :"
   ]
  },
  {
   "cell_type": "code",
   "execution_count": null,
   "metadata": {},
   "outputs": [],
   "source": [
    "class Solution(object):\n",
    "    def generateParenthesis(self, n):\n",
    "        \"\"\"\n",
    "        :type n: int\n",
    "        :rtype: List[str]\n",
    "        \"\"\"\n",
    "        results = []\n",
    "        \n",
    "        def dfs(num_started, num_finished, acc):\n",
    "            \"\"\"\n",
    "            Given a number of started and finished pairs and an accumulator,\n",
    "            add any valid parenthesis that can be formed from this state\n",
    "            \"\"\"\n",
    "            if len(acc) == n * 2:\n",
    "                results.append(\"\".join(acc))\n",
    "                return\n",
    "\n",
    "            if num_started > num_finished:\n",
    "                acc.append(\")\")\n",
    "                dfs(num_started, num_finished + 1, acc)\n",
    "                acc.pop()\n",
    "                \n",
    "            if num_started < n:\n",
    "                acc.append(\"(\")\n",
    "                dfs(num_started + 1, num_finished, acc)\n",
    "                acc.pop()\n",
    "        \n",
    "        dfs(0, 0, [])\n",
    "        return results"
   ]
  },
  {
   "cell_type": "markdown",
   "metadata": {},
   "source": [
    "Solution_3 :"
   ]
  },
  {
   "cell_type": "code",
   "execution_count": null,
   "metadata": {},
   "outputs": [],
   "source": [
    "class Solution(object):\n",
    "    def generateParenthesis(self, n):\n",
    "        \"\"\"\n",
    "        :type n: int\n",
    "        :rtype: List[str]\n",
    "        \"\"\"\n",
    "        basket = []\n",
    "        self.generate(n,n,\"\",basket)\n",
    "        return basket\n",
    "        \n",
    "    def generate(self,left,right,single,basket):\n",
    "        if left > 0:\n",
    "            self.generate(left-1, right, single+\"(\", basket)\n",
    "        if (right > 0) and (right>left):\n",
    "            self.generate(left, right-1, single+\")\", basket)\n",
    "        if (left==0 and right ==0):\n",
    "            basket.append(single)\n"
   ]
  }
 ],
 "metadata": {
  "kernelspec": {
   "display_name": "Python 3",
   "language": "python",
   "name": "python3"
  },
  "language_info": {
   "codemirror_mode": {
    "name": "ipython",
    "version": 3
   },
   "file_extension": ".py",
   "mimetype": "text/x-python",
   "name": "python",
   "nbconvert_exporter": "python",
   "pygments_lexer": "ipython3",
   "version": "3.7.1"
  }
 },
 "nbformat": 4,
 "nbformat_minor": 2
}
