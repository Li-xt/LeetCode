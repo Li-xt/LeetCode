{
 "cells": [
  {
   "cell_type": "markdown",
   "metadata": {},
   "source": [
    "Solution_1 :"
   ]
  },
  {
   "cell_type": "code",
   "execution_count": null,
   "metadata": {},
   "outputs": [],
   "source": [
    "class Solution:\n",
    "    \n",
    "    def findRestaurant(self, list1, list2):\n",
    "        \"\"\"\n",
    "        :type list1: List[str]\n",
    "        :type list2: List[str]\n",
    "        :rtype: List[str]\n",
    "        \"\"\"   \n",
    "        \n",
    "        res = [] \n",
    "        dict1 = {}\n",
    "        dict2 = {}\n",
    "        for ele,count in collections.Counter(list1+list2).items():\n",
    "            if count > 1 :\n",
    "                res.append(ele)\n",
    "                \n",
    "        for i in range(len(list1)):\n",
    "            dict1[list1[i]] = i\n",
    "            \n",
    "        for i in range(len(list2)):\n",
    "            dict2[list2[i]] = i\n",
    "            \n",
    "        res = sorted(res,key = lambda x : dict1[x]+dict2[x]) \n",
    "        \n",
    "        min_ = dict1[res[0]] + dict2[res[0]]\n",
    "        res = [x for x in res if dict1[x]+dict2[x] == min_ ][::-1]\n",
    "        return res"
   ]
  },
  {
   "cell_type": "markdown",
   "metadata": {},
   "source": [
    "Solution_2 :"
   ]
  },
  {
   "cell_type": "code",
   "execution_count": null,
   "metadata": {},
   "outputs": [],
   "source": [
    "class Solution:\n",
    "    def findRestaurant(self, list1, list2):\n",
    "        \"\"\"\n",
    "        :type list1: List[str]\n",
    "        :type list2: List[str]\n",
    "        :rtype: List[str]\n",
    "        \"\"\"\n",
    "        dict1 = {}\n",
    "        min_index = 2000\n",
    "        result = []\n",
    "        for i in range(len(list1)):\n",
    "            dict1[list1[i]] = i\n",
    "        for i in range(len(list2)):\n",
    "            if list2[i] in dict1 and dict1[list2[i]] + i < min_index:\n",
    "                min_index = dict1[list2[i]] + i\n",
    "                result = []\n",
    "                result = [list2[i]]\n",
    "            elif list2[i] in dict1 and dict1[list2[i]] + i == min_index:\n",
    "                result.append(list2[i])                        \n",
    "        return result"
   ]
  }
 ],
 "metadata": {
  "kernelspec": {
   "display_name": "Python 3",
   "language": "python",
   "name": "python3"
  },
  "language_info": {
   "codemirror_mode": {
    "name": "ipython",
    "version": 3
   },
   "file_extension": ".py",
   "mimetype": "text/x-python",
   "name": "python",
   "nbconvert_exporter": "python",
   "pygments_lexer": "ipython3",
   "version": "3.7.1"
  }
 },
 "nbformat": 4,
 "nbformat_minor": 2
}
