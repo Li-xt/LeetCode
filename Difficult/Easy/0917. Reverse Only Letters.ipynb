{
 "cells": [
  {
   "cell_type": "markdown",
   "metadata": {},
   "source": [
    "Solution_1 :"
   ]
  },
  {
   "cell_type": "code",
   "execution_count": 1,
   "metadata": {},
   "outputs": [],
   "source": [
    "class Solution:\n",
    "    def reverseOnlyLetters(self, S) :\n",
    "        \"\"\"\n",
    "        :type S: str\n",
    "        :rtype: str\n",
    "        \"\"\"\n",
    "        if not S:\n",
    "            return S\n",
    "        start=0\n",
    "        end=len(S)-1\n",
    "        S=list(S)\n",
    "        while start < end:\n",
    "            if S[start].isalpha():\n",
    "                if S[end].isalpha():\n",
    "                    S[start], S[end] = S[end],S[start]\n",
    "                    start +=1\n",
    "                    end -=1\n",
    "                else:\n",
    "                    end -=1\n",
    "            \n",
    "            else:\n",
    "                start+=1\n",
    "        \n",
    "        return ''.join(S)"
   ]
  }
 ],
 "metadata": {
  "kernelspec": {
   "display_name": "Python 3",
   "language": "python",
   "name": "python3"
  },
  "language_info": {
   "codemirror_mode": {
    "name": "ipython",
    "version": 3
   },
   "file_extension": ".py",
   "mimetype": "text/x-python",
   "name": "python",
   "nbconvert_exporter": "python",
   "pygments_lexer": "ipython3",
   "version": "3.7.1"
  }
 },
 "nbformat": 4,
 "nbformat_minor": 2
}
