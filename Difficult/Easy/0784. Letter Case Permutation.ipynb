{
 "cells": [
  {
   "cell_type": "markdown",
   "metadata": {},
   "source": [
    "Solution_1 :"
   ]
  },
  {
   "cell_type": "code",
   "execution_count": 3,
   "metadata": {},
   "outputs": [],
   "source": [
    "class Solution(object):\n",
    "    def letterCasePermutation(self, S):\n",
    "        \"\"\"\n",
    "        :type S: str\n",
    "        :rtype: List[str]\n",
    "        \"\"\"\n",
    "        ans = []\n",
    "\n",
    "        def dfs(S, pos, string):\n",
    "            if pos == len(S):\n",
    "                ans.append(string)\n",
    "                return\n",
    "            else:\n",
    "                if S[pos].isalpha():\n",
    "                    letter = S[pos]\n",
    "                    dfs(S, pos + 1, string + letter.upper())\n",
    "                    dfs(S, pos + 1, string + letter.lower())\n",
    "                else:\n",
    "                    dfs(S, pos + 1, string + S[pos])\n",
    "        dfs(S, 0, '')\n",
    "        return ans"
   ]
  },
  {
   "cell_type": "markdown",
   "metadata": {},
   "source": [
    "Solution_2 :"
   ]
  },
  {
   "cell_type": "code",
   "execution_count": 1,
   "metadata": {},
   "outputs": [],
   "source": [
    "class Solution:\n",
    "    def letterCasePermutation(self, S):\n",
    "        res = ['']\n",
    "        for i in range(len(S)):        \n",
    "            res = [ _ + S[i] for _ in res] if S[i].isdigit() else [_ + j for _ in res for j in (S[i].lower(), S[i].upper())]\n",
    "            print (res)\n",
    "        return res"
   ]
  }
 ],
 "metadata": {
  "kernelspec": {
   "display_name": "Python 3",
   "language": "python",
   "name": "python3"
  },
  "language_info": {
   "codemirror_mode": {
    "name": "ipython",
    "version": 3
   },
   "file_extension": ".py",
   "mimetype": "text/x-python",
   "name": "python",
   "nbconvert_exporter": "python",
   "pygments_lexer": "ipython3",
   "version": "3.7.1"
  }
 },
 "nbformat": 4,
 "nbformat_minor": 2
}
