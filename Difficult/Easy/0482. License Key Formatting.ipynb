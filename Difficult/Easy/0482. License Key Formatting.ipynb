{
 "cells": [
  {
   "cell_type": "markdown",
   "metadata": {},
   "source": [
    "Solution_1 : "
   ]
  },
  {
   "cell_type": "code",
   "execution_count": 1,
   "metadata": {},
   "outputs": [],
   "source": [
    "class Solution(object):\n",
    "    def licenseKeyFormatting(self, S, K):\n",
    "        \"\"\"\n",
    "        :type S: str\n",
    "        :type K: int\n",
    "        :rtype: str\n",
    "        \"\"\"\n",
    "        S_upper=S.upper()\n",
    "        str_S=''.join(S_upper.split('-'))\n",
    "        if K==1:\n",
    "            return '-'.join(str_S)\n",
    "        result=''\n",
    "        count=0\n",
    "        i=len(str_S)\n",
    "        while i>K:\n",
    "            result=str_S[i-K:i]+result\n",
    "            result='-'+result\n",
    "            i-=K\n",
    "            count+=K\n",
    "        result=str_S[0:len(str_S)-count]+result\n",
    "        return result   \n"
   ]
  }
 ],
 "metadata": {
  "kernelspec": {
   "display_name": "Python 3",
   "language": "python",
   "name": "python3"
  },
  "language_info": {
   "codemirror_mode": {
    "name": "ipython",
    "version": 3
   },
   "file_extension": ".py",
   "mimetype": "text/x-python",
   "name": "python",
   "nbconvert_exporter": "python",
   "pygments_lexer": "ipython3",
   "version": "3.7.1"
  }
 },
 "nbformat": 4,
 "nbformat_minor": 2
}
