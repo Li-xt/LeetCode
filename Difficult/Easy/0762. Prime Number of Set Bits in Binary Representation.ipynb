{
 "cells": [
  {
   "cell_type": "markdown",
   "metadata": {},
   "source": [
    "Solution_1 :"
   ]
  },
  {
   "cell_type": "code",
   "execution_count": 1,
   "metadata": {},
   "outputs": [],
   "source": [
    "class Solution(object):\n",
    "    def countPrimeSetBits(self, L, R):\n",
    "        \"\"\"\n",
    "        :type L: int\n",
    "        :type R: int\n",
    "        :rtype: int\n",
    "        \"\"\"\n",
    "        primes = [2, 3, 5, 7, 11, 13, 17, 19, 23, 29, 31]\n",
    "        res = 0\n",
    "        for num in range(L, R + 1):\n",
    "            if bin(num).count(\"1\") in primes:\n",
    "                res += 1\n",
    "        return res"
   ]
  },
  {
   "cell_type": "markdown",
   "metadata": {},
   "source": [
    "Solution_2 :"
   ]
  },
  {
   "cell_type": "code",
   "execution_count": 1,
   "metadata": {},
   "outputs": [],
   "source": [
    "# https://leetcode.com/problems/prime-number-of-set-bits-in-binary-representation/discuss/157907/Fast-Python-beats-100-(40ms-uses-binomial-coefficients)\n",
    "\n",
    "def binomial(n, k, cache={}):\n",
    "    if k == 0: return 1\n",
    "    if (n, k) not in cache:\n",
    "        cache[n, k] = binomial(n-1, k-1) * n // k\n",
    "    return cache[n, k]\n",
    "\n",
    "\n",
    "class Solution:\n",
    "    def countPrimeSetBits(self, L, R):\n",
    "        return self.fast_count(R+1) - self.fast_count(L)\n",
    "    \n",
    "    def fast_count(self, N):\n",
    "        S = bin(N)\n",
    "        B = [len(S) + ~i for i, b in enumerate(S) if b == '1']\n",
    "        res = 0\n",
    "        for p in [2, 3, 5, 7, 11, 13, 17, 19]:\n",
    "            if B[0] < p: break\n",
    "            for i in range(min(p+1, len(B))):\n",
    "                n = B[i]; k = p-i\n",
    "                if n < k: break\n",
    "                res += binomial(n, k)\n",
    "        return res"
   ]
  }
 ],
 "metadata": {
  "kernelspec": {
   "display_name": "Python 3",
   "language": "python",
   "name": "python3"
  },
  "language_info": {
   "codemirror_mode": {
    "name": "ipython",
    "version": 3
   },
   "file_extension": ".py",
   "mimetype": "text/x-python",
   "name": "python",
   "nbconvert_exporter": "python",
   "pygments_lexer": "ipython3",
   "version": "3.7.1"
  }
 },
 "nbformat": 4,
 "nbformat_minor": 2
}
