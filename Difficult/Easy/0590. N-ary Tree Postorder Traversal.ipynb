{
 "cells": [
  {
   "cell_type": "markdown",
   "metadata": {},
   "source": [
    "Solution_1 :"
   ]
  },
  {
   "cell_type": "code",
   "execution_count": 1,
   "metadata": {},
   "outputs": [],
   "source": [
    "\"\"\"\n",
    "# Definition for a Node.\n",
    "class Node:\n",
    "    def __init__(self, val, children):\n",
    "        self.val = val\n",
    "        self.children = children\n",
    "\"\"\"\n",
    "class Solution:\n",
    "    def postorder(self, root) :\n",
    "        \"\"\"\n",
    "        :type root: Node\n",
    "        :rtype: List[int]\n",
    "        \"\"\"\n",
    "        res = [] \n",
    "        if not root:\n",
    "            return res \n",
    "        \n",
    "        for child in root.children:\n",
    "            res.extend(self.postorder(child))\n",
    "            \n",
    "        res.append(root.val)\n",
    "        \n",
    "        return res "
   ]
  },
  {
   "cell_type": "markdown",
   "metadata": {},
   "source": [
    "Solution_2 :"
   ]
  },
  {
   "cell_type": "code",
   "execution_count": 2,
   "metadata": {},
   "outputs": [],
   "source": [
    "\"\"\"\n",
    "# Definition for a Node.\n",
    "class Node:\n",
    "    def __init__(self, val, children):\n",
    "        self.val = val\n",
    "        self.children = children\n",
    "\"\"\"\n",
    "class Solution:\n",
    "    def postorder(self, root):\n",
    "        \"\"\"\n",
    "        :type root: Node\n",
    "        :rtype: List[int]\n",
    "        \"\"\"\n",
    "        res = []\n",
    "        return self.traverse(root, res)\n",
    "\n",
    "    def traverse(self, root, res):\n",
    "        if root is not None and root.children != []:\n",
    "            for c in root.children:\n",
    "                self.traverse(c, res)\n",
    "            root.children[:] = []\n",
    "        if root is not None and root.children == []:\n",
    "            res.append(root.val)\n",
    "        return res"
   ]
  },
  {
   "cell_type": "markdown",
   "metadata": {},
   "source": [
    "Solution_3 :"
   ]
  },
  {
   "cell_type": "code",
   "execution_count": 3,
   "metadata": {},
   "outputs": [],
   "source": [
    "class Solution(object):\n",
    "    def postorder(self, root):\n",
    "            \"\"\"\n",
    "            :type root: Node\n",
    "            :rtype: List[int]\n",
    "            \"\"\"\n",
    "            if root == None:\n",
    "                return []\n",
    "            stack = [root]\n",
    "            result = []\n",
    "            while len(stack) != 0:\n",
    "                node = stack.pop()\n",
    "                result.append(node.val)\n",
    "                stack.extend(node.children)\n",
    "            return result[::-1]"
   ]
  }
 ],
 "metadata": {
  "kernelspec": {
   "display_name": "Python 3",
   "language": "python",
   "name": "python3"
  },
  "language_info": {
   "codemirror_mode": {
    "name": "ipython",
    "version": 3
   },
   "file_extension": ".py",
   "mimetype": "text/x-python",
   "name": "python",
   "nbconvert_exporter": "python",
   "pygments_lexer": "ipython3",
   "version": "3.7.1"
  }
 },
 "nbformat": 4,
 "nbformat_minor": 2
}
