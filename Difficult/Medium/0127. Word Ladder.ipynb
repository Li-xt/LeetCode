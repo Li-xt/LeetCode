{
 "cells": [
  {
   "cell_type": "markdown",
   "metadata": {},
   "source": [
    "Solution_1 :"
   ]
  },
  {
   "cell_type": "code",
   "execution_count": null,
   "metadata": {},
   "outputs": [],
   "source": [
    "class Solution(object):\n",
    "    def ladderLength(self, beginWord, endWord, wordList):\n",
    "        \"\"\"\n",
    "        :type beginWord: str\n",
    "        :type endWord: str\n",
    "        :type wordList: List[str]\n",
    "        :rtype: int\n",
    "        \"\"\"\n",
    "        wordset = set(wordList)\n",
    "        if endWord not in wordset:\n",
    "            return 0\n",
    "        visited = set([beginWord])\n",
    "        chrs = [chr(ord('a') + i) for i in range(26)]\n",
    "        bfs = collections.deque([beginWord])\n",
    "        res = 1\n",
    "        while bfs:\n",
    "            len_bfs = len(bfs)\n",
    "            for _ in range(len_bfs):\n",
    "                origin = bfs.popleft()\n",
    "                for i in range(len(origin)):\n",
    "                    originlist = list(origin)\n",
    "                    for c in chrs:\n",
    "                        originlist[i] = c\n",
    "                        transword = \"\".join(originlist)\n",
    "                        if transword not in visited:\n",
    "                            if transword == endWord:\n",
    "                                return res + 1\n",
    "                            elif transword in wordset:\n",
    "                                bfs.append(transword)\n",
    "                                visited.add(transword)\n",
    "            res += 1\n",
    "        return 0"
   ]
  },
  {
   "cell_type": "markdown",
   "metadata": {},
   "source": [
    "Solution_2 :"
   ]
  },
  {
   "cell_type": "code",
   "execution_count": null,
   "metadata": {},
   "outputs": [],
   "source": [
    "class Solution(object):\n",
    "    def ladderLength(self, beginWord, endWord, wordList):\n",
    "        \"\"\"\n",
    "        :type beginWord: str\n",
    "        :type endWord: str\n",
    "        :type wordList: List[str]\n",
    "        :rtype: int\n",
    "        \"\"\"\n",
    "        wordset = set(wordList)\n",
    "        bfs = collections.deque()\n",
    "        bfs.append((beginWord, 1))\n",
    "        while bfs:\n",
    "            word, length = bfs.popleft()\n",
    "            if word == endWord:\n",
    "                return length\n",
    "            for i in range(len(word)):\n",
    "                for c in \"abcdefghijklmnopqrstuvwxyz\":\n",
    "                    newWord = word[:i] + c + word[i + 1:]\n",
    "                    if newWord in wordset and newWord != word:\n",
    "                        wordset.remove(newWord)\n",
    "                        bfs.append((newWord, length + 1))\n",
    "        return 0\n"
   ]
  }
 ],
 "metadata": {
  "kernelspec": {
   "display_name": "Python 3",
   "language": "python",
   "name": "python3"
  },
  "language_info": {
   "codemirror_mode": {
    "name": "ipython",
    "version": 3
   },
   "file_extension": ".py",
   "mimetype": "text/x-python",
   "name": "python",
   "nbconvert_exporter": "python",
   "pygments_lexer": "ipython3",
   "version": "3.7.1"
  }
 },
 "nbformat": 4,
 "nbformat_minor": 4
}
