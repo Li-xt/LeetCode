{
 "cells": [
  {
   "cell_type": "markdown",
   "metadata": {},
   "source": [
    "Solution_1 : "
   ]
  },
  {
   "cell_type": "code",
   "execution_count": 16,
   "metadata": {},
   "outputs": [],
   "source": [
    "class Solution:\n",
    "    import re\n",
    "    def reverseVowels(self, s):\n",
    "        vowels_list = re.findall('(?i)[aeiou]',s)\n",
    "        print (re.findall('(?i)[aeiou]',s))\n",
    "        return re.sub('(?i)[aeiou]', lambda x : vowels_list.pop(), s )"
   ]
  },
  {
   "cell_type": "markdown",
   "metadata": {},
   "source": [
    "Solution_2 : "
   ]
  },
  {
   "cell_type": "code",
   "execution_count": 23,
   "metadata": {},
   "outputs": [],
   "source": [
    "class Solution(object):\n",
    "    def reverseVowels(self, s):\n",
    "        \"\"\"\n",
    "        :type s: str\n",
    "        :rtype: str\n",
    "        \"\"\"\n",
    "        vowels = {'a': True, 'o': True, 'e': True, 'i': True, 'u': True, 'A': True, 'O': True, 'E': True, 'I': True, 'U': True}\n",
    "        res = list(s)\n",
    "        pos = []\n",
    "        for i in range(len(res)):\n",
    "            if res[i] in vowels:\n",
    "                pos.append((i, res[i]))\n",
    "        print (pos,res)\n",
    "        for j in range(len(pos)//2):\n",
    "            res[pos[j][0]] = pos[len(pos)-j-1][1]\n",
    "            res[pos[len(pos)-j-1][0]] = pos[j][1]\n",
    "        return ''.join(res)"
   ]
  },
  {
   "cell_type": "code",
   "execution_count": null,
   "metadata": {},
   "outputs": [],
   "source": []
  }
 ],
 "metadata": {
  "kernelspec": {
   "display_name": "Python 3",
   "language": "python",
   "name": "python3"
  },
  "language_info": {
   "codemirror_mode": {
    "name": "ipython",
    "version": 3
   },
   "file_extension": ".py",
   "mimetype": "text/x-python",
   "name": "python",
   "nbconvert_exporter": "python",
   "pygments_lexer": "ipython3",
   "version": "3.7.1"
  }
 },
 "nbformat": 4,
 "nbformat_minor": 2
}
