{
 "cells": [
  {
   "cell_type": "markdown",
   "metadata": {},
   "source": [
    "Solution_1 :"
   ]
  },
  {
   "cell_type": "code",
   "execution_count": 1,
   "metadata": {},
   "outputs": [],
   "source": [
    "class Solution:\n",
    "    def diStringMatch(self, S):\n",
    "        \"\"\"\n",
    "        :type S: str\n",
    "        :rtype: List[int]\n",
    "        \"\"\"\n",
    "        N = len(S)\n",
    "        ni, nd = 0, N\n",
    "        res = []\n",
    "        for s in S:\n",
    "            if s == \"I\":\n",
    "                res.append(ni)\n",
    "                ni += 1\n",
    "            else:\n",
    "                res.append(nd)\n",
    "                nd -= 1\n",
    "        res.append(ni)\n",
    "        return res"
   ]
  },
  {
   "cell_type": "markdown",
   "metadata": {},
   "source": [
    "Solution_2 :"
   ]
  },
  {
   "cell_type": "code",
   "execution_count": null,
   "metadata": {},
   "outputs": [],
   "source": [
    "class Solution:\n",
    "    def diStringMatch(self, S):\n",
    "        \"\"\"\n",
    "        :type S: str\n",
    "        :rtype: List[int]\n",
    "        \"\"\"\n",
    "        N = len(S)\n",
    "        A = [None] * (N+1)\n",
    "        inc = 0\n",
    "        dec = N\n",
    "        for i in range(N):\n",
    "            if S[i] == 'I':\n",
    "                A[i] = inc\n",
    "                inc += 1\n",
    "            else:\n",
    "                A[i] = dec\n",
    "                dec -= 1\n",
    "\n",
    "        if S[N-1] == 'I':\n",
    "            A[N] = inc\n",
    "        else:\n",
    "            A[N] = dec\n",
    "\n",
    "        return A\n"
   ]
  }
 ],
 "metadata": {
  "kernelspec": {
   "display_name": "Python 3",
   "language": "python",
   "name": "python3"
  },
  "language_info": {
   "codemirror_mode": {
    "name": "ipython",
    "version": 3
   },
   "file_extension": ".py",
   "mimetype": "text/x-python",
   "name": "python",
   "nbconvert_exporter": "python",
   "pygments_lexer": "ipython3",
   "version": "3.7.1"
  }
 },
 "nbformat": 4,
 "nbformat_minor": 2
}
