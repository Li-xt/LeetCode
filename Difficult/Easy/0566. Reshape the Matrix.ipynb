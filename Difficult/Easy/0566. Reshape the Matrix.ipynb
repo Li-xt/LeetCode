{
 "cells": [
  {
   "cell_type": "markdown",
   "metadata": {},
   "source": [
    "Solution_1 : "
   ]
  },
  {
   "cell_type": "code",
   "execution_count": null,
   "metadata": {},
   "outputs": [],
   "source": [
    "# run on Python instead of Python3 due to import numpy not support in Python3 \n",
    "import numpy as np \n",
    "class Solution:\n",
    "\n",
    "    def matrixReshape(self, nums, r, c):\n",
    "        \"\"\"\n",
    "        :type nums: List[List[int]]\n",
    "        :type r: int\n",
    "        :type c: int\n",
    "        :rtype: List[List[int]]\n",
    "        \"\"\"\n",
    "        \n",
    "        if len(nums) == 0: \n",
    "            return nums\n",
    "        \n",
    "        m=len(nums)\n",
    "        n=len(nums[0])\n",
    "         \n",
    "        if m*n!=r*c:\n",
    "            return nums\n",
    "        \n",
    "        #result = [[0]*c]*r \n",
    "        result = np.zeros((r,c)).tolist()\n",
    "        \n",
    "        for i in range(c*r):\n",
    "            ori_x = i%n\n",
    "            ori_y = i//n\n",
    "            \n",
    "            result_x = i%c\n",
    "            result_y = i//c\n",
    "            \n",
    "            result[result_y][result_x] = nums[ori_y][ori_x] \n",
    "\n",
    "        return result"
   ]
  },
  {
   "cell_type": "markdown",
   "metadata": {},
   "source": [
    "Solution_2 :"
   ]
  },
  {
   "cell_type": "code",
   "execution_count": null,
   "metadata": {},
   "outputs": [],
   "source": [
    "class Solution:\n",
    "\n",
    "    def matrixReshape(self, nums, r, c):\n",
    "        \"\"\"\n",
    "        :type nums: List[List[int]]\n",
    "        :type r: int\n",
    "        :type c: int\n",
    "        :rtype: List[List[int]]\n",
    "        \"\"\"\n",
    "        \n",
    "        new=[]\n",
    "        new2=[]\n",
    "        if r*c!=len(nums)*len(nums[0]) and len(nums)*len(nums[0])<=10000:\n",
    "            return nums\n",
    "        for i in range(len(nums)):\n",
    "            for j in range(len(nums[i])):\n",
    "                new.append(nums[i][j])\n",
    "        k=0\n",
    "        for i in range(r):\n",
    "            new2.append(new[k:k+c])\n",
    "            k+=c\n",
    "        return new2"
   ]
  }
 ],
 "metadata": {
  "kernelspec": {
   "display_name": "Python 3",
   "language": "python",
   "name": "python3"
  },
  "language_info": {
   "codemirror_mode": {
    "name": "ipython",
    "version": 3
   },
   "file_extension": ".py",
   "mimetype": "text/x-python",
   "name": "python",
   "nbconvert_exporter": "python",
   "pygments_lexer": "ipython3",
   "version": "3.7.1"
  }
 },
 "nbformat": 4,
 "nbformat_minor": 2
}
