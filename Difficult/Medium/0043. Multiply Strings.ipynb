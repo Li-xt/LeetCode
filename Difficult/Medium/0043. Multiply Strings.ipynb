{
 "cells": [
  {
   "cell_type": "markdown",
   "metadata": {},
   "source": [
    "Solution_1 :"
   ]
  },
  {
   "cell_type": "code",
   "execution_count": 1,
   "metadata": {},
   "outputs": [],
   "source": [
    "class Solution(object):\n",
    "    def multiply(self, num1, num2):\n",
    "        \"\"\"\n",
    "        :type num1: str\n",
    "        :type num2: str\n",
    "        :rtype: str\n",
    "        \"\"\"\n",
    "        return str(int(num1) * int(num2))\n"
   ]
  },
  {
   "cell_type": "markdown",
   "metadata": {},
   "source": [
    "Solution_2 :"
   ]
  },
  {
   "cell_type": "code",
   "execution_count": 3,
   "metadata": {},
   "outputs": [],
   "source": [
    "class Solution(object):\n",
    "    def multiply(self, num1, num2):\n",
    "        \"\"\"\n",
    "        :type num1: str\n",
    "        :type num2: str\n",
    "        :rtype: str\n",
    "        \"\"\"\n",
    "        if num1 == '0' or num2 == '0':\n",
    "            return '0'\n",
    "        ans = 0\n",
    "        for i, n1 in enumerate(num2[::-1]):\n",
    "            pre = 0\n",
    "            curr = 0\n",
    "            for j, n2 in enumerate(num1[::-1]):\n",
    "                multi = (ord(n1) - ord('0')) * (ord(n2) - ord('0'))\n",
    "                first, second = multi // 10, multi % 10\n",
    "                curr += (second + pre) * (10 ** j) \n",
    "                pre = first\n",
    "            curr += pre * (10 ** len(num1))\n",
    "            ans += curr * (10 ** i)\n",
    "        return str(ans)"
   ]
  }
 ],
 "metadata": {
  "kernelspec": {
   "display_name": "Python 3",
   "language": "python",
   "name": "python3"
  },
  "language_info": {
   "codemirror_mode": {
    "name": "ipython",
    "version": 3
   },
   "file_extension": ".py",
   "mimetype": "text/x-python",
   "name": "python",
   "nbconvert_exporter": "python",
   "pygments_lexer": "ipython3",
   "version": "3.7.1"
  }
 },
 "nbformat": 4,
 "nbformat_minor": 2
}
