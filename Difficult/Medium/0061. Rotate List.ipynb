{
 "cells": [
  {
   "cell_type": "markdown",
   "metadata": {},
   "source": [
    "Solution_1 ： "
   ]
  },
  {
   "cell_type": "code",
   "execution_count": null,
   "metadata": {},
   "outputs": [],
   "source": [
    "class Solution:\n",
    "    def rotateRight(self, head, k):\n",
    "        \"\"\"\n",
    "        :type head: ListNode\n",
    "        :type k: int\n",
    "        :rtype: ListNode\n",
    "        \"\"\"\n",
    "        if not head or not head.next: return head\n",
    "        _len = 0\n",
    "        root = head\n",
    "        while head:\n",
    "            _len += 1\n",
    "            head = head.next\n",
    "        k %= _len\n",
    "        if k == 0: return root\n",
    "        fast, slow = root, root\n",
    "        while k - 1:\n",
    "            fast = fast.next\n",
    "            k -= 1\n",
    "        pre = slow\n",
    "        while fast.next:\n",
    "            fast = fast.next\n",
    "            pre = slow\n",
    "            slow = slow.next\n",
    "        pre.next = None\n",
    "        fast.next = root\n",
    "        return slow"
   ]
  },
  {
   "cell_type": "markdown",
   "metadata": {},
   "source": [
    "Solution_2 ： "
   ]
  },
  {
   "cell_type": "code",
   "execution_count": null,
   "metadata": {},
   "outputs": [],
   "source": [
    "# Definition for singly-linked list.\n",
    "# class ListNode:\n",
    "#     def __init__(self, x):\n",
    "#         self.val = x\n",
    "#         self.next = None\n",
    "\n",
    "class Solution:\n",
    "    def rotateRight(self, head: ListNode, k: int) -> ListNode:\n",
    "        if not head or not head.next:\n",
    "            return head\n",
    "        \n",
    "        l = 1\n",
    "        ptr = head\n",
    "        ptr.next = head.next\n",
    "        \n",
    "        while ptr.next:\n",
    "            l += 1\n",
    "            ptr = ptr.next\n",
    "        \n",
    "        ptr.next = head\n",
    "        \n",
    "        res = ptr\n",
    "        n = l - k % l\n",
    "        while n > 0:\n",
    "            n -= 1\n",
    "            res = res.next\n",
    "        ptr = res.next\n",
    "        res.next = None\n",
    "        return ptr"
   ]
  }
 ],
 "metadata": {
  "kernelspec": {
   "display_name": "Python 3",
   "language": "python",
   "name": "python3"
  },
  "language_info": {
   "codemirror_mode": {
    "name": "ipython",
    "version": 3
   },
   "file_extension": ".py",
   "mimetype": "text/x-python",
   "name": "python",
   "nbconvert_exporter": "python",
   "pygments_lexer": "ipython3",
   "version": "3.7.1"
  }
 },
 "nbformat": 4,
 "nbformat_minor": 2
}
