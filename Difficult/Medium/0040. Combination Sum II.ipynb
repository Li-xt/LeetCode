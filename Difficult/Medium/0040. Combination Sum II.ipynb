{
 "cells": [
  {
   "cell_type": "markdown",
   "metadata": {},
   "source": [
    "Solution_1 :"
   ]
  },
  {
   "cell_type": "code",
   "execution_count": null,
   "metadata": {},
   "outputs": [],
   "source": [
    "class Solution(object):\n",
    "    def combinationSum2(self, candidates, target):\n",
    "        dp = [set([()])] + [set([]) for i in range(target)]\n",
    "        for c in sorted(candidates):\n",
    "            for n in range(target, c - 1, -1):\n",
    "                dp[n] |= {t + (c,) for t in dp[n - c]}\n",
    "        return [list(t) for t in dp[target]]"
   ]
  },
  {
   "cell_type": "markdown",
   "metadata": {},
   "source": [
    "Solution_2 :"
   ]
  },
  {
   "cell_type": "code",
   "execution_count": null,
   "metadata": {},
   "outputs": [],
   "source": [
    "class Solution(object):\n",
    "    def combinationSum2(self, candidates, target):\n",
    "        \"\"\"\n",
    "        :type candidates: List[int]\n",
    "        :type target: int\n",
    "        :rtype: List[List[int]]\n",
    "        \"\"\"\n",
    "        candidates.sort()\n",
    "        res = []\n",
    "        self.dfs(candidates, target, 0, res, [])\n",
    "        return res\n",
    "\n",
    "    def dfs(self, nums, target, index, res, path):\n",
    "        if target < 0:\n",
    "            return\n",
    "        elif target == 0:\n",
    "            res.append(path)\n",
    "            return\n",
    "        for i in range(index, len(nums)):\n",
    "            if i > index and nums[i] == nums[i-1]:\n",
    "                continue\n",
    "            self.dfs(nums, target - nums[i], i + 1, res, path + [nums[i]])\n"
   ]
  },
  {
   "cell_type": "markdown",
   "metadata": {},
   "source": [
    "Solution_3 :"
   ]
  },
  {
   "cell_type": "code",
   "execution_count": null,
   "metadata": {},
   "outputs": [],
   "source": [
    "class Solution(object):\n",
    "    def combinationSum2(self, candidates, target):\n",
    "        \"\"\"\n",
    "        :type candidates: List[int]\n",
    "        :type target: int\n",
    "        :rtype: List[List[int]]\n",
    "        \"\"\"\n",
    "        if not candidates:\n",
    "            return []\n",
    "        \n",
    "        candidates.sort()\n",
    "        ans = []\n",
    "        \n",
    "        def backtracking(start, _sum, arr):\n",
    "            if start >= len(candidates):\n",
    "                return\n",
    "            \n",
    "            for i in range(start, len(candidates)):\n",
    "                if i > start and candidates[i] == candidates[i - 1]:\n",
    "                    continue\n",
    "                if _sum + candidates[i] == target:\n",
    "                    ans.append(arr + [candidates[i]])\n",
    "                    return\n",
    "                elif _sum + candidates[i] > target:\n",
    "                    return\n",
    "                else:\n",
    "                    backtracking(i + 1, _sum + candidates[i], arr + [candidates[i]])\n",
    "        \n",
    "        backtracking(0, 0, [])\n",
    "        \n",
    "        return ans"
   ]
  }
 ],
 "metadata": {
  "kernelspec": {
   "display_name": "Python 3",
   "language": "python",
   "name": "python3"
  },
  "language_info": {
   "codemirror_mode": {
    "name": "ipython",
    "version": 3
   },
   "file_extension": ".py",
   "mimetype": "text/x-python",
   "name": "python",
   "nbconvert_exporter": "python",
   "pygments_lexer": "ipython3",
   "version": "3.7.1"
  }
 },
 "nbformat": 4,
 "nbformat_minor": 2
}
