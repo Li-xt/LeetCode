{
 "cells": [
  {
   "cell_type": "markdown",
   "metadata": {},
   "source": [
    "Solution_1 : "
   ]
  },
  {
   "cell_type": "code",
   "execution_count": 13,
   "metadata": {},
   "outputs": [],
   "source": [
    "class Solution(object):\n",
    "    def addBinary(self, a, b):\n",
    "        \"\"\"\n",
    "        :type a: str\n",
    "        :type b: str\n",
    "        :rtype: str\n",
    "        \"\"\"\n",
    "        M, N = len(a), len(b)\n",
    "        if M < N:\n",
    "            a = \"0\" * (N - M) + a\n",
    "        else:\n",
    "            b = \"0\" * (M - N) + b\n",
    "        stack1 = list(a)\n",
    "        stack2 = list(b)\n",
    "        res = \"\"\n",
    "        carry = 0\n",
    "        while stack1 and stack2:\n",
    "            s1, s2 = stack1.pop(), stack2.pop()\n",
    "            cursum = int(s1) + int(s2) + carry\n",
    "            if cursum >= 2:\n",
    "                cursum %= 2\n",
    "                carry = 1\n",
    "            else:\n",
    "                carry = 0\n",
    "            res = str(cursum) + res\n",
    "        if carry:\n",
    "            res = \"1\" + res\n",
    "        return res\n"
   ]
  },
  {
   "cell_type": "markdown",
   "metadata": {},
   "source": [
    "Solution_2 : "
   ]
  },
  {
   "cell_type": "code",
   "execution_count": 15,
   "metadata": {},
   "outputs": [],
   "source": [
    "class Solution:\n",
    "    def addBinary(self, a: str, b: str) -> str:\n",
    "        return bin(int(a,2)+int(b,2))[2:]"
   ]
  },
  {
   "cell_type": "code",
   "execution_count": null,
   "metadata": {},
   "outputs": [],
   "source": []
  }
 ],
 "metadata": {
  "kernelspec": {
   "display_name": "Python 3",
   "language": "python",
   "name": "python3"
  },
  "language_info": {
   "codemirror_mode": {
    "name": "ipython",
    "version": 3
   },
   "file_extension": ".py",
   "mimetype": "text/x-python",
   "name": "python",
   "nbconvert_exporter": "python",
   "pygments_lexer": "ipython3",
   "version": "3.7.1"
  }
 },
 "nbformat": 4,
 "nbformat_minor": 2
}
