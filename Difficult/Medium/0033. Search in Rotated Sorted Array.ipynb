{
 "cells": [
  {
   "cell_type": "markdown",
   "metadata": {},
   "source": [
    "Solution_1 :"
   ]
  },
  {
   "cell_type": "code",
   "execution_count": 1,
   "metadata": {},
   "outputs": [],
   "source": [
    "class Solution(object):\n",
    "    def search(self, nums, target):\n",
    "        \"\"\"\n",
    "        :type nums: List[int]\n",
    "        :type target: int\n",
    "        :rtype: int\n",
    "        \"\"\"\n",
    "        if not nums: return -1\n",
    "        left, right = 0, len(nums) - 1\n",
    "        while left <= right:\n",
    "            mid = (left + right) // 2\n",
    "            if nums[mid] == target:\n",
    "                return mid\n",
    "            if nums[mid] < nums[right]:\n",
    "                if target > nums[mid] and target <= nums[right]:\n",
    "                    left = mid + 1\n",
    "                else:\n",
    "                    right = mid - 1\n",
    "            else:\n",
    "                if target < nums[mid] and target >= nums[left]:\n",
    "                    right = mid - 1\n",
    "                else:\n",
    "                    left = mid + 1\n",
    "        return -1  "
   ]
  },
  {
   "cell_type": "markdown",
   "metadata": {},
   "source": [
    "Solution_2 :"
   ]
  },
  {
   "cell_type": "code",
   "execution_count": null,
   "metadata": {},
   "outputs": [],
   "source": [
    "class Solution(object):\n",
    "    def search(self, nums, target):\n",
    "        \"\"\"\n",
    "        :type nums: List[int]\n",
    "        :type target: int\n",
    "        :rtype: int\n",
    "        \"\"\"\n",
    "        if not nums:\n",
    "            return -1\n",
    "        low = 0\n",
    "        high = len(nums)-1\n",
    "        pivot = None\n",
    "        # Find location of pivot using binary search\n",
    "        while low <= high:\n",
    "            mid = low + (high-low)//2\n",
    "            # If subarray is in correct order, that means pivot is at the beginning\n",
    "            if nums[low] <= nums[mid] <= nums[high]:\n",
    "                pivot = low\n",
    "                break\n",
    "            # If pivot is higher than both ends of the subarray, that means it exists in the latter half\n",
    "            # The >= accounts for the case when there are only 2 elements i.e. [4, 0] -> pivot = 0\n",
    "            elif nums[mid] >= nums[low] and nums[mid] > nums[high]:\n",
    "                low = mid+1\n",
    "            # If pivot is less than both ends of the subarray, that means it exists in the former half\n",
    "            elif nums[mid] < nums[low] and nums[mid] < nums[high]:\n",
    "                high=mid\n",
    "        \n",
    "        # Perform a \"rotated\" binary search\n",
    "        low = 0\n",
    "        high = len(nums)-1\n",
    "        \n",
    "        while low <= high:\n",
    "            mid = low+(high-low)//2\n",
    "            # rotates the search index\n",
    "            rot_mid = (mid+pivot)%len(nums)\n",
    "            if nums[rot_mid] == target:\n",
    "                return rot_mid\n",
    "            if nums[rot_mid] < target:\n",
    "                low = mid+1\n",
    "            else:\n",
    "                high = mid-1\n",
    "                \n",
    "        return -1"
   ]
  }
 ],
 "metadata": {
  "kernelspec": {
   "display_name": "Python 3",
   "language": "python",
   "name": "python3"
  },
  "language_info": {
   "codemirror_mode": {
    "name": "ipython",
    "version": 3
   },
   "file_extension": ".py",
   "mimetype": "text/x-python",
   "name": "python",
   "nbconvert_exporter": "python",
   "pygments_lexer": "ipython3",
   "version": "3.7.1"
  }
 },
 "nbformat": 4,
 "nbformat_minor": 2
}
