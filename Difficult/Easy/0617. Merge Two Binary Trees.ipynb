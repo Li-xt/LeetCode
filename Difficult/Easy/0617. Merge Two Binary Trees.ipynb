{
 "cells": [
  {
   "cell_type": "markdown",
   "metadata": {},
   "source": [
    "Solution_1 : "
   ]
  },
  {
   "cell_type": "code",
   "execution_count": 1,
   "metadata": {},
   "outputs": [],
   "source": [
    "class Solution(object):\n",
    "    def mergeTrees(self, t1, t2):\n",
    "        \"\"\"\n",
    "        :type t1: TreeNode\n",
    "        :type t2: TreeNode\n",
    "        :rtype: TreeNode\n",
    "        \"\"\"\n",
    "        if t1 is None and t2 is None:\n",
    "            return\n",
    "        if t1 is None:\n",
    "            return t2\n",
    "        if t2 is None:\n",
    "            return t1\n",
    "        t1.val += t2.val\n",
    "        t1.right = self.mergeTrees(t1.right, t2.right)\n",
    "        t1.left = self.mergeTrees(t1.left, t2.left)\n",
    "        return t1"
   ]
  },
  {
   "cell_type": "markdown",
   "metadata": {},
   "source": [
    "Solution_2 :"
   ]
  },
  {
   "cell_type": "code",
   "execution_count": 2,
   "metadata": {},
   "outputs": [],
   "source": [
    "class Solution(object):\n",
    "    def mergeTrees(self, t1, t2):\n",
    "        \"\"\"\n",
    "        :type t1: TreeNode\n",
    "        :type t2: TreeNode\n",
    "        :rtype: TreeNode\n",
    "        \"\"\"\n",
    "        if t1 == None:\n",
    "            return t2\n",
    "        if t2 == None:\n",
    "            return t1\n",
    "        if t1!=None and t2!=None:\n",
    "            t1.val = t1.val+t2.val\n",
    "            t1.left = self.mergeTrees(t1.left,t2.left)\n",
    "            t1.right = self.mergeTrees(t1.right,t2.right)\n",
    "        return t1"
   ]
  },
  {
   "cell_type": "code",
   "execution_count": null,
   "metadata": {},
   "outputs": [],
   "source": []
  }
 ],
 "metadata": {
  "kernelspec": {
   "display_name": "Python 3",
   "language": "python",
   "name": "python3"
  },
  "language_info": {
   "codemirror_mode": {
    "name": "ipython",
    "version": 3
   },
   "file_extension": ".py",
   "mimetype": "text/x-python",
   "name": "python",
   "nbconvert_exporter": "python",
   "pygments_lexer": "ipython3",
   "version": "3.7.1"
  }
 },
 "nbformat": 4,
 "nbformat_minor": 2
}
