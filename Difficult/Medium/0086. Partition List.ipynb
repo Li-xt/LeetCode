{
 "cells": [
  {
   "cell_type": "markdown",
   "metadata": {},
   "source": [
    "Solution_1 :"
   ]
  },
  {
   "cell_type": "code",
   "execution_count": null,
   "metadata": {},
   "outputs": [],
   "source": [
    "class Solution(object):\n",
    "    def partition(self, head, x):\n",
    "        \"\"\"\n",
    "        :type head: ListNode\n",
    "        :type x: int\n",
    "        :rtype: ListNode\n",
    "        \"\"\"\n",
    "        small = ListNode(0)\n",
    "        large = ListNode(0)\n",
    "        small_root, large_root = small, large\n",
    "        while head:\n",
    "            if head.val < x:\n",
    "                small.next = head\n",
    "                small = small.next\n",
    "            else:\n",
    "                large.next = head\n",
    "                large = large.next\n",
    "            temp = head.next\n",
    "            head.next = None\n",
    "            head = temp\n",
    "        small.next  = large_root.next\n",
    "        return small_root.next\n"
   ]
  }
 ],
 "metadata": {
  "kernelspec": {
   "display_name": "Python 3",
   "language": "python",
   "name": "python3"
  },
  "language_info": {
   "codemirror_mode": {
    "name": "ipython",
    "version": 3
   },
   "file_extension": ".py",
   "mimetype": "text/x-python",
   "name": "python",
   "nbconvert_exporter": "python",
   "pygments_lexer": "ipython3",
   "version": "3.7.1"
  }
 },
 "nbformat": 4,
 "nbformat_minor": 4
}
