{
 "cells": [
  {
   "cell_type": "markdown",
   "metadata": {},
   "source": [
    "Solution_1 :  "
   ]
  },
  {
   "cell_type": "code",
   "execution_count": 1,
   "metadata": {},
   "outputs": [],
   "source": [
    "class Solution(object):\n",
    "    def findSecondMinimumValue(self, root):\n",
    "        \"\"\"\n",
    "        :type root: TreeNode\n",
    "        :rtype: int\n",
    "        \"\"\"\n",
    "        if not root: return -1\n",
    "        self.res = float(\"inf\")\n",
    "        self.min = root.val\n",
    "        self.inOrder(root)\n",
    "        return self.res if self.res != float(\"inf\") else -1\n",
    "\n",
    "    def inOrder(self, root):\n",
    "        if not root:\n",
    "            return\n",
    "        self.inOrder(root.left)\n",
    "        if self.min < root.val < self.res:\n",
    "            self.res = root.val\n",
    "        self.inOrder(root.right)\n"
   ]
  }
 ],
 "metadata": {
  "kernelspec": {
   "display_name": "Python 3",
   "language": "python",
   "name": "python3"
  },
  "language_info": {
   "codemirror_mode": {
    "name": "ipython",
    "version": 3
   },
   "file_extension": ".py",
   "mimetype": "text/x-python",
   "name": "python",
   "nbconvert_exporter": "python",
   "pygments_lexer": "ipython3",
   "version": "3.7.1"
  }
 },
 "nbformat": 4,
 "nbformat_minor": 2
}
