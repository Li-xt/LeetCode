{
 "cells": [
  {
   "cell_type": "markdown",
   "metadata": {},
   "source": [
    "Solution_1 : "
   ]
  },
  {
   "cell_type": "code",
   "execution_count": null,
   "metadata": {},
   "outputs": [],
   "source": [
    "class Solution:\n",
    "    def isAnagram(self, s: str, t: str) -> bool:\n",
    "            \n",
    "            if len(s) != len(t):\n",
    "                return False\n",
    "            \n",
    "            s_ = list(set(list(s)))\n",
    "            for c in s_ :\n",
    "                try:\n",
    "                    if s.count(c) != t.count(c):\n",
    "                        return False \n",
    "                except:\n",
    "                    return False\n",
    "            return True\n",
    "        "
   ]
  },
  {
   "cell_type": "markdown",
   "metadata": {},
   "source": [
    "Solution_2 : "
   ]
  },
  {
   "cell_type": "code",
   "execution_count": null,
   "metadata": {},
   "outputs": [],
   "source": [
    "class Solution:\n",
    "    import collections\n",
    "    def isAnagram(self, s: str, t: str) -> bool:\n",
    "        if len(s) != len(t): return False\n",
    "        \n",
    "        s_ = collections.Counter(s)\n",
    "        t_ = collections.Counter(t)\n",
    "        \n",
    "        try:\n",
    "            for c in set(s):\n",
    "                if s_[c] != t_[c]:\n",
    "                    return False \n",
    "        except :\n",
    "            return False \n",
    "        \n",
    "        return True"
   ]
  }
 ],
 "metadata": {
  "kernelspec": {
   "display_name": "Python 3",
   "language": "python",
   "name": "python3"
  },
  "language_info": {
   "codemirror_mode": {
    "name": "ipython",
    "version": 3
   },
   "file_extension": ".py",
   "mimetype": "text/x-python",
   "name": "python",
   "nbconvert_exporter": "python",
   "pygments_lexer": "ipython3",
   "version": "3.7.1"
  }
 },
 "nbformat": 4,
 "nbformat_minor": 2
}
