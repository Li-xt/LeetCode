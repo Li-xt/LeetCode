{
 "cells": [
  {
   "cell_type": "markdown",
   "metadata": {},
   "source": [
    "Solution_1 :"
   ]
  },
  {
   "cell_type": "code",
   "execution_count": 1,
   "metadata": {},
   "outputs": [],
   "source": [
    "# Definition for a binary tree node.\n",
    "# class TreeNode:\n",
    "#     def __init__(self, x):\n",
    "#         self.val = x\n",
    "#         self.left = None\n",
    "#         self.right = None\n",
    "\n",
    "class Solution(object):\n",
    "    def pathSum(self, root, sum):\n",
    "        \"\"\"\n",
    "        :type root: TreeNode\n",
    "        :type sum: int\n",
    "        :rtype: List[List[int]]\n",
    "        \"\"\"\n",
    "        if not root: return []\n",
    "        res = []\n",
    "        self.dfs(root, sum, res, [root.val])\n",
    "        return res\n",
    "\n",
    "    def dfs(self, root, target, res, path):\n",
    "        if not root: return\n",
    "        if sum(path) == target and not root.left and not root.right:\n",
    "            res.append(path)\n",
    "            return\n",
    "        if root.left:\n",
    "            self.dfs(root.left, target, res, path + [root.left.val])\n",
    "        if root.right:\n",
    "            self.dfs(root.right, target, res, path + [root.right.val])"
   ]
  }
 ],
 "metadata": {
  "kernelspec": {
   "display_name": "Python 3",
   "language": "python",
   "name": "python3"
  },
  "language_info": {
   "codemirror_mode": {
    "name": "ipython",
    "version": 3
   },
   "file_extension": ".py",
   "mimetype": "text/x-python",
   "name": "python",
   "nbconvert_exporter": "python",
   "pygments_lexer": "ipython3",
   "version": "3.7.1"
  }
 },
 "nbformat": 4,
 "nbformat_minor": 4
}
