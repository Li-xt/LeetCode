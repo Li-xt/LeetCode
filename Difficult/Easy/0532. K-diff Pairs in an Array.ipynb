{
 "cells": [
  {
   "cell_type": "markdown",
   "metadata": {},
   "source": [
    "Solution_1 : "
   ]
  },
  {
   "cell_type": "code",
   "execution_count": 2,
   "metadata": {},
   "outputs": [],
   "source": [
    "class Solution:\n",
    "    import collections\n",
    "    def findPairs(self, nums, k):\n",
    "        \n",
    "        if k < 0:\n",
    "            return 0 \n",
    "        elif k > 0 :\n",
    "            return len(set(nums) & set([x+k for x in nums ]))\n",
    "        elif k == 0:\n",
    "            c = collections.Counter(nums)\n",
    "            return sum([ n > 1  for n in c.values() ])"
   ]
  }
 ],
 "metadata": {
  "kernelspec": {
   "display_name": "Python 3",
   "language": "python",
   "name": "python3"
  },
  "language_info": {
   "codemirror_mode": {
    "name": "ipython",
    "version": 3
   },
   "file_extension": ".py",
   "mimetype": "text/x-python",
   "name": "python",
   "nbconvert_exporter": "python",
   "pygments_lexer": "ipython3",
   "version": "3.7.1"
  }
 },
 "nbformat": 4,
 "nbformat_minor": 2
}
