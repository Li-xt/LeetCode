{
 "cells": [
  {
   "cell_type": "markdown",
   "metadata": {},
   "source": [
    "Solution_1 : "
   ]
  },
  {
   "cell_type": "code",
   "execution_count": 1,
   "metadata": {},
   "outputs": [],
   "source": [
    "class Solution(object):\n",
    "    def isMonotonic(self, A):\n",
    "        \"\"\"\n",
    "        :type A: List[int]\n",
    "        :rtype: bool\n",
    "        \"\"\"\n",
    "        return self.isIncrease(A) or self.isDecrease(A)\n",
    "        \n",
    "    def isIncrease(self, A):\n",
    "        return all(A[i] - A[i+1] >= 0 for i in range(len(A) - 1))\n",
    "        \n",
    "    def isDecrease(self, A):\n",
    "        return all(A[i] - A[i+1] <= 0 for i in range(len(A) - 1))\n"
   ]
  },
  {
   "cell_type": "markdown",
   "metadata": {},
   "source": [
    "Solution_2 : "
   ]
  },
  {
   "cell_type": "code",
   "execution_count": 3,
   "metadata": {},
   "outputs": [],
   "source": [
    "class Solution:\n",
    "    def isMonotonic(self, A):\n",
    "        if len(A) == 0 : return True\n",
    "        \n",
    "        prev = A[0]\n",
    "        for i in range(1, len(A), 1) : \n",
    "            if prev > A[i] : break\n",
    "            prev = A[i]\n",
    "        else : \n",
    "            return True            \n",
    "            \n",
    "        prev = A[0]\n",
    "        for i in range(1, len(A), 1) : \n",
    "            if prev < A[i] : break\n",
    "            prev = A[i]\n",
    "        else : \n",
    "            return True\n",
    "        \n",
    "        \n",
    "        return False"
   ]
  },
  {
   "cell_type": "markdown",
   "metadata": {},
   "source": [
    "Solution_3 :"
   ]
  },
  {
   "cell_type": "code",
   "execution_count": null,
   "metadata": {},
   "outputs": [],
   "source": [
    "class Solution(object):\n",
    "    def isMonotonic(self, A):\n",
    "        arr1 = zip(A, A[1:])\n",
    "        increasing = True\n",
    "        decreasing = True\n",
    "        for a,b in arr1:\n",
    "            if b < a:\n",
    "                increasing = False\n",
    "            if b > a:\n",
    "                decreasing = False\n",
    "        return increasing or decreasing"
   ]
  }
 ],
 "metadata": {
  "kernelspec": {
   "display_name": "Python 3",
   "language": "python",
   "name": "python3"
  },
  "language_info": {
   "codemirror_mode": {
    "name": "ipython",
    "version": 3
   },
   "file_extension": ".py",
   "mimetype": "text/x-python",
   "name": "python",
   "nbconvert_exporter": "python",
   "pygments_lexer": "ipython3",
   "version": "3.7.1"
  }
 },
 "nbformat": 4,
 "nbformat_minor": 2
}
