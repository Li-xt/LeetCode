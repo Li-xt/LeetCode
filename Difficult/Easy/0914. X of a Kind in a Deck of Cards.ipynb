{
 "cells": [
  {
   "cell_type": "markdown",
   "metadata": {},
   "source": [
    "Solution_1 : "
   ]
  },
  {
   "cell_type": "code",
   "execution_count": null,
   "metadata": {},
   "outputs": [],
   "source": [
    "class Solution(object):\n",
    "    def hasGroupsSizeX(self, deck):\n",
    "        \"\"\"\n",
    "        :type deck: List[int]\n",
    "        :rtype: bool\n",
    "        \"\"\"\n",
    "        count = collections.Counter(deck)\n",
    "        X = count.most_common()[-1][1]\n",
    "        for x in range(2, X + 1):\n",
    "            if all(v % x == 0 for v in count.values()):\n",
    "                return True\n",
    "        return False"
   ]
  }
 ],
 "metadata": {
  "kernelspec": {
   "display_name": "Python 3",
   "language": "python",
   "name": "python3"
  },
  "language_info": {
   "codemirror_mode": {
    "name": "ipython",
    "version": 3
   },
   "file_extension": ".py",
   "mimetype": "text/x-python",
   "name": "python",
   "nbconvert_exporter": "python",
   "pygments_lexer": "ipython3",
   "version": "3.7.1"
  }
 },
 "nbformat": 4,
 "nbformat_minor": 2
}
