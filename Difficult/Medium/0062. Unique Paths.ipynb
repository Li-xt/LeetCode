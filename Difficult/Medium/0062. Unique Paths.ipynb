{
 "cells": [
  {
   "cell_type": "markdown",
   "metadata": {},
   "source": [
    "Solution_1 :"
   ]
  },
  {
   "cell_type": "code",
   "execution_count": null,
   "metadata": {},
   "outputs": [],
   "source": [
    "# C(m + n - 2)(n -1)\n",
    "class Solution(object):\n",
    "    def uniquePaths(self, m, n):\n",
    "        \"\"\"\n",
    "        :type m: int\n",
    "        :type n: int\n",
    "        :rtype: int\n",
    "        \"\"\"\n",
    "        total = m + n - 2\n",
    "        v = n - 1\n",
    "        def permutation(m, n):\n",
    "            son = 1\n",
    "            for i in range(m, m - n, -1):\n",
    "                son *= i\n",
    "            mom = 1\n",
    "            for i in range(n, 0, -1):\n",
    "                mom *= i\n",
    "            return son / mom\n",
    "        return int( permutation(total, min(v, total -v)) )\n"
   ]
  },
  {
   "cell_type": "markdown",
   "metadata": {},
   "source": [
    "Solution_2 :"
   ]
  },
  {
   "cell_type": "code",
   "execution_count": null,
   "metadata": {},
   "outputs": [],
   "source": [
    "class Solution(object):\n",
    "    def uniquePaths(self, m, n):\n",
    "        \"\"\"\n",
    "        :type m: int\n",
    "        :type n: int\n",
    "        :rtype: int\n",
    "        \"\"\"\n",
    "        memo = [[0] * n for _ in range(m)]\n",
    "        return self.dfs(m - 1, n - 1, memo)\n",
    "        \n",
    "    def dfs(self, m, n, memo):\n",
    "        if m == 0 or n == 0:\n",
    "            return 1\n",
    "        if memo[m][n]:\n",
    "            return memo[m][n]\n",
    "        up = self.dfs(m - 1, n, memo)\n",
    "        left = self.dfs(m, n - 1, memo)\n",
    "        memo[m][n] = up + left\n",
    "        return memo[m][n]\n"
   ]
  },
  {
   "cell_type": "markdown",
   "metadata": {},
   "source": [
    "Solution_3 :"
   ]
  },
  {
   "cell_type": "code",
   "execution_count": null,
   "metadata": {},
   "outputs": [],
   "source": [
    "class Solution(object):\n",
    "    def uniquePaths(self, m, n):\n",
    "        \"\"\"\n",
    "        :type m: int\n",
    "        :type n: int\n",
    "        :rtype: int\n",
    "        \"\"\"\n",
    "        dp = [[1] * n for _ in range(m)]\n",
    "        for i in range(m):\n",
    "            for j in range(n):\n",
    "                if i == 0 or j == 0:\n",
    "                    continue\n",
    "                dp[i][j] = dp[i][j - 1] + dp[i - 1][j]\n",
    "        return dp[m - 1][n - 1]\n"
   ]
  }
 ],
 "metadata": {
  "kernelspec": {
   "display_name": "Python 3",
   "language": "python",
   "name": "python3"
  },
  "language_info": {
   "codemirror_mode": {
    "name": "ipython",
    "version": 3
   },
   "file_extension": ".py",
   "mimetype": "text/x-python",
   "name": "python",
   "nbconvert_exporter": "python",
   "pygments_lexer": "ipython3",
   "version": "3.7.1"
  }
 },
 "nbformat": 4,
 "nbformat_minor": 2
}
