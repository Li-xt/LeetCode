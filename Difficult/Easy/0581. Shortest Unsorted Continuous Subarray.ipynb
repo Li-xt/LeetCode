{
 "cells": [
  {
   "cell_type": "markdown",
   "metadata": {},
   "source": [
    "Solution_1 : "
   ]
  },
  {
   "cell_type": "code",
   "execution_count": 2,
   "metadata": {},
   "outputs": [],
   "source": [
    "class Solution:\n",
    "    def findUnsortedSubarray(self, nums):\n",
    "        if nums == [] :\n",
    "            return 0\n",
    "        num_sort = sorted(nums)\n",
    "        if nums == num_sort :\n",
    "            return 0\n",
    "        result = [] \n",
    "        index = 0 \n",
    "        for i,j in zip(nums,num_sort):\n",
    "            if i-j != 0 :\n",
    "                result.append(index)\n",
    "            index+=1\n",
    "        return max(result) - min(result) + 1 "
   ]
  },
  {
   "cell_type": "markdown",
   "metadata": {},
   "source": [
    "Solution_2 : "
   ]
  },
  {
   "cell_type": "code",
   "execution_count": null,
   "metadata": {},
   "outputs": [],
   "source": [
    "class Solution(object):\n",
    "    def findUnsortedSubarray(self, nums):\n",
    "        \"\"\"\n",
    "        :type nums: List[int]\n",
    "        :rtype: int\n",
    "        \"\"\"\n",
    "        m = nums[0]\n",
    "        end = 0\n",
    "        for i in range(1, len(nums)):\n",
    "            if nums[i] >= m:\n",
    "                m = nums[i]\n",
    "            else:\n",
    "                end = i\n",
    "                \n",
    "        m = nums[-1]\n",
    "        start = len(nums)-1\n",
    "        for i in range(len(nums)-1, -1, -1):\n",
    "            if nums[i] <= m:\n",
    "                m = nums[i]\n",
    "            else:\n",
    "                start = i\n",
    "        \n",
    "        if start == end:\n",
    "            return 0\n",
    "                \n",
    "        return max(end-start+1, 0)"
   ]
  }
 ],
 "metadata": {
  "kernelspec": {
   "display_name": "Python 3",
   "language": "python",
   "name": "python3"
  },
  "language_info": {
   "codemirror_mode": {
    "name": "ipython",
    "version": 3
   },
   "file_extension": ".py",
   "mimetype": "text/x-python",
   "name": "python",
   "nbconvert_exporter": "python",
   "pygments_lexer": "ipython3",
   "version": "3.7.1"
  }
 },
 "nbformat": 4,
 "nbformat_minor": 2
}
