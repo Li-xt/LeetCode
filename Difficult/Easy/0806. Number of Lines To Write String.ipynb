{
 "cells": [
  {
   "cell_type": "markdown",
   "metadata": {},
   "source": [
    "Solution_1 :"
   ]
  },
  {
   "cell_type": "code",
   "execution_count": 1,
   "metadata": {},
   "outputs": [],
   "source": [
    "class Solution(object):\n",
    "    def numberOfLines(self, widths, S):\n",
    "        \"\"\"\n",
    "        :type widths: List[int]\n",
    "        :type S: str\n",
    "        :rtype: List[int]\n",
    "        \"\"\"\n",
    "        lines, row = 1, 0\n",
    "        lendict = {c : widths[i] for i, c in enumerate(\"abcdefghijklmnopqrstuvwxyz\")}\n",
    "        N = len(S)\n",
    "        for s in S:\n",
    "            if row + lendict[s] > 100:\n",
    "                row = lendict[s]\n",
    "                lines += 1\n",
    "            else:\n",
    "                row += lendict[s]\n",
    "        return lines, row\n"
   ]
  },
  {
   "cell_type": "markdown",
   "metadata": {},
   "source": [
    "Solution_2 :"
   ]
  },
  {
   "cell_type": "code",
   "execution_count": null,
   "metadata": {},
   "outputs": [],
   "source": [
    "class Solution:\n",
    "    def numberOfLines(self, widths: [int], S: str) -> [int]:\n",
    "        if not widths:\n",
    "            return None\n",
    "        \n",
    "        ch_len = collections.defaultdict(int)\n",
    "        cnt = 'a'\n",
    "        for i, width in enumerate(widths):\n",
    "            ch_len[cnt] = width\n",
    "            cnt = chr(ord(cnt) + 1)\n",
    "            \n",
    "        ONE_LINE = 100\n",
    "        \n",
    "        line = 1\n",
    "        left = ONE_LINE\n",
    "        filled = 0\n",
    "        for s in S:\n",
    "            if left < ch_len[s]:\n",
    "                left = ONE_LINE\n",
    "                line += 1\n",
    "                filled = 0\n",
    "\n",
    "            if left >= ch_len[s]:\n",
    "                left -= ch_len[s]\n",
    "                filled += ch_len[s]\n",
    "                \n",
    "        return [line, filled]"
   ]
  },
  {
   "cell_type": "markdown",
   "metadata": {},
   "source": [
    "Solution_3 :"
   ]
  },
  {
   "cell_type": "code",
   "execution_count": 4,
   "metadata": {},
   "outputs": [],
   "source": [
    "class Solution(object):\n",
    "    def numberOfLines(self, widths, S):\n",
    "        \"\"\"\n",
    "        :type widths: List[int]\n",
    "        :type S: str\n",
    "        :rtype: List[int]\n",
    "        \"\"\"\n",
    "        lineCount = 1\n",
    "        sum_units = 0\n",
    "        for s in S:\n",
    "            sum_units += widths[ord(s) - 97]\n",
    "            if sum_units > 100:\n",
    "                lineCount += 1\n",
    "                sum_units = widths[ord(s) - 97]\n",
    "        return [lineCount, sum_units]"
   ]
  }
 ],
 "metadata": {
  "kernelspec": {
   "display_name": "Python 3",
   "language": "python",
   "name": "python3"
  },
  "language_info": {
   "codemirror_mode": {
    "name": "ipython",
    "version": 3
   },
   "file_extension": ".py",
   "mimetype": "text/x-python",
   "name": "python",
   "nbconvert_exporter": "python",
   "pygments_lexer": "ipython3",
   "version": "3.7.1"
  }
 },
 "nbformat": 4,
 "nbformat_minor": 2
}
