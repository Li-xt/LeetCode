{
 "cells": [
  {
   "cell_type": "markdown",
   "metadata": {},
   "source": [
    "Solution_1 :"
   ]
  },
  {
   "cell_type": "code",
   "execution_count": null,
   "metadata": {},
   "outputs": [],
   "source": [
    "\"\"\"\n",
    "# Definition for a Node.\n",
    "class Node(object):\n",
    "    def __init__(self, val, neighbors):\n",
    "        self.val = val\n",
    "        self.neighbors = neighbors\n",
    "\"\"\"\n",
    "class Solution(object):\n",
    "    def cloneGraph(self, node):\n",
    "        \"\"\"\n",
    "        :type node: Node\n",
    "        :rtype: Node\n",
    "        \"\"\"\n",
    "        node_copy = self.dfs(node, dict())\n",
    "        return node_copy\n",
    "    \n",
    "    def dfs(self, node, hashd):\n",
    "        if not node: return None\n",
    "        if node in hashd: return hashd[node]\n",
    "        node_copy = Node(node.val, [])\n",
    "        hashd[node] = node_copy\n",
    "        for n in node.neighbors:\n",
    "            n_copy = self.dfs(n, hashd)\n",
    "            if n_copy:\n",
    "                node_copy.neighbors.append(n_copy)\n",
    "        return node_copy\n"
   ]
  },
  {
   "cell_type": "markdown",
   "metadata": {},
   "source": [
    "Solution_2 :"
   ]
  },
  {
   "cell_type": "code",
   "execution_count": null,
   "metadata": {},
   "outputs": [],
   "source": [
    "\"\"\"\n",
    "# Definition for a Node.\n",
    "class Node(object):\n",
    "    def __init__(self, val, neighbors):\n",
    "        self.val = val\n",
    "        self.neighbors = neighbors\n",
    "\"\"\"\n",
    "class Solution(object):\n",
    "    def cloneGraph(self, node):\n",
    "        \"\"\"\n",
    "        :type node: Node\n",
    "        :rtype: Node\n",
    "        \"\"\"\n",
    "        que = collections.deque()\n",
    "        hashd = dict()\n",
    "        que.append(node)\n",
    "        node_copy = Node(node.val, [])\n",
    "        hashd[node] = node_copy\n",
    "        while que:\n",
    "            t = que.popleft()\n",
    "            if not t: continue\n",
    "            for n in t.neighbors:\n",
    "                if n not in hashd:\n",
    "                    hashd[n] = Node(n.val, [])\n",
    "                    que.append(n)\n",
    "                hashd[t].neighbors.append(hashd[n])\n",
    "        return node_copy\n"
   ]
  }
 ],
 "metadata": {
  "kernelspec": {
   "display_name": "Python 3",
   "language": "python",
   "name": "python3"
  },
  "language_info": {
   "codemirror_mode": {
    "name": "ipython",
    "version": 3
   },
   "file_extension": ".py",
   "mimetype": "text/x-python",
   "name": "python",
   "nbconvert_exporter": "python",
   "pygments_lexer": "ipython3",
   "version": "3.7.1"
  }
 },
 "nbformat": 4,
 "nbformat_minor": 4
}
