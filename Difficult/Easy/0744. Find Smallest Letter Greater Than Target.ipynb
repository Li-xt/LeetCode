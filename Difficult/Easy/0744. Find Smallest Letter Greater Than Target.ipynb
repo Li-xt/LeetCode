{
 "cells": [
  {
   "cell_type": "markdown",
   "metadata": {},
   "source": [
    "Solution_1 : "
   ]
  },
  {
   "cell_type": "code",
   "execution_count": 1,
   "metadata": {},
   "outputs": [],
   "source": [
    "class Solution:\n",
    "    def nextGreatestLetter(self, letters: 'List[str]', target: 'str') -> 'str':\n",
    "        if not letters:\n",
    "            return \"a\"\n",
    "        l = 0\n",
    "        r = len(letters)-1\n",
    "        while (l<r-1):\n",
    "            mid = (l+r)//2\n",
    "            if (letters[mid]<= target):\n",
    "                l = mid+1\n",
    "            else:\n",
    "                r = mid\n",
    "        if letters[l] > target:\n",
    "            return letters[l]\n",
    "        elif letters[r] > target:\n",
    "            return letters[r]\n",
    "        else:\n",
    "            return letters[0]"
   ]
  },
  {
   "cell_type": "markdown",
   "metadata": {},
   "source": [
    "Solution_2 :"
   ]
  },
  {
   "cell_type": "code",
   "execution_count": null,
   "metadata": {},
   "outputs": [],
   "source": [
    "class Solution(object):\n",
    "    def nextGreatestLetter(self, letters, target):\n",
    "        \"\"\"\n",
    "        :type letters: List[str]\n",
    "        :type target: str\n",
    "        :rtype: str\n",
    "        \"\"\"\n",
    "        for ch in letters:\n",
    "            if ch > target:\n",
    "                return ch\n",
    "        return letters[0]"
   ]
  },
  {
   "cell_type": "markdown",
   "metadata": {},
   "source": [
    "Solution_3 :"
   ]
  },
  {
   "cell_type": "code",
   "execution_count": null,
   "metadata": {},
   "outputs": [],
   "source": [
    "class Solution(object):\n",
    "    def nextGreatestLetter(self, letters, target):\n",
    "        \"\"\"\n",
    "        :type letters: List[str]\n",
    "        :type target: str\n",
    "        :rtype: str\n",
    "        \"\"\"\n",
    "        i = bisect.bisect_right(letters,target)\n",
    "        if i == len(letters): return letters[0]\n",
    "        return letters[i]"
   ]
  },
  {
   "cell_type": "markdown",
   "metadata": {},
   "source": [
    "Solution_4 :"
   ]
  },
  {
   "cell_type": "code",
   "execution_count": null,
   "metadata": {},
   "outputs": [],
   "source": [
    "class Solution(object):\n",
    "    def nextGreatestLetter(self, letters, target):\n",
    "        \"\"\"\n",
    "        :type letters: List[str]\n",
    "        :type target: str\n",
    "        :rtype: str\n",
    "        \"\"\"\n",
    "        index = bisect.bisect_right(letters, target)\n",
    "        return letters[index % len(letters)]"
   ]
  }
 ],
 "metadata": {
  "kernelspec": {
   "display_name": "Python 3",
   "language": "python",
   "name": "python3"
  },
  "language_info": {
   "codemirror_mode": {
    "name": "ipython",
    "version": 3
   },
   "file_extension": ".py",
   "mimetype": "text/x-python",
   "name": "python",
   "nbconvert_exporter": "python",
   "pygments_lexer": "ipython3",
   "version": "3.7.1"
  }
 },
 "nbformat": 4,
 "nbformat_minor": 2
}
