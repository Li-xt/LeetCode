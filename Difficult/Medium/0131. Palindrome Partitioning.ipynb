{
 "cells": [
  {
   "cell_type": "markdown",
   "metadata": {},
   "source": [
    "Solution_1 :"
   ]
  },
  {
   "cell_type": "code",
   "execution_count": null,
   "metadata": {},
   "outputs": [],
   "source": [
    "class Solution(object):\n",
    "    def partition(self, s):\n",
    "        \"\"\"\n",
    "        :type s: str\n",
    "        :rtype: List[List[str]]\n",
    "        \"\"\"\n",
    "        self.isPalindrome = lambda s : s == s[::-1]\n",
    "        res = []\n",
    "        self.helper(s, res, [])\n",
    "        return res\n",
    "        \n",
    "    def helper(self, s, res, path):\n",
    "        if not s:\n",
    "            res.append(path)\n",
    "            return\n",
    "        for i in range(1, len(s) + 1): \n",
    "            if self.isPalindrome(s[:i]):\n",
    "                self.helper(s[i:], res, path + [s[:i]])"
   ]
  }
 ],
 "metadata": {
  "kernelspec": {
   "display_name": "Python 3",
   "language": "python",
   "name": "python3"
  },
  "language_info": {
   "codemirror_mode": {
    "name": "ipython",
    "version": 3
   },
   "file_extension": ".py",
   "mimetype": "text/x-python",
   "name": "python",
   "nbconvert_exporter": "python",
   "pygments_lexer": "ipython3",
   "version": "3.7.1"
  }
 },
 "nbformat": 4,
 "nbformat_minor": 4
}
