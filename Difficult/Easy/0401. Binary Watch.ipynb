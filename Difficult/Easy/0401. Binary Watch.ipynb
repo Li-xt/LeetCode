{
 "cells": [
  {
   "cell_type": "markdown",
   "metadata": {},
   "source": [
    "Solution_1 : "
   ]
  },
  {
   "cell_type": "code",
   "execution_count": null,
   "metadata": {},
   "outputs": [],
   "source": [
    "class Solution(object):\n",
    "    def readBinaryWatch(self, num):\n",
    "        \"\"\"\n",
    "        :type num: int\n",
    "        :rtype: List[str]\n",
    "        \"\"\"\n",
    "        # hh_summary, mm_summary = self.get_summary()\n",
    "        hh_summary = {\n",
    "            0: [0],\n",
    "            1: [1, 2, 4, 8],\n",
    "            2: [3, 5, 6, 9, 10],\n",
    "            3: [7, 11],\n",
    "        }\n",
    "        mm_summary = {\n",
    "            0: [0],\n",
    "            1: [1, 2, 4, 8, 16, 32],\n",
    "            2: [3, 5, 6, 9, 10, 12, 17, 18, 20, 24, 33, 34, 36, 40, 48],\n",
    "            3: [7, 11, 13, 14, 19, 21, 22, 25, 26, 28, 35, 37, 38, 41, 42, 44,\n",
    "                49, 50, 52, 56],\n",
    "            4: [15, 23, 27, 29, 30, 39, 43, 45, 46, 51, 53, 54, 57, 58],\n",
    "            5: [31, 47, 55, 59],\n",
    "        }\n",
    "\n",
    "        valid_time = []\n",
    "        for hh in range(num + 1):\n",
    "            mm = num - hh\n",
    "            valid_hh = hh_summary.get(hh, [])\n",
    "            valid_mm = mm_summary.get(mm, [])\n",
    "            for h in valid_hh:\n",
    "                for m in valid_mm:\n",
    "                    valid_time.append('{0}:{1:02d}'.format(h, m))\n",
    "        return valid_time\n"
   ]
  },
  {
   "cell_type": "markdown",
   "metadata": {},
   "source": [
    "Solution_2 : "
   ]
  },
  {
   "cell_type": "code",
   "execution_count": 2,
   "metadata": {},
   "outputs": [],
   "source": [
    "class Solution(object):\n",
    "    def readBinaryWatch(self, num):\n",
    "        \"\"\"\n",
    "        :type num: int\n",
    "        :rtype: List[str]\n",
    "        \"\"\"\n",
    "        from itertools import combinations\n",
    "        \n",
    "        def get_int_from_LED(n,k):\n",
    "            value = [2**i for i in range(k)]\n",
    "            comb = combinations(value,n)\n",
    "            ans = []\n",
    "            for item in comb:\n",
    "                ans += [sum(item)]\n",
    "            return ans\n",
    "        \n",
    "        ans = []\n",
    "        for i in range(min(5,num+1)):\n",
    "            j = num - i\n",
    "            value4 = get_int_from_LED(i,4)\n",
    "            value6 = get_int_from_LED(j,6)\n",
    "            for v4 in value4:\n",
    "                for v6 in value6:\n",
    "                    if v4 < 12 and v6 < 60:\n",
    "                        temp = str(v6) if v6 > 9 else \"0\" + str(v6)\n",
    "                        ans.append(str(v4) + \":\" + temp)\n",
    "        return ans"
   ]
  },
  {
   "cell_type": "code",
   "execution_count": null,
   "metadata": {},
   "outputs": [],
   "source": []
  }
 ],
 "metadata": {
  "kernelspec": {
   "display_name": "Python 3",
   "language": "python",
   "name": "python3"
  },
  "language_info": {
   "codemirror_mode": {
    "name": "ipython",
    "version": 3
   },
   "file_extension": ".py",
   "mimetype": "text/x-python",
   "name": "python",
   "nbconvert_exporter": "python",
   "pygments_lexer": "ipython3",
   "version": "3.7.1"
  }
 },
 "nbformat": 4,
 "nbformat_minor": 2
}
