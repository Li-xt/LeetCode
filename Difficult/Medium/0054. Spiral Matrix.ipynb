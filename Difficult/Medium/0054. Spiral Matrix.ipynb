{
 "cells": [
  {
   "cell_type": "markdown",
   "metadata": {},
   "source": [
    "Solution_1 :"
   ]
  },
  {
   "cell_type": "code",
   "execution_count": null,
   "metadata": {},
   "outputs": [],
   "source": [
    "from math import ceil\n",
    "class Solution:\n",
    "    def spiralOrder(self, matrix):\n",
    "        \"\"\"\n",
    "        :type matrix: List[List[int]]\n",
    "        :rtype: List[int]\n",
    "        \"\"\"\n",
    "        if not matrix:\n",
    "            return []\n",
    "        res = []\n",
    "        m, n = len(matrix), len(matrix[0])\n",
    "        for i in range(min(ceil(m/2),ceil(n/2))):\n",
    "            #right\n",
    "            for j in range(i,n-i):\n",
    "                res.append(matrix[i][j])\n",
    "            #down\n",
    "            for j in range(i+1,m-i):\n",
    "                res.append(matrix[j][n-i-1])\n",
    "            #left\n",
    "            if m-i-1 != i:\n",
    "                for j in range(n-i-2,i-1,-1):\n",
    "                    res.append(matrix[m-i-1][j])\n",
    "            #up\n",
    "            if n-i-1 != i:\n",
    "                for j in range(m-i-2,i,-1):\n",
    "                    res.append(matrix[j][i])\n",
    "        return res"
   ]
  },
  {
   "cell_type": "markdown",
   "metadata": {},
   "source": [
    "Solution_2 :"
   ]
  },
  {
   "cell_type": "code",
   "execution_count": null,
   "metadata": {},
   "outputs": [],
   "source": [
    "class Solution(object):\n",
    "    def spiralOrder(self, matrix):\n",
    "        if len(matrix) == 0:\n",
    "            return []\n",
    "        row_start = 0\n",
    "        row_end = len(matrix)\n",
    "        col_start = 0\n",
    "        col_end = len(matrix[0])\n",
    "\n",
    "        result = []\n",
    "\n",
    "        while row_start < row_end and col_start < col_end:\n",
    "            for i in range(col_start,col_end): #top to right\n",
    "                result.append(matrix[row_start][i])\n",
    "            row_start += 1\n",
    "            for i in range(row_start, row_end): #right to bottom\n",
    "                result.append(matrix[i][col_end-1])\n",
    "            col_end -= 1\n",
    "\n",
    "            if row_start < row_end: #bottom to left\n",
    "                for i in range(col_end-1,col_start-1,-1):\n",
    "                    result.append(matrix[row_end-1][i])\n",
    "                row_end -= 1\n",
    "\n",
    "            if col_start < col_end: #bottom to top\n",
    "                for i in range(row_end-1,row_start-1,-1):\n",
    "                    result.append(matrix[i][col_start])\n",
    "                col_start += 1\n",
    "        return result"
   ]
  }
 ],
 "metadata": {
  "kernelspec": {
   "display_name": "Python 3",
   "language": "python",
   "name": "python3"
  },
  "language_info": {
   "codemirror_mode": {
    "name": "ipython",
    "version": 3
   },
   "file_extension": ".py",
   "mimetype": "text/x-python",
   "name": "python",
   "nbconvert_exporter": "python",
   "pygments_lexer": "ipython3",
   "version": "3.7.1"
  }
 },
 "nbformat": 4,
 "nbformat_minor": 2
}
