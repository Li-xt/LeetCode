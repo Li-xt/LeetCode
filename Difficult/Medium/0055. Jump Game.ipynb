{
 "cells": [
  {
   "cell_type": "markdown",
   "metadata": {},
   "source": [
    "Solution_1 :"
   ]
  },
  {
   "cell_type": "code",
   "execution_count": null,
   "metadata": {},
   "outputs": [],
   "source": [
    "class Solution(object):\n",
    "    def canJump(self, nums):\n",
    "        \"\"\"\n",
    "        :type nums: List[int]\n",
    "        :rtype: bool\n",
    "        \"\"\"\n",
    "        reach = 0\n",
    "        for i, num in enumerate(nums):\n",
    "            if i > reach:\n",
    "                return False\n",
    "            reach = max(reach, i + num)\n",
    "        return True\n"
   ]
  },
  {
   "cell_type": "markdown",
   "metadata": {},
   "source": [
    "Solution_2 :"
   ]
  },
  {
   "cell_type": "code",
   "execution_count": null,
   "metadata": {},
   "outputs": [],
   "source": [
    "class Solution:\n",
    "    def canJump(self, nums) :\n",
    "        if len(nums)==1 or (0 not in nums): return True\n",
    "        bad_index = [i for i,v in enumerate(nums[:-1]) if v == 0]\n",
    "        idx = len(nums)\n",
    "        for b_id in bad_index[::-1]:\n",
    "            if b_id > idx:\n",
    "                continue\n",
    "            ps = False\n",
    "            for idx in range(b_id-1, -1, -1):\n",
    "                if idx+nums[idx] > b_id:\n",
    "                    ps = True\n",
    "                    break\n",
    "            if not ps:\n",
    "                return False\n",
    "        return True"
   ]
  }
 ],
 "metadata": {
  "kernelspec": {
   "display_name": "Python 3",
   "language": "python",
   "name": "python3"
  },
  "language_info": {
   "codemirror_mode": {
    "name": "ipython",
    "version": 3
   },
   "file_extension": ".py",
   "mimetype": "text/x-python",
   "name": "python",
   "nbconvert_exporter": "python",
   "pygments_lexer": "ipython3",
   "version": "3.7.1"
  }
 },
 "nbformat": 4,
 "nbformat_minor": 2
}
