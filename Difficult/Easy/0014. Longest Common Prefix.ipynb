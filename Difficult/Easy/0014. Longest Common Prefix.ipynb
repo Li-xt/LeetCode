{
 "cells": [
  {
   "cell_type": "markdown",
   "metadata": {},
   "source": [
    "Solution "
   ]
  },
  {
   "cell_type": "code",
   "execution_count": 95,
   "metadata": {},
   "outputs": [],
   "source": [
    "class Solution:\n",
    "    def longestCommonPrefix(self, strs: List[str]) -> str:\n",
    "        if strs == [] :\n",
    "            return ''\n",
    "        if len(strs) == 1:\n",
    "            return strs[0]\n",
    "\n",
    "        min_len_str = strs[0]\n",
    "\n",
    "\n",
    "        for ele in strs:\n",
    "            min_len = min(len(ele),len(min_len_str) )\n",
    "            min_len_str = min_len_str[:min_len]\n",
    "\n",
    "            for i in range(min_len-1,-1,-1):\n",
    "                if min_len_str[i] != ele[i]:\n",
    "                    min_len_str= min_len_str[:i] \n",
    "\n",
    "\n",
    "        return min_len_str"
   ]
  },
  {
   "cell_type": "code",
   "execution_count": null,
   "metadata": {},
   "outputs": [],
   "source": []
  }
 ],
 "metadata": {
  "kernelspec": {
   "display_name": "Python 3",
   "language": "python",
   "name": "python3"
  },
  "language_info": {
   "codemirror_mode": {
    "name": "ipython",
    "version": 3
   },
   "file_extension": ".py",
   "mimetype": "text/x-python",
   "name": "python",
   "nbconvert_exporter": "python",
   "pygments_lexer": "ipython3",
   "version": "3.7.1"
  }
 },
 "nbformat": 4,
 "nbformat_minor": 2
}
