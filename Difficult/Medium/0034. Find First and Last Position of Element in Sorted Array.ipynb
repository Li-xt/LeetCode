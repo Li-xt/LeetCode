{
 "cells": [
  {
   "cell_type": "markdown",
   "metadata": {},
   "source": [
    "Solution_1 :"
   ]
  },
  {
   "cell_type": "code",
   "execution_count": null,
   "metadata": {},
   "outputs": [],
   "source": [
    "class Solution(object):\n",
    "    def searchRange(self, nums, target):\n",
    "        if nums == []: return -1, -1 \n",
    "        n = len(nums)\n",
    "        left, right = -1, -1\n",
    "        l, r = 0, n-1\n",
    "        while l < r:\n",
    "            m = (l+r)//2\n",
    "            if nums[m] < target: l = m+1\n",
    "            else: r = m\n",
    "        if nums[l] != target: return -1, -1\n",
    "        left = l\n",
    "        l, r = left, n-1\n",
    "        while l < r:\n",
    "            m = (l+r)//2+1\n",
    "            if nums[m] == target: l = m\n",
    "            else: r = m-1\n",
    "        right = l\n",
    "        return left, right"
   ]
  },
  {
   "cell_type": "markdown",
   "metadata": {},
   "source": [
    "Solution_2 :"
   ]
  },
  {
   "cell_type": "code",
   "execution_count": null,
   "metadata": {},
   "outputs": [],
   "source": [
    "class Solution(object):\n",
    "    def searchRange(self, a, q):\n",
    "        def midpoint(x, y):\n",
    "            return x+(y-x)//2\n",
    "        lo, hi = 0, len(a)-1\n",
    "        _max = -1\n",
    "        _min = float('inf')\n",
    "        while lo <= hi:\n",
    "            mid = midpoint(lo, hi)\n",
    "            if a[mid] == q:\n",
    "                _max = max(_max, mid)\n",
    "                _min = min(_min, mid)\n",
    "            if a[mid] <= q:\n",
    "                lo = mid+1\n",
    "            else:\n",
    "                hi = mid-1\n",
    "        if _max == -1:\n",
    "            return [-1, _max]\n",
    "        lo, hi = 0, _min\n",
    "        while lo <= hi:\n",
    "            mid = midpoint(lo, hi)\n",
    "            if a[mid] == q:\n",
    "                _min = min(_min, mid)\n",
    "            if a[mid] >= q:\n",
    "                hi = mid-1\n",
    "            else:\n",
    "                lo = mid+1\n",
    "        return [_min, _max]"
   ]
  }
 ],
 "metadata": {
  "kernelspec": {
   "display_name": "Python 3",
   "language": "python",
   "name": "python3"
  },
  "language_info": {
   "codemirror_mode": {
    "name": "ipython",
    "version": 3
   },
   "file_extension": ".py",
   "mimetype": "text/x-python",
   "name": "python",
   "nbconvert_exporter": "python",
   "pygments_lexer": "ipython3",
   "version": "3.7.1"
  }
 },
 "nbformat": 4,
 "nbformat_minor": 2
}
