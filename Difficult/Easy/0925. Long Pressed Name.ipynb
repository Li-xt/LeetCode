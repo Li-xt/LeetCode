{
 "cells": [
  {
   "cell_type": "markdown",
   "metadata": {},
   "source": [
    "Solution_1 :"
   ]
  },
  {
   "cell_type": "code",
   "execution_count": null,
   "metadata": {},
   "outputs": [],
   "source": [
    "class Solution(object):\n",
    "    def isLongPressedName(self, name, typed):\n",
    "        \"\"\"\n",
    "        :type name: str\n",
    "        :type typed: str\n",
    "        :rtype: bool\n",
    "        \"\"\"\n",
    "        M = len(name)\n",
    "        N = len(typed)\n",
    "        i, j = 0, 0\n",
    "        while i < M:\n",
    "            c_i = name[i]\n",
    "            count_i = 0\n",
    "            count_j = 0\n",
    "            while i < M and name[i] == c_i:\n",
    "                i += 1\n",
    "                count_i += 1\n",
    "            while j < N and typed[j] == c_i:\n",
    "                j += 1\n",
    "                count_j += 1\n",
    "            if count_j < count_i:\n",
    "                return False\n",
    "        return True\n"
   ]
  },
  {
   "cell_type": "markdown",
   "metadata": {},
   "source": [
    "Solution_2 :"
   ]
  },
  {
   "cell_type": "code",
   "execution_count": 1,
   "metadata": {},
   "outputs": [],
   "source": [
    "class Solution:\n",
    "    def isLongPressedName(self, name, typed):\n",
    "        i, j = 0, 0\n",
    "        while i < len(name) and j < len(typed):\n",
    "            if name[i] == typed[j]:\n",
    "                i += 1\n",
    "                j += 1\n",
    "            else:\n",
    "                while j < len(typed) and name[i] != typed[j]:\n",
    "                    j += 1\n",
    "        return i == len(name)"
   ]
  }
 ],
 "metadata": {
  "kernelspec": {
   "display_name": "Python 3",
   "language": "python",
   "name": "python3"
  },
  "language_info": {
   "codemirror_mode": {
    "name": "ipython",
    "version": 3
   },
   "file_extension": ".py",
   "mimetype": "text/x-python",
   "name": "python",
   "nbconvert_exporter": "python",
   "pygments_lexer": "ipython3",
   "version": "3.7.1"
  }
 },
 "nbformat": 4,
 "nbformat_minor": 2
}
