{
 "cells": [
  {
   "cell_type": "markdown",
   "metadata": {},
   "source": [
    "Solution_1 :"
   ]
  },
  {
   "cell_type": "code",
   "execution_count": null,
   "metadata": {},
   "outputs": [],
   "source": [
    "class Solution:\n",
    "    def compress(self, chars):\n",
    "        \"\"\"\n",
    "        :type chars: List[str]\n",
    "        :rtype: int\n",
    "        \"\"\"\n",
    "        chars_str = ''.join(chars)\n",
    "        res = 0\n",
    "        i = 0\n",
    "        for group, digit in re.findall(r'((.)\\2*)', chars_str):\n",
    "            if len(group) == 1:\n",
    "                res += 1\n",
    "                chars[i] = digit\n",
    "                i += 1\n",
    "            else:\n",
    "                res += 1\n",
    "                res += len(str(len(group)))\n",
    "                chars[i] = digit\n",
    "                i += 1\n",
    "                for j in range(len(str(len(group)))):\n",
    "                    chars[i] = str(len(group))[j]\n",
    "                    i += 1\n",
    "        return res"
   ]
  },
  {
   "cell_type": "markdown",
   "metadata": {},
   "source": [
    "Solution_2 : "
   ]
  },
  {
   "cell_type": "code",
   "execution_count": null,
   "metadata": {},
   "outputs": [],
   "source": [
    "class Solution:\n",
    "    def compress(self, chars):\n",
    "        \"\"\"\n",
    "        :type chars: List[str]\n",
    "        :rtype: int\n",
    "        \"\"\"\n",
    "        read_index = 0\n",
    "        write_index = 0\n",
    "        l = len(chars)\n",
    "        while(read_index < l):\n",
    "            ch = chars[read_index] \n",
    "            count = 0\n",
    "            while(read_index < l and chars[read_index] == ch): #First check if read_index is in range to avoid index error\n",
    "                read_index += 1                                #Short circuiting concept\n",
    "                count += 1\n",
    "            chars[write_index] = ch\n",
    "            write_index += 1\n",
    "            if count > 1: \n",
    "                for c in str(count): #To write characters greater than 9\n",
    "                    chars[write_index] = c\n",
    "                    write_index += 1\n",
    "        return write_index"
   ]
  },
  {
   "cell_type": "markdown",
   "metadata": {},
   "source": [
    "Solution_3 : "
   ]
  },
  {
   "cell_type": "code",
   "execution_count": null,
   "metadata": {},
   "outputs": [],
   "source": [
    "class Solution:\n",
    "    def compress(self, chars):\n",
    "        \"\"\"\n",
    "        :type chars: List[str]\n",
    "        :rtype: int\n",
    "        \"\"\"\n",
    "        length = len(chars)\n",
    "        \n",
    "        if length < 2:\n",
    "            return 1\n",
    "        \n",
    "        p2 = 1\n",
    "        p1 = 0\n",
    "        \n",
    "        count = 1\n",
    "    \n",
    "        while p2 < length:\n",
    "            mc = 1\n",
    "            \n",
    "            while p2 < length and chars[p1] == chars[p2]:\n",
    "                p2 += 1\n",
    "                mc += 1\n",
    "            \n",
    "            if mc > 1:\n",
    "                string = str(mc)\n",
    "                \n",
    "                for i in string:\n",
    "                    count += 1\n",
    "                    p1 += 1\n",
    "                    chars[p1] = i\n",
    "                    \n",
    "            p1 += 1\n",
    "            if p2 < length:\n",
    "                chars[p1] = chars[p2]\n",
    "                count += 1\n",
    "            p2 += 1\n",
    "        \n",
    "        return count"
   ]
  }
 ],
 "metadata": {
  "kernelspec": {
   "display_name": "Python 3",
   "language": "python",
   "name": "python3"
  },
  "language_info": {
   "codemirror_mode": {
    "name": "ipython",
    "version": 3
   },
   "file_extension": ".py",
   "mimetype": "text/x-python",
   "name": "python",
   "nbconvert_exporter": "python",
   "pygments_lexer": "ipython3",
   "version": "3.7.1"
  }
 },
 "nbformat": 4,
 "nbformat_minor": 2
}
