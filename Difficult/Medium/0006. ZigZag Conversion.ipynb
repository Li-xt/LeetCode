{
 "cells": [
  {
   "cell_type": "markdown",
   "metadata": {},
   "source": [
    "Solution_1 :"
   ]
  },
  {
   "cell_type": "code",
   "execution_count": 1,
   "metadata": {},
   "outputs": [],
   "source": [
    "class Solution(object):\n",
    "    def convert(self, s, numRows):\n",
    "        \"\"\"\n",
    "        :type s: str\n",
    "        :type numRows: int\n",
    "        :rtype: str\n",
    "        \"\"\"\n",
    "        if numRows <= 1 or numRows >= len(s):\n",
    "            return s\n",
    "        arr = [''] * numRows\n",
    "        line, step = 0, -1\n",
    "        for c in s:\n",
    "            arr[line] += c\n",
    "            if line % (numRows-1) == 0:\n",
    "                step = - step\n",
    "            line += step\n",
    "        return ''.join(arr)"
   ]
  },
  {
   "cell_type": "markdown",
   "metadata": {},
   "source": [
    "Solution_2 :"
   ]
  },
  {
   "cell_type": "code",
   "execution_count": null,
   "metadata": {},
   "outputs": [],
   "source": [
    "class Solution(object):\n",
    "    def convert(self, s, numRows):\n",
    "        \"\"\"\n",
    "        :type s: str\n",
    "        :type numRows: int\n",
    "        :rtype: str\n",
    "        \"\"\"\n",
    "        if numRows <= 1 or numRows >= len(s):\n",
    "            return s\n",
    "        arr = [''] * numRows\n",
    "        for i in range(len(s)):\n",
    "            tmp = i % (numRows + numRows - 2)\n",
    "            if tmp < numRows:\n",
    "                arr[tmp] += s[i]\n",
    "            else:\n",
    "                arr[numRows + numRows - 2 - tmp] += s[i]\n",
    "        return ''.join(arr)"
   ]
  }
 ],
 "metadata": {
  "kernelspec": {
   "display_name": "Python 3",
   "language": "python",
   "name": "python3"
  },
  "language_info": {
   "codemirror_mode": {
    "name": "ipython",
    "version": 3
   },
   "file_extension": ".py",
   "mimetype": "text/x-python",
   "name": "python",
   "nbconvert_exporter": "python",
   "pygments_lexer": "ipython3",
   "version": "3.7.1"
  }
 },
 "nbformat": 4,
 "nbformat_minor": 2
}
