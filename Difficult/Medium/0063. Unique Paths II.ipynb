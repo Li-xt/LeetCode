{
 "cells": [
  {
   "cell_type": "markdown",
   "metadata": {},
   "source": [
    "Solution_1 :"
   ]
  },
  {
   "cell_type": "code",
   "execution_count": 3,
   "metadata": {},
   "outputs": [],
   "source": [
    "class Solution(object):\n",
    "    def uniquePathsWithObstacles(self, obstacleGrid):\n",
    "        \"\"\"\n",
    "        :type obstacleGrid: List[List[int]]\n",
    "        :rtype: int\n",
    "        \"\"\"\n",
    "        m, n = len(obstacleGrid), len(obstacleGrid[0])\n",
    "        memo = [[0] * n for _ in range(m)]\n",
    "        return self.dfs(m - 1, n - 1, obstacleGrid, memo)\n",
    "    \n",
    "    def dfs(self, m, n, obstacleGrid, memo): # methods of postion m, n\n",
    "        if obstacleGrid[m][n] == 1:\n",
    "            return 0\n",
    "        if m < 0 or n < 0:\n",
    "            return 0\n",
    "        if m == n == 0:\n",
    "            return 1\n",
    "        if memo[m][n]:\n",
    "            return memo[m][n]\n",
    "        up = self.dfs(m - 1, n, obstacleGrid, memo)\n",
    "        left = self.dfs(m, n - 1, obstacleGrid, memo)\n",
    "        memo[m][n] = up + left\n",
    "        return memo[m][n]"
   ]
  },
  {
   "cell_type": "markdown",
   "metadata": {},
   "source": [
    "Solution_2 :"
   ]
  },
  {
   "cell_type": "code",
   "execution_count": 2,
   "metadata": {},
   "outputs": [],
   "source": [
    "class Solution(object):\n",
    "    def uniquePathsWithObstacles(self, obstacleGrid):\n",
    "        \"\"\"\n",
    "        :type obstacleGrid: List[List[int]]\n",
    "        :rtype: int\n",
    "        \"\"\"\n",
    "        m, n = len(obstacleGrid), len(obstacleGrid[0])\n",
    "        dp = [[0] * n for _ in range(m)]\n",
    "        if obstacleGrid[0][0] == 0:\n",
    "            dp[0][0] = 1\n",
    "        for i in range(m):\n",
    "            for j in range(n):\n",
    "                if obstacleGrid[i][j] == 0:\n",
    "                    if i == j == 0:\n",
    "                        continue\n",
    "                    else:\n",
    "                        dp[i][j] = dp[i - 1][j] + dp[i][j - 1]\n",
    "        return dp[m - 1][n - 1]\n"
   ]
  }
 ],
 "metadata": {
  "kernelspec": {
   "display_name": "Python 3",
   "language": "python",
   "name": "python3"
  },
  "language_info": {
   "codemirror_mode": {
    "name": "ipython",
    "version": 3
   },
   "file_extension": ".py",
   "mimetype": "text/x-python",
   "name": "python",
   "nbconvert_exporter": "python",
   "pygments_lexer": "ipython3",
   "version": "3.7.1"
  }
 },
 "nbformat": 4,
 "nbformat_minor": 2
}
