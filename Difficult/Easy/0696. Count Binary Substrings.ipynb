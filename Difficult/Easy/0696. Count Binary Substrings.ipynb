{
 "cells": [
  {
   "cell_type": "markdown",
   "metadata": {},
   "source": [
    "Solution_1 : "
   ]
  },
  {
   "cell_type": "code",
   "execution_count": null,
   "metadata": {},
   "outputs": [],
   "source": [
    "class Solution:\n",
    "    def countBinarySubstrings(self, s: str) -> int:\n",
    "        s = list(map(len, s.replace('01','0 1').replace('10','1 0').split(' ') ) )\n",
    "        return sum(min(i,j) for i,j in zip(s,s[1:]))\n"
   ]
  },
  {
   "cell_type": "markdown",
   "metadata": {},
   "source": [
    "Solution_2 :"
   ]
  },
  {
   "cell_type": "code",
   "execution_count": null,
   "metadata": {},
   "outputs": [],
   "source": [
    "class Solution:\n",
    "    def countBinarySubstrings(self, s):\n",
    "        if len(s) == 1: return 0\n",
    "        \n",
    "        count = -1\n",
    "        rec1 = 0\n",
    "        rec2 = 0\n",
    "        prev_digit = None\n",
    "        for digit in s:\n",
    "            if prev_digit == digit:\n",
    "                rec1 += 1\n",
    "                if rec2 >= rec1:\n",
    "                    count += 1\n",
    "            else:\n",
    "                rec2 = rec1\n",
    "                rec1 = 1\n",
    "                count += 1\n",
    "            prev_digit = digit\n",
    "        return count"
   ]
  }
 ],
 "metadata": {
  "kernelspec": {
   "display_name": "Python 3",
   "language": "python",
   "name": "python3"
  },
  "language_info": {
   "codemirror_mode": {
    "name": "ipython",
    "version": 3
   },
   "file_extension": ".py",
   "mimetype": "text/x-python",
   "name": "python",
   "nbconvert_exporter": "python",
   "pygments_lexer": "ipython3",
   "version": "3.7.1"
  }
 },
 "nbformat": 4,
 "nbformat_minor": 2
}
