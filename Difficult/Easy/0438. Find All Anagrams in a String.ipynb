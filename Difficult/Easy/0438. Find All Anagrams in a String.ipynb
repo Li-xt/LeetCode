{
 "cells": [
  {
   "cell_type": "markdown",
   "metadata": {},
   "source": [
    "Solution_1 : "
   ]
  },
  {
   "cell_type": "code",
   "execution_count": 9,
   "metadata": {},
   "outputs": [],
   "source": [
    "class Solution(object):\n",
    "    def findAnagrams(self, s, p):\n",
    "        \"\"\"\n",
    "        :type s: str\n",
    "        :type p: str\n",
    "        :rtype: List[int]\n",
    "        \"\"\"\n",
    "        m = [0] * 26\n",
    "        result = []\n",
    "        for c in p:\n",
    "            m[ord(c) - 97] += 1\n",
    "        current = [0] * 26\n",
    "        length = len(p)\n",
    "        for i, c in enumerate(s):\n",
    "            current[ord(c) - 97] += 1\n",
    "            if i >= length:\n",
    "                current[ord(s[i - length]) - 97] -= 1\n",
    "            if current == m:\n",
    "                result.append(i - length + 1)\n",
    "        return result"
   ]
  },
  {
   "cell_type": "markdown",
   "metadata": {},
   "source": [
    "Solution_2 : "
   ]
  },
  {
   "cell_type": "code",
   "execution_count": 11,
   "metadata": {},
   "outputs": [],
   "source": [
    "class Solution(object):\n",
    "    \"\"\"\n",
    "    use python hash function\n",
    "    \"\"\"\n",
    "    def findAnagrams(self, s, p):\n",
    "        result = []\n",
    "        if len(s)  < len(p):\n",
    "            return result\n",
    "        hash_s, hash_p = 0, 0\n",
    "        for i in range(len(p)):\n",
    "            hash_s += hash(s[i])\n",
    "            hash_p += hash(p[i])\n",
    "        if hash_s == hash_p:\n",
    "            result.append(0)\n",
    "        for right in range(len(p), len(s)):\n",
    "            hash_s += hash(s[right]) - hash(s[right-len(p)])\n",
    "            if hash_s == hash_p:\n",
    "                result.append(right - len(p) + 1)\n",
    "        return result"
   ]
  }
 ],
 "metadata": {
  "kernelspec": {
   "display_name": "Python 3",
   "language": "python",
   "name": "python3"
  },
  "language_info": {
   "codemirror_mode": {
    "name": "ipython",
    "version": 3
   },
   "file_extension": ".py",
   "mimetype": "text/x-python",
   "name": "python",
   "nbconvert_exporter": "python",
   "pygments_lexer": "ipython3",
   "version": "3.7.1"
  }
 },
 "nbformat": 4,
 "nbformat_minor": 2
}
