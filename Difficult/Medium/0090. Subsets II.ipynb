{
 "cells": [
  {
   "cell_type": "code",
   "execution_count": null,
   "metadata": {},
   "outputs": [],
   "source": [
    "Solution_1 :"
   ]
  },
  {
   "cell_type": "code",
   "execution_count": null,
   "metadata": {},
   "outputs": [],
   "source": [
    "class Solution:\n",
    "    def subsetsWithDup(self, nums) :\n",
    "        nums.sort()\n",
    "        combinations = []\n",
    "        self.dfs(nums, 0, [], combinations)\n",
    "        return combinations\n",
    "        \n",
    "    def dfs(self, nums, index, combination, combinations):\n",
    "        combinations.append(list(combination))\n",
    "        \n",
    "        for i in range(index, len(nums)):\n",
    "            if i != index and nums[i] ==nums[i-1]:\n",
    "                continue\n",
    "            combination.append(nums[i])\n",
    "            self.dfs(nums, i + 1, combination, combinations)\n",
    "            combination.pop()\n",
    "        "
   ]
  }
 ],
 "metadata": {
  "kernelspec": {
   "display_name": "Python 3",
   "language": "python",
   "name": "python3"
  },
  "language_info": {
   "codemirror_mode": {
    "name": "ipython",
    "version": 3
   },
   "file_extension": ".py",
   "mimetype": "text/x-python",
   "name": "python",
   "nbconvert_exporter": "python",
   "pygments_lexer": "ipython3",
   "version": "3.7.1"
  }
 },
 "nbformat": 4,
 "nbformat_minor": 4
}
