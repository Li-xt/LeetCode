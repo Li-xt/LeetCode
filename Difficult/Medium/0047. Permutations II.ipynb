{
 "cells": [
  {
   "cell_type": "markdown",
   "metadata": {},
   "source": [
    "Solution_1 :"
   ]
  },
  {
   "cell_type": "code",
   "execution_count": 1,
   "metadata": {},
   "outputs": [],
   "source": [
    "from itertools import permutations\n",
    "class Solution:\n",
    "    def permuteUnique(self, nums) :\n",
    "        return list(set(permutations(nums)))"
   ]
  },
  {
   "cell_type": "markdown",
   "metadata": {},
   "source": [
    "Solution_2 :"
   ]
  },
  {
   "cell_type": "code",
   "execution_count": 8,
   "metadata": {},
   "outputs": [],
   "source": [
    "class Solution:\n",
    "    def permuteUnique(self, nums):\n",
    "        nums.sort()\n",
    "        if not nums: return []\n",
    "        ans = [[]]\n",
    "        for n in nums:\n",
    "            n_ans = []\n",
    "            for a in ans:\n",
    "                for i in range(len(a) + 1):\n",
    "                    if i > 0 and n == a[i - 1]: break\n",
    "                    print (a,n)\n",
    "                    n_ans.append(a[:i] + [n] + a[i:])\n",
    "                    print (n_ans)\n",
    "            ans = n_ans\n",
    "        return ans"
   ]
  }
 ],
 "metadata": {
  "kernelspec": {
   "display_name": "Python 3",
   "language": "python",
   "name": "python3"
  },
  "language_info": {
   "codemirror_mode": {
    "name": "ipython",
    "version": 3
   },
   "file_extension": ".py",
   "mimetype": "text/x-python",
   "name": "python",
   "nbconvert_exporter": "python",
   "pygments_lexer": "ipython3",
   "version": "3.7.1"
  }
 },
 "nbformat": 4,
 "nbformat_minor": 2
}
