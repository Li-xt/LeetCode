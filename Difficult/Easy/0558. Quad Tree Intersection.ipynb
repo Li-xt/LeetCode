{
 "cells": [
  {
   "cell_type": "markdown",
   "metadata": {},
   "source": [
    "Solution_1 : "
   ]
  },
  {
   "cell_type": "code",
   "execution_count": 1,
   "metadata": {},
   "outputs": [],
   "source": [
    "\"\"\"\n",
    "# Definition for a QuadTree node.\n",
    "class Node(object):\n",
    "    def __init__(self, val, isLeaf, topLeft, topRight, bottomLeft, bottomRight):\n",
    "        self.val = val\n",
    "        self.isLeaf = isLeaf\n",
    "        self.topLeft = topLeft\n",
    "        self.topRight = topRight\n",
    "        self.bottomLeft = bottomLeft\n",
    "        self.bottomRight = bottomRight\n",
    "\"\"\"\n",
    "class Solution(object):\n",
    "    def intersect(self, q1, q2):\n",
    "        if q1.isLeaf:\n",
    "            return q1 if q1.val else q2\n",
    "        if q2.isLeaf:\n",
    "            return q2 if q2.val else q1\n",
    "        \n",
    "        q1.topLeft = self.intersect(q1.topLeft, q2.topLeft)\n",
    "        q1.topRight = self.intersect(q1.topRight, q2.topRight)\n",
    "        q1.bottomLeft = self.intersect(q1.bottomLeft, q2.bottomLeft)\n",
    "        q1.bottomRight = self.intersect(q1.bottomRight, q2.bottomRight)\n",
    "        q1.val = False \n",
    "        \n",
    "        if q1.topLeft.isLeaf and q1.topRight.isLeaf and q1.bottomLeft.isLeaf and q1.bottomRight.isLeaf:\n",
    "            if q1.topLeft.val == q1.topRight.val == q1.bottomLeft.val == q1.bottomRight.val:\n",
    "                q1.isLeaf = True\n",
    "                q1.val = q1.topLeft.val\n",
    "        return q1\n"
   ]
  },
  {
   "cell_type": "markdown",
   "metadata": {},
   "source": [
    "Solution_2 : "
   ]
  },
  {
   "cell_type": "code",
   "execution_count": null,
   "metadata": {},
   "outputs": [],
   "source": [
    "\"\"\"\n",
    "# Definition for a QuadTree node.\n",
    "class Node(object):\n",
    "    def __init__(self, val, isLeaf, topLeft, topRight, bottomLeft, bottomRight):\n",
    "        self.val = val\n",
    "        self.isLeaf = isLeaf\n",
    "        self.topLeft = topLeft\n",
    "        self.topRight = topRight\n",
    "        self.bottomLeft = bottomLeft\n",
    "        self.bottomRight = bottomRight\n",
    "\"\"\"\n",
    "\n",
    "class Solution:\n",
    "    def intersect(self, quadTree1: 'Node', quadTree2: 'Node') -> 'Node':\n",
    "        if not quadTree1 or not quadTree2:\n",
    "            return None\n",
    "        st = [[quadTree1, quadTree2]]\n",
    "        while st:\n",
    "            tree1, tree2 = st.pop()\n",
    "            if tree2:\n",
    "                if tree1.isLeaf:\n",
    "                    if tree2.isLeaf:\n",
    "                        tree1.isLeaf = True\n",
    "                        tree1.val = tree1.val or tree2.val\n",
    "                    elif not tree1.val:\n",
    "                        tree1.isLeaf = False\n",
    "                        tree1.topLeft = tree2.topLeft\n",
    "                        tree1.topRight = tree2.topRight\n",
    "                        tree1.bottomLeft = tree2.bottomLeft\n",
    "                        tree1.bottomRight = tree2.bottomRight\n",
    "                elif tree2.isLeaf:\n",
    "                    if tree2.val:\n",
    "                        tree1.isLeaf = True\n",
    "                        tree1.val = True\n",
    "                        tree1.topLeft = None\n",
    "                        tree1.topRight = None\n",
    "                        tree1.bottomLeft = None\n",
    "                        tree1.bottomRight = None\n",
    "                else:\n",
    "                    st.append([tree1, None])   # for merging sub nodes\n",
    "                    st.append([tree1.topLeft, tree2.topLeft])\n",
    "                    st.append([tree1.topRight, tree2.topRight])\n",
    "                    st.append([tree1.bottomLeft, tree2.bottomLeft])\n",
    "                    st.append([tree1.bottomRight, tree2.bottomRight])\n",
    "            else: # merge sub nodes\n",
    "                if tree1.topLeft.isLeaf and tree1.topRight.isLeaf and tree1.bottomLeft.isLeaf and tree1.bottomRight.isLeaf:\n",
    "                    if tree1.topLeft.val == tree1.topRight.val == tree1.bottomLeft.val == tree1.bottomRight.val:\n",
    "                        tree1.isLeaf = True\n",
    "                        tree1.val = tree1.topLeft.val\n",
    "                        tree1.topLeft = None\n",
    "                        tree1.topRight = None\n",
    "                        tree1.bottomLeft = None\n",
    "                        tree1.bottomRight = None\n",
    "        return quadTree1"
   ]
  }
 ],
 "metadata": {
  "kernelspec": {
   "display_name": "Python 3",
   "language": "python",
   "name": "python3"
  },
  "language_info": {
   "codemirror_mode": {
    "name": "ipython",
    "version": 3
   },
   "file_extension": ".py",
   "mimetype": "text/x-python",
   "name": "python",
   "nbconvert_exporter": "python",
   "pygments_lexer": "ipython3",
   "version": "3.7.1"
  }
 },
 "nbformat": 4,
 "nbformat_minor": 2
}
