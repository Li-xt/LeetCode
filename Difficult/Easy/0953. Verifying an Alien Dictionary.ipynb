{
 "cells": [
  {
   "cell_type": "markdown",
   "metadata": {},
   "source": [
    "Solution_1 :"
   ]
  },
  {
   "cell_type": "code",
   "execution_count": 11,
   "metadata": {},
   "outputs": [],
   "source": [
    "class Solution(object):\n",
    "    def isAlienSorted(self, words, order):\n",
    "        \"\"\"\n",
    "        :type words: List[str]\n",
    "        :type order: str\n",
    "        :rtype: bool\n",
    "        \"\"\"\n",
    "        N = len(words)\n",
    "        d = {c : i for i, c in enumerate(order)}\n",
    "        for i in range(N - 1):\n",
    "            pre, after = words[i], words[i + 1]\n",
    "            if pre == after: continue\n",
    "            _len = min(len(pre), len(after))\n",
    "            for j in range(_len):\n",
    "                if d[pre[j]] < d[after[j]]:\n",
    "                    break\n",
    "                elif d[pre[j]] > d[after[j]]:\n",
    "                    return False\n",
    "            if len(pre) > len(after) and pre[:_len] == after:\n",
    "                return False\n",
    "        return True\n"
   ]
  },
  {
   "cell_type": "markdown",
   "metadata": {},
   "source": [
    "Solution_2 :"
   ]
  },
  {
   "cell_type": "code",
   "execution_count": 13,
   "metadata": {},
   "outputs": [],
   "source": [
    "class Solution(object):\n",
    "    def isAlienSorted(self, words, order):\n",
    "        \"\"\"\n",
    "        :type words: List[str]\n",
    "        :type order: str\n",
    "        :rtype: bool\n",
    "        \"\"\"\n",
    "        d1 = {c : i for i, c in enumerate(order)}\n",
    "        d2 = {i : c for i, c in enumerate('abcdefghijklmnopqrstuvwxyz')}\n",
    "        words_new = [] \n",
    "        for word in words:\n",
    "            word_new = ''.join([d2[d1[x]] for x in  word] )\n",
    "            words_new.append( word_new )\n",
    "            \n",
    "        return words_new == sorted(words_new)"
   ]
  }
 ],
 "metadata": {
  "kernelspec": {
   "display_name": "Python 3",
   "language": "python",
   "name": "python3"
  },
  "language_info": {
   "codemirror_mode": {
    "name": "ipython",
    "version": 3
   },
   "file_extension": ".py",
   "mimetype": "text/x-python",
   "name": "python",
   "nbconvert_exporter": "python",
   "pygments_lexer": "ipython3",
   "version": "3.7.1"
  }
 },
 "nbformat": 4,
 "nbformat_minor": 2
}
