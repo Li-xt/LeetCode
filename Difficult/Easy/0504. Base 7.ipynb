{
 "cells": [
  {
   "cell_type": "markdown",
   "metadata": {},
   "source": [
    "Solution_1 : "
   ]
  },
  {
   "cell_type": "code",
   "execution_count": null,
   "metadata": {},
   "outputs": [],
   "source": [
    "class Solution:\n",
    "    def convertToBase7(self, num: int) -> str:\n",
    "\n",
    "    \n",
    "        if num == 0: \n",
    "            return '0'\n",
    "        \n",
    "        new_num = abs(num)\n",
    "        \n",
    "        result ='' \n",
    "        \n",
    "        while new_num:\n",
    "            result = str(new_num%7)+ result \n",
    "            new_num = new_num // 7 \n",
    "            \n",
    "        return result if num>0 else '-'+ result"
   ]
  },
  {
   "cell_type": "markdown",
   "metadata": {},
   "source": [
    "Solution_2 :"
   ]
  },
  {
   "cell_type": "code",
   "execution_count": 1,
   "metadata": {},
   "outputs": [],
   "source": [
    "class Solution:\n",
    "    def convertToBase7(self, num):\n",
    "        subs = False\n",
    "        if num < 0:\n",
    "            subs = True\n",
    "            num = abs(num)\n",
    "        def base7(x):\n",
    "            if x < 7:\n",
    "                return str(x)\n",
    "            else:\n",
    "                return str(base7(x//7))+str(x%7)\n",
    "        if subs:\n",
    "            return '-' + base7(num)\n",
    "        return base7(num)"
   ]
  },
  {
   "cell_type": "code",
   "execution_count": null,
   "metadata": {},
   "outputs": [],
   "source": []
  }
 ],
 "metadata": {
  "kernelspec": {
   "display_name": "Python 3",
   "language": "python",
   "name": "python3"
  },
  "language_info": {
   "codemirror_mode": {
    "name": "ipython",
    "version": 3
   },
   "file_extension": ".py",
   "mimetype": "text/x-python",
   "name": "python",
   "nbconvert_exporter": "python",
   "pygments_lexer": "ipython3",
   "version": "3.7.1"
  }
 },
 "nbformat": 4,
 "nbformat_minor": 2
}
