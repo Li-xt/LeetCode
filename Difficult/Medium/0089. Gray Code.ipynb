{
 "cells": [
  {
   "cell_type": "markdown",
   "metadata": {},
   "source": [
    "Solution_1 :"
   ]
  },
  {
   "cell_type": "code",
   "execution_count": null,
   "metadata": {},
   "outputs": [],
   "source": [
    "class Solution(object):\n",
    "    def grayCode(self, n):\n",
    "        \"\"\"\n",
    "        :type n: int\n",
    "        :rtype: List[int]\n",
    "        \"\"\"\n",
    "        grays = dict()\n",
    "        grays[0] = ['0']\n",
    "        grays[1] = ['0', '1']\n",
    "        for i in range(2, n + 1):\n",
    "            n_gray = []\n",
    "            for pre in grays[i - 1]:\n",
    "                n_gray.append('0' + pre)\n",
    "            for pre in grays[i - 1][::-1]:\n",
    "                n_gray.append('1' + pre)\n",
    "            grays[i] = n_gray\n",
    "        return map(lambda x: int(x, 2), grays[n])\n"
   ]
  }
 ],
 "metadata": {
  "kernelspec": {
   "display_name": "Python 3",
   "language": "python",
   "name": "python3"
  },
  "language_info": {
   "codemirror_mode": {
    "name": "ipython",
    "version": 3
   },
   "file_extension": ".py",
   "mimetype": "text/x-python",
   "name": "python",
   "nbconvert_exporter": "python",
   "pygments_lexer": "ipython3",
   "version": "3.7.1"
  }
 },
 "nbformat": 4,
 "nbformat_minor": 4
}
